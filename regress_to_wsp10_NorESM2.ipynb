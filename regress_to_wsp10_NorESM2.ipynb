{
 "cells": [
  {
   "cell_type": "code",
   "execution_count": 1,
   "id": "194973c0-1616-4900-b423-5f9e23c0a28d",
   "metadata": {},
   "outputs": [],
   "source": [
    "# To add a new cell, type '# %%'\n",
    "# To add a new markdown cell, type '# %% [markdown]'\n",
    "# %%\n",
    "import iris\n",
    "import numpy as np\n",
    "import sys\n",
    "sys.path.append('/pf/b/b381639/Analysis')\n",
    "import fxtian_function as fx\n",
    "from iris.time import PartialDateTime\n",
    "import datetime\n",
    "import cf_units\n",
    "import iris.coord_categorisation\n",
    "import iris.quickplot as qplt\n",
    "import matplotlib.pyplot as plt\n",
    "import numpy as np\n",
    "import xarray as ar\n",
    "\n",
    "# %% list of data to read in\n",
    "def data_dict(myid):\n",
    "    if myid == 'sst':\n",
    "        mydict = {\n",
    "            'indir': '/work/bb1153/b381639/NorESM2',\n",
    "            'infile': '/work/bb1153/b381639/NorESM2/tos_Oday_NorESM2-LM_historical_r3i1p1f1_gn_2010_tropical_ocean.nc',\n",
    "            'key': iris.Constraint(cube_func=(lambda c: c.var_name == 'tos'))\n",
    "        }\n",
    "    if myid == 'wsp10':\n",
    "        mydict = {\n",
    "            'indir': '/work/bb1153/b381639/NorESM2',\n",
    "            'infile': '/work/bb1153/b381639/NorESM2/sfcWind_day_NorESM2-LM_historical_r3i1p1f1_gn_2010_tropical_ocean.nc',\n",
    "            'key': iris.Constraint(cube_func=(lambda c: c.var_name == 'sfcWind'))\n",
    "        }\n",
    "    elif myid == 'slhf':\n",
    "        mydict = {\n",
    "            'indir': '/work/bb1153/b381639/NorESM2',\n",
    "            'infile': '/work/bb1153/b381639/NorESM2/hfls_day_NorESM2-LM_historical_r3i1p1f1_gn_2010_tropical_ocean.nc',\n",
    "            'key': iris.Constraint(cube_func=(lambda c: c.var_name == 'hfls'))\n",
    "        }\n",
    "\n",
    "    elif myid == 'sshf':\n",
    "        mydict = {\n",
    "            'indir': '/work/bb1153/b381639/NorESM2',\n",
    "            'infile': '/work/bb1153/b381639/NorESM2/hfss_day_NorESM2-LM_historical_r3i1p1f1_gn_2010_tropical_ocean.nc',\n",
    "            'key': iris.Constraint(cube_func=(lambda c: c.var_name == 'hfss'))\n",
    "        }\n",
    "\n",
    "    return(mydict)\n",
    "####################"
   ]
  },
  {
   "cell_type": "code",
   "execution_count": 6,
   "id": "b284868b-907b-4b02-80cb-d8c07fd512c6",
   "metadata": {},
   "outputs": [
    {
     "name": "stdout",
     "output_type": "stream",
     "text": [
      "--> slhf\n",
      "--> wsp10\n"
     ]
    },
    {
     "name": "stderr",
     "output_type": "stream",
     "text": [
      "/sw/spack-levante/mambaforge-4.11.0-0-Linux-x86_64-sobz6z/lib/python3.9/site-packages/iris/fileformats/cf.py:859: UserWarning: Missing CF-netCDF measure variable 'areacella', referenced by netCDF variable 'hfls'\n",
      "  warnings.warn(\n",
      "/sw/spack-levante/mambaforge-4.11.0-0-Linux-x86_64-sobz6z/lib/python3.9/site-packages/iris/fileformats/cf.py:859: UserWarning: Missing CF-netCDF measure variable 'areacella', referenced by netCDF variable 'sfcWind'\n",
      "  warnings.warn(\n"
     ]
    }
   ],
   "source": [
    "####################\n",
    "## create correct time cubelist to save output data\n",
    "cubelist_ct = iris.cube.CubeList()\n",
    "\n",
    "##readin sfcwind\n",
    "datasets=['slhf','wsp10']  #['ERAI']  # ['u-bt405','u-bt406','u-bm213','u-be034','u-bd818']\n",
    "for my_dataset in datasets:\n",
    "    print('--> '+my_dataset)\n",
    "    mydict = data_dict(my_dataset)\n",
    "    datain = iris.load_cube(mydict['infile'],mydict['key'])\n",
    "#    data_time= fx.correct_time(datain)\n",
    "\n",
    "    cubelist_ct.append(datain)\n",
    "#############################"
   ]
  },
  {
   "cell_type": "code",
   "execution_count": 7,
   "id": "2a780a55-ed77-435c-9602-b4fe3cdccac8",
   "metadata": {},
   "outputs": [],
   "source": [
    "#############################\n",
    "##select region covers EURE4A\n",
    "#############################\n",
    "left = 0\n",
    "right =360\n",
    "bottom = -20\n",
    "top = 20\n",
    "y=fx.selregion(cubelist_ct[0],bottom,top,left,right)\n",
    "x=fx.selregion(cubelist_ct[1],bottom,top,left,right)\n",
    "\n",
    "# j/m2 to w/m2, upward is positive\n",
    "\n",
    "y.data=y.data\n",
    "\n",
    "x.data[x.data==0]=np.nan\n",
    "y.data[y.data==0]=np.nan\n",
    "x.data = x.data.filled(fill_value=np.nan)\n",
    "y.data = y.data.filled(fill_value=np.nan)\n",
    "\n",
    "\n"
   ]
  },
  {
   "cell_type": "code",
   "execution_count": null,
   "id": "494cb518-39ca-4e3f-be6b-439ea9b4e3fa",
   "metadata": {},
   "outputs": [],
   "source": []
  },
  {
   "cell_type": "code",
   "execution_count": 8,
   "id": "d7e3a0da-99e7-42ed-822f-16489633f07b",
   "metadata": {},
   "outputs": [],
   "source": [
    "regyonx=fx.regress_yonx(x,y)"
   ]
  },
  {
   "cell_type": "code",
   "execution_count": 9,
   "id": "b00f1d1f-69af-4ace-bae0-6cf4b97565c1",
   "metadata": {},
   "outputs": [],
   "source": [
    "iris.save(regyonx,mydict['indir']+'/regress_slhf_wsp10_NorESM2.nc')"
   ]
  },
  {
   "cell_type": "code",
   "execution_count": null,
   "id": "a99dbfa7-881c-4953-9a44-1d3d1cb509dc",
   "metadata": {},
   "outputs": [],
   "source": []
  }
 ],
 "metadata": {
  "kernelspec": {
   "display_name": "Python 3 (based on the module python3/2022.01)",
   "language": "python",
   "name": "python3_2022_01"
  },
  "language_info": {
   "codemirror_mode": {
    "name": "ipython",
    "version": 3
   },
   "file_extension": ".py",
   "mimetype": "text/x-python",
   "name": "python",
   "nbconvert_exporter": "python",
   "pygments_lexer": "ipython3",
   "version": "3.9.9"
  }
 },
 "nbformat": 4,
 "nbformat_minor": 5
}
