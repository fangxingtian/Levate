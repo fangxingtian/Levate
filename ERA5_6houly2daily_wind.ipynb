{
 "cells": [
  {
   "cell_type": "code",
   "execution_count": 4,
   "metadata": {},
   "outputs": [],
   "source": [
    "import xarray as xr                                                    # import xarray library\n",
    "ds_nc = xr.open_dataset('/work/bb1153/b381639/ERA5/v10_2020-2021.nc')  # read the file"
   ]
  },
  {
   "cell_type": "code",
   "execution_count": 3,
   "metadata": {},
   "outputs": [],
   "source": [
    "daily_precipitation = ds_nc.v10.resample(time='24H').mean('time')   # calculate sum with frequency of 24h and multiply by 1000\n",
    "daily_precipitation.to_netcdf('/work/bb1153/b381639/ERA5/v10_2020-2021_daily.nc')    # save as netCDF"
   ]
  },
  {
   "cell_type": "code",
   "execution_count": null,
   "metadata": {},
   "outputs": [],
   "source": []
  }
 ],
 "metadata": {
  "kernelspec": {
   "display_name": "Python 3 (based on the module python3/2022.01)",
   "language": "python",
   "name": "python3_2022_01"
  },
  "language_info": {
   "codemirror_mode": {
    "name": "ipython",
    "version": 3
   },
   "file_extension": ".py",
   "mimetype": "text/x-python",
   "name": "python",
   "nbconvert_exporter": "python",
   "pygments_lexer": "ipython3",
   "version": "3.9.9"
  }
 },
 "nbformat": 4,
 "nbformat_minor": 4
}
