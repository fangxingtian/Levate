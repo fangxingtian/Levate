{
 "cells": [
  {
   "cell_type": "code",
   "execution_count": 1,
   "id": "c52039aa-7c40-42a2-b41d-31afbdf4c472",
   "metadata": {},
   "outputs": [],
   "source": [
    "# basics\n",
    "import intake\n",
    "import xarray as xr\n",
    "import dask  # memory-efficient parallel computation and delayed execution (lazy evaluation).\n",
    "import subprocess as sp"
   ]
  },
  {
   "cell_type": "code",
   "execution_count": null,
   "id": "485d221c-800e-46fb-a704-aa1825aa2403",
   "metadata": {},
   "outputs": [],
   "source": []
  },
  {
   "cell_type": "code",
   "execution_count": null,
   "id": "386bdf11-2259-4b3d-befc-74ef31021815",
   "metadata": {},
   "outputs": [],
   "source": []
  },
  {
   "cell_type": "code",
   "execution_count": null,
   "id": "c607de70-1824-4537-96f3-ff9e26287d47",
   "metadata": {},
   "outputs": [],
   "source": []
  },
  {
   "cell_type": "code",
   "execution_count": null,
   "id": "b8a87d42-6093-4b16-b4a9-28dc7cc68159",
   "metadata": {},
   "outputs": [],
   "source": []
  },
  {
   "cell_type": "code",
   "execution_count": null,
   "id": "9bb75951-53df-48d4-addf-cfc29a574139",
   "metadata": {},
   "outputs": [],
   "source": []
  },
  {
   "cell_type": "code",
   "execution_count": null,
   "id": "4d5c84a0-df37-40f2-a5a0-543029566270",
   "metadata": {},
   "outputs": [],
   "source": []
  },
  {
   "cell_type": "code",
   "execution_count": null,
   "id": "78040ded-b008-40d0-9eeb-32a7babdb8e6",
   "metadata": {},
   "outputs": [],
   "source": []
  },
  {
   "cell_type": "code",
   "execution_count": null,
   "id": "4916bb99-29e8-4a57-894e-cdbc85b7f1aa",
   "metadata": {},
   "outputs": [],
   "source": []
  },
  {
   "cell_type": "code",
   "execution_count": null,
   "id": "ca558fe2-1c27-4b49-b376-0c7bf8878330",
   "metadata": {},
   "outputs": [],
   "source": []
  },
  {
   "cell_type": "code",
   "execution_count": 14,
   "id": "ddf663d7-2d83-43e4-b659-2ba14f7d475f",
   "metadata": {},
   "outputs": [
    {
     "name": "stdout",
     "output_type": "stream",
     "text": [
      "['cdo', '-P', '4', '-remapcon,r360x180', '-timmean', '-sellonlatbox,0,360,-30,30', '-cat', '-apply,-selname,ts', '[', '/work/bm1235/k203123/quickplots/ngc2009/timmean_monmean_ngc2009_APR_2021-1x1_atm_2d_ml.nc', '/work/bm1235/k203123/quickplots/ngc2009/timmean_monmean_ngc2009_AUG_2021-1x1_atm_2d_ml.nc', '/work/bm1235/k203123/quickplots/ngc2009/timmean_monmean_ngc2009_DEC_2020-1x1_atm_2d_ml.nc', '/work/bm1235/k203123/quickplots/ngc2009/timmean_monmean_ngc2009_DEC_2021-1x1_atm_2d_ml.nc', '/work/bm1235/k203123/quickplots/ngc2009/timmean_monmean_ngc2009_FEB_2021-1x1_atm_2d_ml.nc', '/work/bm1235/k203123/quickplots/ngc2009/timmean_monmean_ngc2009_FEB_2022-1x1_atm_2d_ml.nc', '/work/bm1235/k203123/quickplots/ngc2009/timmean_monmean_ngc2009_JAN_2021-1x1_atm_2d_ml.nc', '/work/bm1235/k203123/quickplots/ngc2009/timmean_monmean_ngc2009_JAN_2022-1x1_atm_2d_ml.nc', '/work/bm1235/k203123/quickplots/ngc2009/timmean_monmean_ngc2009_JUL_2021-1x1_atm_2d_ml.nc', '/work/bm1235/k203123/quickplots/ngc2009/timmean_monmean_ngc2009_JUN_2021-1x1_atm_2d_ml.nc', ']', '/scratch/b/b381639/intake_demo_data/ts_timmean_ngc2009.nc']\n"
     ]
    },
    {
     "name": "stderr",
     "output_type": "stream",
     "text": [
      "cdo(1) timmean: Process started\n",
      "cdo(2) sellonlatbox: Process started\n",
      "cdo(3) cat: Process started\n",
      "cdo(4) selname: Process started\n",
      "cdo(5) selname: Process started\n",
      "cdo(6) selname: Process started\n",
      "cdo(7) selname: Process started\n",
      "cdo(8) selname: Process started\n",
      "cdo(9) selname: Process started\n",
      "cdo(10) selname: Process started\n",
      "cdo(11) selname: Process started\n",
      "cdo(12) selname: Process started\n",
      "cdo(13) selname: Process started\n",
      "cdo(4) selname: Processed 64800 values from 35 variables over 1 timestep.\n",
      "cdo(5) selname: Processed 64800 values from 35 variables over 1 timestep.\n",
      "cdo(6) selname: Processed 64800 values from 34 variables over 1 timestep.\n",
      "cdo(7) selname: Processed 64800 values from 35 variables over 1 timestep.\n",
      "cdo(8) selname: Processed 64800 values from 35 variables over 1 timestep.\n",
      "cdo(9) selname: Processed 64800 values from 35 variables over 1 timestep.\n",
      "cdo(10) selname: Processed 64800 values from 34 variables over 1 timestep.\n",
      "cdo(11) selname: Processed 64800 values from 35 variables over 1 timestep.\n",
      "cdo(12) selname: Processed 64800 values from 35 variables over 1 timestep.\n",
      "cdo(13) selname: Processed 64800 values from 35 variables over 1 timestep.\n",
      "cdo    remapcon: YAC first order conservative weights from lonlat (360x60) to lonlat (360x180) grid\n",
      "cdo(3) cat: Processed 648000 values from 10 variables over 10 timesteps.\n",
      "cdo(2) sellonlatbox: Processed 648000 values from 1 variable over 10 timesteps.\n",
      "cdo(1) timmean: Processed 216000 values from 1 variable over 10 timesteps.\n",
      "cdo    remapcon: Processed 21600 values from 1 variable over 1 timestep [0.44s 1311MB].\n"
     ]
    },
    {
     "name": "stdout",
     "output_type": "stream",
     "text": [
      "['cdo', '-P', '4', '-remapcon,r360x180', '-timmean', '-sellonlatbox,0,360,-30,30', '-cat', '-apply,-selname,ts', '[', '/work/bm1235/k203123/experiments/ngc2012/run_20200201T000000-20200531T235830/ngc2012_atm_2d_1mth_mean_20200301T000000Z.nc', '/work/bm1235/k203123/experiments/ngc2012/run_20200201T000000-20200531T235830/ngc2012_atm_2d_1mth_mean_20200401T000000Z.nc', '/work/bm1235/k203123/experiments/ngc2012/run_20200201T000000-20200531T235830/ngc2012_atm_2d_1mth_mean_20200501T000000Z.nc', '/work/bm1235/k203123/experiments/ngc2012/run_20200201T000000-20200531T235830/ngc2012_atm_2d_1mth_mean_20200601T000000Z.nc', '/work/bm1235/k203123/experiments/ngc2012/run_20200601T000000-20200930T235830/ngc2012_atm_2d_1mth_mean_20200701T000000Z.nc', '/work/bm1235/k203123/experiments/ngc2012/run_20200601T000000-20200930T235830/ngc2012_atm_2d_1mth_mean_20200801T000000Z.nc', '/work/bm1235/k203123/experiments/ngc2012/run_20200601T000000-20200930T235830/ngc2012_atm_2d_1mth_mean_20200901T000000Z.nc', '/work/bm1235/k203123/experiments/ngc2012/run_20200601T000000-20200930T235830/ngc2012_atm_2d_1mth_mean_20201001T000000Z.nc', '/work/bm1235/k203123/experiments/ngc2012/run_20201001T000000-20210131T235830/ngc2012_atm_2d_1mth_mean_20201101T000000Z.nc', '/work/bm1235/k203123/experiments/ngc2012/run_20201001T000000-20210131T235830/ngc2012_atm_2d_1mth_mean_20201201T000000Z.nc', ']', '/scratch/b/b381639/intake_demo_data/ts_timmean_ngc2012.nc']\n"
     ]
    },
    {
     "name": "stderr",
     "output_type": "stream",
     "text": [
      "cdo(1) timmean: Process started\n",
      "cdo(2) sellonlatbox: Process started\n",
      "cdo(3) cat: Process started\n",
      "cdo(4) selname: Process started\n",
      "cdo(5) selname: Process started\n",
      "cdo(6) selname: Process started\n",
      "cdo(7) selname: Process started\n",
      "cdo(8) selname: Process started\n",
      "cdo(9) selname: Process started\n",
      "cdo(10) selname: Process started\n",
      "cdo(11) selname: Process started\n",
      "cdo(12) selname: Process started\n",
      "cdo(13) selname: Process started\n"
     ]
    }
   ],
   "source": [
    "%run gem_helpers.ipynb\n",
    "\n",
    "uid = getpass.getuser()\n",
    "image_path = make_tempdir(\"intake_demo_plots\")\n",
    "data_cache_path = make_tempdir(\"intake_demo_data\")\n",
    "\n",
    "# this function is also part of the gem helpers\n",
    "def get_list_from_cat(catalog, column):\n",
    "    \"\"\"A helper function for getting the contents of a column in an intake catalog.\n",
    "\n",
    "    Call with the catalog to be inspected and the column of interest.\"\"\"\n",
    "    return sorted(catalog.unique(column)[column][\"values\"])\n",
    "\n",
    "catalog_file = \"/work/ka1081/Catalogs/dyamond-nextgems.json\"\n",
    "cat = intake.open_esm_datastore(catalog_file)\n",
    "\n",
    "#cat\n",
    "\n",
    "#var = \"tas\"\n",
    "var = \"ts\"\n",
    "hits = cat.search(simulation_id=[\"ngc2009\", \"ngc2012\"], variable_id=[var],frequency=\"1month\")\n",
    "\n",
    "#get_from_cat(hits,[\"grid_label\",\"grid_id\",\"simulation_id\", \"variable_id\"])\n",
    "\n",
    "file_cat = {}\n",
    "#for simulation_id in (\"ngc2009\", \"ngc2012\"):\n",
    "for simulation_id in (\"ngc2009\",\"ngc2012\"):\n",
    "    file_cat[simulation_id] = get_list_from_cat(\n",
    "        hits.search(simulation_id=simulation_id), \"uri\"\n",
    "    )\n",
    "\n",
    "outfile_dict = {}\n",
    "for simulation_id, files in file_cat.items():\n",
    "    outfile = f\"{data_cache_path}/{var}_timmean_{simulation_id}.nc\"\n",
    "    if True: # not os.access(outfile, os.R_OK):\n",
    "        query = (\n",
    "            [\n",
    "                \"cdo\",\n",
    "                \"-P\",\n",
    "                \"4\",\n",
    "                \"-remapcon,r360x180\",\n",
    "                \"-timmean\",\n",
    "                \"-sellonlatbox,0,360,-30,30\",\n",
    "                \"-cat\",\n",
    "                f\"-apply,-selname,{var}\",\n",
    "                \"[\",\n",
    "            ]\n",
    "            + files[:10]\n",
    "            + [\"]\", outfile]\n",
    "        )\n",
    "        # Note, we only use the first 10 files to save time (the [:10] in files[:10]). Remove the [:10] to compute over the whole experiment.\n",
    "        print(query)\n",
    "        sp.run(query)\n",
    "    outfile_dict[simulation_id] = outfile"
   ]
  },
  {
   "cell_type": "code",
   "execution_count": null,
   "id": "fdac4518-eb70-4d17-b14a-4740285f56be",
   "metadata": {},
   "outputs": [],
   "source": []
  },
  {
   "cell_type": "code",
   "execution_count": null,
   "id": "0979fcae-db54-4a1d-aecc-ff66b91b3328",
   "metadata": {},
   "outputs": [],
   "source": []
  },
  {
   "cell_type": "code",
   "execution_count": null,
   "id": "416b5c66-9a6d-41ac-80c2-52a7fd7abf45",
   "metadata": {},
   "outputs": [],
   "source": []
  },
  {
   "cell_type": "code",
   "execution_count": null,
   "id": "3a746078-25e8-49a9-8c82-b24dfcc52124",
   "metadata": {},
   "outputs": [],
   "source": []
  },
  {
   "cell_type": "code",
   "execution_count": null,
   "id": "deb16943-b40d-4c04-b053-4e48c591a617",
   "metadata": {},
   "outputs": [],
   "source": []
  },
  {
   "cell_type": "code",
   "execution_count": null,
   "id": "4bb94c2f-9444-43f1-98c9-7a30f700b274",
   "metadata": {},
   "outputs": [],
   "source": []
  },
  {
   "cell_type": "code",
   "execution_count": null,
   "id": "e826c66d-9441-4c9a-bfc3-db19ef98a49a",
   "metadata": {},
   "outputs": [],
   "source": []
  },
  {
   "cell_type": "code",
   "execution_count": null,
   "id": "31c520a6-6b57-45a4-b564-4007453ae776",
   "metadata": {},
   "outputs": [],
   "source": []
  },
  {
   "cell_type": "code",
   "execution_count": null,
   "id": "9d197811-25c5-4212-94ca-0678212a6808",
   "metadata": {},
   "outputs": [],
   "source": []
  }
 ],
 "metadata": {
  "kernelspec": {
   "display_name": "Python 3 (based on the module python3/2022.01)",
   "language": "python",
   "name": "python3_2022_01"
  },
  "language_info": {
   "codemirror_mode": {
    "name": "ipython",
    "version": 3
   },
   "file_extension": ".py",
   "mimetype": "text/x-python",
   "name": "python",
   "nbconvert_exporter": "python",
   "pygments_lexer": "ipython3",
   "version": "3.9.9"
  }
 },
 "nbformat": 4,
 "nbformat_minor": 5
}
