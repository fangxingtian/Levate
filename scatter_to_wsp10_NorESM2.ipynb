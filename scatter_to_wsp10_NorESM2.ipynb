{
 "cells": [
  {
   "cell_type": "code",
   "execution_count": 47,
   "id": "194973c0-1616-4900-b423-5f9e23c0a28d",
   "metadata": {},
   "outputs": [],
   "source": [
    "# To add a new cell, type '# %%'\n",
    "# To add a new markdown cell, type '# %% [markdown]'\n",
    "# %%\n",
    "import iris\n",
    "import numpy as np\n",
    "import sys\n",
    "sys.path.append('/pf/b/b381639/Analysis')\n",
    "import fxtian_function as fx\n",
    "from iris.time import PartialDateTime\n",
    "import datetime\n",
    "import cf_units\n",
    "import iris.coord_categorisation\n",
    "import iris.quickplot as qplt\n",
    "import matplotlib.pyplot as plt\n",
    "import numpy as np\n",
    "import xarray as ar\n",
    "\n",
    "# %% list of data to read in\n",
    "def data_dict(myid):\n",
    "    if myid == 'sst':\n",
    "        mydict = {\n",
    "            'indir': '/work/bb1153/b381639/NorESM2',\n",
    "            'infile': '/work/bb1153/b381639/NorESM2/tos_Oday_NorESM2-LM_historical_r3i1p1f1_gn_2010_tropical_ocean.nc',\n",
    "            'key': iris.Constraint(cube_func=(lambda c: c.var_name == 'tos'))\n",
    "        }\n",
    "    if myid == 'wsp10':\n",
    "        mydict = {\n",
    "            'indir': '/work/bb1153/b381639/NorESM2',\n",
    "            'infile': '/work/bb1153/b381639/NorESM2/sfcWind_day_NorESM2-LM_historical_r3i1p1f1_gn_2010_tropical_ocean.nc',\n",
    "            'key': iris.Constraint(cube_func=(lambda c: c.var_name == 'sfcWind'))\n",
    "        }\n",
    "    elif myid == 'slhf':\n",
    "        mydict = {\n",
    "            'indir': '/work/bb1153/b381639/NorESM2',\n",
    "            'infile': '/work/bb1153/b381639/NorESM2/hfls_day_NorESM2-LM_historical_r3i1p1f1_gn_2010_tropical_ocean.nc',\n",
    "            'key': iris.Constraint(cube_func=(lambda c: c.var_name == 'hfls'))\n",
    "        }\n",
    "\n",
    "    elif myid == 'sshf':\n",
    "        mydict = {\n",
    "            'indir': '/work/bb1153/b381639/NorESM2',\n",
    "            'infile': '/work/bb1153/b381639/NorESM2/hfss_day_NorESM2-LM_historical_r3i1p1f1_gn_2010_tropical_ocean.nc',\n",
    "            'key': iris.Constraint(cube_func=(lambda c: c.var_name == 'hfss'))\n",
    "        }\n",
    "\n",
    "    return(mydict)\n",
    "####################"
   ]
  },
  {
   "cell_type": "code",
   "execution_count": 48,
   "id": "b284868b-907b-4b02-80cb-d8c07fd512c6",
   "metadata": {},
   "outputs": [
    {
     "name": "stdout",
     "output_type": "stream",
     "text": [
      "--> slhf\n",
      "--> wsp10\n"
     ]
    },
    {
     "name": "stderr",
     "output_type": "stream",
     "text": [
      "/sw/spack-levante/mambaforge-4.11.0-0-Linux-x86_64-sobz6z/lib/python3.9/site-packages/iris/fileformats/cf.py:859: UserWarning: Missing CF-netCDF measure variable 'areacella', referenced by netCDF variable 'hfls'\n",
      "  warnings.warn(\n",
      "/sw/spack-levante/mambaforge-4.11.0-0-Linux-x86_64-sobz6z/lib/python3.9/site-packages/iris/fileformats/cf.py:859: UserWarning: Missing CF-netCDF measure variable 'areacella', referenced by netCDF variable 'sfcWind'\n",
      "  warnings.warn(\n"
     ]
    }
   ],
   "source": [
    "####################\n",
    "## create correct time cubelist to save output data\n",
    "cubelist_ct = iris.cube.CubeList()\n",
    "\n",
    "##readin sfcwind\n",
    "datasets=['slhf','wsp10']  #['ERAI']  # ['u-bt405','u-bt406','u-bm213','u-be034','u-bd818']\n",
    "for my_dataset in datasets:\n",
    "    print('--> '+my_dataset)\n",
    "    mydict = data_dict(my_dataset)\n",
    "    datain = iris.load_cube(mydict['infile'],mydict['key'])\n",
    "#    data_time= fx.correct_time(datain)\n",
    "\n",
    "    cubelist_ct.append(datain)\n",
    "#############################"
   ]
  },
  {
   "cell_type": "code",
   "execution_count": 49,
   "id": "31d18ac6-5689-4e8e-9b3d-211209249321",
   "metadata": {},
   "outputs": [],
   "source": [
    "#############################\n",
    "##TSE\n",
    "#############################\n",
    "left = 200 #0\n",
    "right =270 # 360\n",
    "bottom = -5#0#-20\n",
    "top = 0# 5# 20\n",
    "y=fx.selregion(cubelist_ct[0],bottom,top,left,right)\n",
    "x=fx.selregion(cubelist_ct[1],bottom,top,left,right)\n",
    "# j/m2 to w/m2, upward is positive\n",
    "x.data[x.data==0]=np.nan\n",
    "y.data[y.data==0]=np.nan\n",
    "x.data = x.data.filled(fill_value=0) #np.nan)\n",
    "y.data = y.data.filled(fill_value=0) #np.nan)\n",
    "\n",
    "#############################\n",
    "##TSW\n",
    "#############################\n",
    "left = 120 #0\n",
    "right =200 # 360\n",
    "bottom = -5#0#-20\n",
    "top = 0# 5# 20\n",
    "y0=fx.selregion(cubelist_ct[0],bottom,top,left,right)\n",
    "x0=fx.selregion(cubelist_ct[1],bottom,top,left,right)\n",
    "# j/m2 to w/m2, upward is positive\n",
    "x0.data[x0.data==0]=np.nan\n",
    "y0.data[y0.data==0]=np.nan\n",
    "x0.data = x0.data.filled(fill_value=0) #np.nan)\n",
    "y0.data = y0.data.filled(fill_value=0) #np.nan)\n",
    "\n",
    "#############################\n",
    "##TNE\n",
    "#############################\n",
    "left = 200 #0\n",
    "right =270 # 360\n",
    "bottom = 0#-20\n",
    "top = 5# 20\n",
    "y1=fx.selregion(cubelist_ct[0],bottom,top,left,right)\n",
    "x1=fx.selregion(cubelist_ct[1],bottom,top,left,right)\n",
    "# j/m2 to w/m2, upward is positive\n",
    "x1.data[x1.data==0]=np.nan\n",
    "y1.data[y1.data==0]=np.nan\n",
    "x1.data = x1.data.filled(fill_value=0) # np.nan)\n",
    "y1.data = y1.data.filled(fill_value=0) #np.nan)\n",
    "\n",
    "#############################\n",
    "##TNW\n",
    "#############################\n",
    "left = 120 #0\n",
    "right =200 # 360\n",
    "bottom = 0#-20\n",
    "top = 5# 20\n",
    "y11=fx.selregion(cubelist_ct[0],bottom,top,left,right)\n",
    "x11=fx.selregion(cubelist_ct[1],bottom,top,left,right)\n",
    "# j/m2 to w/m2, upward is positive\n",
    "#x11.data[x11.data==0]=np.nan\n",
    "#y11.data[y11.data==0]=np.nan\n",
    "x11.data = x11.data.filled(fill_value=0) ## np.nan)\n",
    "y11.data = y11.data.filled(fill_value=0) #np.nan)\n",
    "\n"
   ]
  },
  {
   "cell_type": "code",
   "execution_count": 50,
   "id": "02662672-1bf3-4f8c-8c5e-f6307a250dc9",
   "metadata": {},
   "outputs": [],
   "source": [
    "#colors = np.random.rand(N)\n",
    "#area = (30 * np.random.rand(N))**2  # 0 to 15 point radii\n",
    "\n",
    "#plt.scatter(x, y, s=area, c=colors, alpha=0.5)\n",
    "\n",
    "#X=x[:,45:55,550].data.flatten()\n",
    "#Y=y[:,45:55,550].data.flatten()\n",
    "\n",
    "X0=x0.data.flatten()\n",
    "Y0=y0.data.flatten()\n",
    "M0 = np.poly1d(np.polyfit(X0, Y0, 3))\n",
    "\n",
    "X=x.data.flatten()\n",
    "Y=y.data.flatten()\n",
    "M = np.poly1d(np.polyfit(X, Y, 3))\n",
    "\n",
    "X1=x1.data.flatten()\n",
    "Y1=y1.data.flatten()\n",
    "M1 = np.poly1d(np.polyfit(X1, Y1, 3))\n",
    "\n",
    "X11=x11.data.flatten()\n",
    "Y11=y11.data.flatten()\n",
    "M11 = np.poly1d(np.polyfit(X11, Y11, 3))"
   ]
  },
  {
   "cell_type": "code",
   "execution_count": 51,
   "id": "9c23410a-9d9d-4294-8259-6b36c450f703",
   "metadata": {},
   "outputs": [
    {
     "name": "stderr",
     "output_type": "stream",
     "text": [
      "The PostScript backend does not support transparency; partially transparent artists will be rendered opaque.\n"
     ]
    },
    {
     "data": {
      "image/png": "[encoded data removed]",
      "text/plain": [
       "<Figure size 432x288 with 1 Axes>"
      ]
     },
     "metadata": {
      "needs_background": "light"
     },
     "output_type": "display_data"
    }
   ],
   "source": [
    "#plt.plot(model1(polyline), color='green')\n",
    "#plt.plot(polyline, model2(polyline), color='red')\n",
    "polyline = np.linspace(1, 15, 70)\n",
    "#plt.scatter(X1, Y1,s=1.,alpha=None)\n",
    "plt.plot(polyline,M(polyline), color='b', label='TSE 0-5S 200-270E')\n",
    "plt.plot(polyline,M0(polyline), color='c', label='TSW 0-5S 120-200E')\n",
    "plt.plot(polyline,M1(polyline), color='r', label='TNE 0-5N 200-270E')\n",
    "plt.plot(polyline,M11(polyline), color='m',  label='TNW 0-5N 120-200E')\n",
    "plt.legend(loc='best', fancybox=True, shadow=True)\n",
    "plt.title('Latent heat flux to windspeed NorESM2',fontsize=10)\n",
    "#plt.plot(polyline, model4(polyline), color='blue')\n",
    "#plt.plot(polyline, model5(polyline), color='orange')\n",
    "\n",
    "plt.savefig('windspeed_to_EW_NorESM2.eps',format='eps',dpi=1000)"
   ]
  },
  {
   "cell_type": "code",
   "execution_count": 52,
   "id": "45622f93-c6e0-4bcc-a579-cb7aebdbdc9b",
   "metadata": {},
   "outputs": [],
   "source": [
    "#############################\n",
    "##TS\n",
    "#############################\n",
    "left = 120 #0\n",
    "right =270 # 360\n",
    "bottom = -5#0#-20\n",
    "top = 0# 5# 20\n",
    "y=fx.selregion(cubelist_ct[0],bottom,top,left,right)\n",
    "x=fx.selregion(cubelist_ct[1],bottom,top,left,right)\n",
    "# j/m2 to w/m2, upward is positive\n",
    "x.data[x.data==0]=np.nan\n",
    "y.data[y.data==0]=np.nan\n",
    "x.data = x.data.filled(fill_value=0) #np.nan)\n",
    "y.data = y.data.filled(fill_value=0) #np.nan)\n",
    "\n",
    "#############################\n",
    "##TSS\n",
    "#############################\n",
    "left = 120 #0\n",
    "right =270 # 360\n",
    "bottom = -18#0#-20\n",
    "top = -8# 5# 20\n",
    "y0=fx.selregion(cubelist_ct[0],bottom,top,left,right)\n",
    "x0=fx.selregion(cubelist_ct[1],bottom,top,left,right)\n",
    "# j/m2 to w/m2, upward is positive\n",
    "x0.data[x0.data==0]=np.nan\n",
    "y0.data[y0.data==0]=np.nan\n",
    "x0.data = x0.data.filled(fill_value=0) #np.nan)\n",
    "y0.data = y0.data.filled(fill_value=0) #np.nan)\n",
    "\n",
    "#############################\n",
    "##TN\n",
    "#############################\n",
    "left = 120 #0\n",
    "right =270 # 360\n",
    "bottom = 0#-20\n",
    "top = 5# 20\n",
    "y1=fx.selregion(cubelist_ct[0],bottom,top,left,right)\n",
    "x1=fx.selregion(cubelist_ct[1],bottom,top,left,right)\n",
    "# j/m2 to w/m2, upward is positive\n",
    "x1.data[x1.data==0]=np.nan\n",
    "y1.data[y1.data==0]=np.nan\n",
    "x1.data = x1.data.filled(fill_value=0) # np.nan)\n",
    "y1.data = y1.data.filled(fill_value=0) #np.nan)\n",
    "\n",
    "#############################\n",
    "##TNW\n",
    "#############################\n",
    "left = 120 #0\n",
    "right =270 # 360\n",
    "bottom = 8#-20\n",
    "top = 18# 20\n",
    "y11=fx.selregion(cubelist_ct[0],bottom,top,left,right)\n",
    "x11=fx.selregion(cubelist_ct[1],bottom,top,left,right)\n",
    "# j/m2 to w/m2, upward is positive\n",
    "#x11.data[x11.data==0]=np.nan\n",
    "#y11.data[y11.data==0]=np.nan\n",
    "x11.data = x11.data.filled(fill_value=0) ## np.nan)\n",
    "y11.data = y11.data.filled(fill_value=0) #np.nan)\n",
    "\n"
   ]
  },
  {
   "cell_type": "code",
   "execution_count": 53,
   "id": "f7678404-e9fc-43e1-a473-82e9d1674fdf",
   "metadata": {},
   "outputs": [
    {
     "name": "stderr",
     "output_type": "stream",
     "text": [
      "/sw/spack-levante/mambaforge-4.11.0-0-Linux-x86_64-sobz6z/lib/python3.9/site-packages/IPython/core/interactiveshell.py:3398: RankWarning: Polyfit may be poorly conditioned\n",
      "  exec(code_obj, self.user_global_ns, self.user_ns)\n",
      "/sw/spack-levante/mambaforge-4.11.0-0-Linux-x86_64-sobz6z/lib/python3.9/site-packages/IPython/core/interactiveshell.py:3398: RankWarning: Polyfit may be poorly conditioned\n",
      "  exec(code_obj, self.user_global_ns, self.user_ns)\n"
     ]
    }
   ],
   "source": [
    "#colors = np.random.rand(N)\n",
    "#area = (30 * np.random.rand(N))**2  # 0 to 15 point radii\n",
    "\n",
    "#plt.scatter(x, y, s=area, c=colors, alpha=0.5)\n",
    "\n",
    "#X=x[:,45:55,550].data.flatten()\n",
    "#Y=y[:,45:55,550].data.flatten()\n",
    "\n",
    "X0=x0.data.flatten()\n",
    "Y0=y0.data.flatten()\n",
    "M0 = np.poly1d(np.polyfit(X0, Y0, 3))\n",
    "\n",
    "X=x.data.flatten()\n",
    "Y=y.data.flatten()\n",
    "M = np.poly1d(np.polyfit(X, Y, 3))\n",
    "\n",
    "X1=x1.data.flatten()\n",
    "Y1=y1.data.flatten()\n",
    "M1 = np.poly1d(np.polyfit(X1, Y1, 3))\n",
    "\n",
    "X11=x11.data.flatten()\n",
    "Y11=y11.data.flatten()\n",
    "M11 = np.poly1d(np.polyfit(X11, Y11, 3))"
   ]
  },
  {
   "cell_type": "code",
   "execution_count": null,
   "id": "aec591cf-368d-4945-aaa5-46f69be35df4",
   "metadata": {},
   "outputs": [
    {
     "name": "stderr",
     "output_type": "stream",
     "text": [
      "The PostScript backend does not support transparency; partially transparent artists will be rendered opaque.\n"
     ]
    }
   ],
   "source": [
    "#plt.plot(model1(polyline), color='green')\n",
    "#plt.plot(polyline, model2(polyline), color='red')\n",
    "polyline = np.linspace(1, 15, 300)\n",
    "#plt.scatter(X1, Y1,s=1.,alpha=None)\n",
    "plt.plot(polyline,M(polyline), color='b', label='TS 0-5S 120-270E')\n",
    "plt.plot(polyline,M0(polyline), color='c', label='TSS 8S-18S 120-270E')\n",
    "plt.plot(polyline,M1(polyline), color='r', label='TN 0-5N 120-270E')\n",
    "plt.plot(polyline,M11(polyline), color='m',  label='TNN 8N-18N 120-270E')\n",
    "plt.legend(loc='best', fancybox=True, shadow=True)\n",
    "#plt.plot(polyline, model4(polyline), color='blue')\n",
    "#plt.plot(polyline, model5(polyline), color='orange')\n",
    "plt.title('Latent heat flux to windspeed NorESM2',fontsize=10)\n",
    "plt.savefig('windspeed_to_NS_NorESM2.eps',format='eps',dpi=1000)"
   ]
  },
  {
   "cell_type": "code",
   "execution_count": null,
   "id": "6543c6c3-9877-4726-8c86-e90534515144",
   "metadata": {},
   "outputs": [],
   "source": []
  },
  {
   "cell_type": "code",
   "execution_count": 7,
   "id": "2a780a55-ed77-435c-9602-b4fe3cdccac8",
   "metadata": {},
   "outputs": [],
   "source": [
    "#############################\n",
    "##select region covers EURE4A\n",
    "#############################\n",
    "left = 0\n",
    "right =360\n",
    "bottom = -20\n",
    "top = 20\n",
    "y=fx.selregion(cubelist_ct[0],bottom,top,left,right)\n",
    "x=fx.selregion(cubelist_ct[1],bottom,top,left,right)\n",
    "\n",
    "# j/m2 to w/m2, upward is positive\n",
    "\n",
    "y.data=y.data\n",
    "\n",
    "x.data[x.data==0]=np.nan\n",
    "y.data[y.data==0]=np.nan\n",
    "x.data = x.data.filled(fill_value=np.nan)\n",
    "y.data = y.data.filled(fill_value=np.nan)\n",
    "\n",
    "\n"
   ]
  },
  {
   "cell_type": "code",
   "execution_count": null,
   "id": "494cb518-39ca-4e3f-be6b-439ea9b4e3fa",
   "metadata": {},
   "outputs": [],
   "source": []
  },
  {
   "cell_type": "code",
   "execution_count": 8,
   "id": "d7e3a0da-99e7-42ed-822f-16489633f07b",
   "metadata": {},
   "outputs": [],
   "source": [
    "regyonx=fx.regress_yonx(x,y)"
   ]
  },
  {
   "cell_type": "code",
   "execution_count": 9,
   "id": "b00f1d1f-69af-4ace-bae0-6cf4b97565c1",
   "metadata": {},
   "outputs": [],
   "source": [
    "iris.save(regyonx,mydict['indir']+'/regress_slhf_wsp10_NorESM2.nc')"
   ]
  },
  {
   "cell_type": "code",
   "execution_count": null,
   "id": "a99dbfa7-881c-4953-9a44-1d3d1cb509dc",
   "metadata": {},
   "outputs": [],
   "source": []
  }
 ],
 "metadata": {
  "kernelspec": {
   "display_name": "Python 3 (based on the module python3/2022.01)",
   "language": "python",
   "name": "python3_2022_01"
  },
  "language_info": {
   "codemirror_mode": {
    "name": "ipython",
    "version": 3
   },
   "file_extension": ".py",
   "mimetype": "text/x-python",
   "name": "python",
   "nbconvert_exporter": "python",
   "pygments_lexer": "ipython3",
   "version": "3.9.9"
  }
 },
 "nbformat": 4,
 "nbformat_minor": 5
}
