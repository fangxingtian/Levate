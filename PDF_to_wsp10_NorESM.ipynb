{
 "cells": [
  {
   "cell_type": "code",
   "execution_count": 7,
   "id": "194973c0-1616-4900-b423-5f9e23c0a28d",
   "metadata": {},
   "outputs": [],
   "source": [
    "# To add a new cell, type '# %%'\n",
    "# To add a new markdown cell, type '# %% [markdown]'\n",
    "# %%\n",
    "import iris\n",
    "import numpy as np\n",
    "import sys\n",
    "sys.path.append('/pf/b/b381639/Analysis')\n",
    "import fxtian_function as fx\n",
    "from iris.time import PartialDateTime\n",
    "import datetime\n",
    "import cf_units\n",
    "import iris.coord_categorisation\n",
    "import iris.quickplot as qplt\n",
    "import matplotlib.pyplot as plt\n",
    "import numpy as np\n",
    "import xarray as ar\n",
    "\n",
    "# %% list of data to read in\n",
    "def data_dict(myid):\n",
    "    if myid == 'sst':\n",
    "        mydict = {\n",
    "            'indir': '/work/bb1153/b381639/NorESM',\n",
    "            'infile': '/work/bb1153/b381639/NorESM/SST_150_tropical_ocean.nc',\n",
    "            'key': iris.Constraint(cube_func=(lambda c: c.var_name == 'SST'))\n",
    "        }\n",
    "    if myid == 'DT':\n",
    "        mydict = {\n",
    "            'indir': '/work/bb1153/b381639/NorESM',\n",
    "            'infile': '/work/bb1153/b381639/NorESM/DT_150_tropical_ocean.nc',\n",
    "            'key': iris.Constraint(cube_func=(lambda c: c.var_name == 'SST'))\n",
    "        }\n",
    "    if myid == 'wsp10':\n",
    "        mydict = {\n",
    "            'indir': '/work/bb1153/b381639/NorESM',\n",
    "            'infile': '/work/bb1153/b381639/NorESM/U10_150_tropical_ocean.nc',\n",
    "            'key': iris.Constraint(cube_func=(lambda c: c.var_name == 'U10'))\n",
    "        }\n",
    "    elif myid == 'slhf':\n",
    "        mydict = {\n",
    "            'indir': '/work/bb1153/b381639/NorESM',\n",
    "            'infile': '/work/bb1153/b381639/NorESM/LHFLX_150_tropical_ocean.nc',\n",
    "            'key': iris.Constraint(cube_func=(lambda c: c.var_name == 'LHFLX'))\n",
    "        }\n",
    "\n",
    "    elif myid == 'sshf':\n",
    "        mydict = {\n",
    "            'indir': '/work/bb1153/b381639/NorESM',\n",
    "            'infile': '/work/bb1153/b381639/NorESM/SHFLX_150_tropical_ocean.nc',\n",
    "            'key': iris.Constraint(cube_func=(lambda c: c.var_name == 'SHFLX'))\n",
    "        }\n",
    "\n",
    "    return(mydict)\n",
    "####################"
   ]
  },
  {
   "cell_type": "code",
   "execution_count": 12,
   "id": "b284868b-907b-4b02-80cb-d8c07fd512c6",
   "metadata": {},
   "outputs": [
    {
     "name": "stdout",
     "output_type": "stream",
     "text": [
      "--> slhf\n",
      "--> wsp10\n"
     ]
    }
   ],
   "source": [
    "####################\n",
    "## create correct time cubelist to save output data\n",
    "cubelist_ct = iris.cube.CubeList()\n",
    "\n",
    "##readin sfcwind\n",
    "datasets=['slhf','wsp10']  #['ERAI']  # ['u-bt405','u-bt406','u-bm213','u-be034','u-bd818']\n",
    "for my_dataset in datasets:\n",
    "    print('--> '+my_dataset)\n",
    "    mydict = data_dict(my_dataset)\n",
    "    datain = iris.load_cube(mydict['infile'],mydict['key'])\n",
    "#    data_time= fx.correct_time(datain)\n",
    "\n",
    "    cubelist_ct.append(datain)\n",
    "#############################"
   ]
  },
  {
   "cell_type": "code",
   "execution_count": null,
   "id": "359c5e76-1456-40db-8ad9-da38f8518028",
   "metadata": {},
   "outputs": [],
   "source": []
  },
  {
   "cell_type": "code",
   "execution_count": 35,
   "id": "92bda1fc-7cee-4762-85a1-38eff9f6f7a9",
   "metadata": {},
   "outputs": [],
   "source": [
    "##TNE\n",
    "#############################\n",
    "left = 200 #0\n",
    "right =270 # 360\n",
    "bottom =-5 # 0#-20\n",
    "top =0 #5# 20\n",
    "y1=fx.selregion(cubelist_ct[0],bottom,top,left,right)\n",
    "x1=fx.selregion(cubelist_ct[1],bottom,top,left,right)\n",
    "# j/m2 to w/m2, upward is positive\n",
    "#y1.data=y1.data\n",
    "#x1.data[x1.data==0]=np.nan\n",
    "#y1.data[y1.data==0]=np.nan\n",
    "x1.data = x1.data.filled(fill_value=0) # np.nan)\n",
    "y1.data = y1.data.filled(fill_value=0) #np.nan)\n",
    "\n",
    "X1=x1.data.flatten()\n",
    "Y1=y1.data.flatten()"
   ]
  },
  {
   "cell_type": "code",
   "execution_count": 36,
   "id": "921b09bf-e484-411a-bc4e-bb02b4a50686",
   "metadata": {},
   "outputs": [
    {
     "data": {
      "image/png": "[encoded data removed]",
      "text/plain": [
       "<Figure size 432x288 with 2 Axes>"
      ]
     },
     "metadata": {
      "needs_background": "light"
     },
     "output_type": "display_data"
    }
   ],
   "source": [
    "import numpy as np\n",
    "from scipy.interpolate import UnivariateSpline\n",
    "from matplotlib import pyplot as plt\n",
    "\n",
    "n = 100\n",
    "Arr_out=np.zeros((12,3,100))\n",
    "\n",
    "for i in range(12):\n",
    "    my=(np.where((X1 > i) & (X1 < i+1), Y1, np.nan))\n",
    "    Arr_out[i,0,:]=i\n",
    "    Arr_out[i,1,:], x= np.histogram(my[~np.isnan(my)], bins=n,density=True) \n",
    "    Arr_out[i,2,:] = x[:-1] + (x[1] - x[0])/2\n",
    "\n",
    "cbar='seismic'\n",
    "for i in range(12):\n",
    "    plt.scatter(Arr_out[i,0,:], Arr_out[i,2,:],c=Arr_out[i,1,:],s=1.5,cmap = cbar)\n",
    "    \n",
    "plt.colorbar(label=\"percentage (100%)\", orientation=\"horizontal\")\n",
    "plt.title('Latent heat flux to windspeed SE NorESM',fontsize=10)\n",
    "plt.savefig('windspeed_to_SE_NorESM.eps',format='eps',dpi=1000)"
   ]
  },
  {
   "cell_type": "code",
   "execution_count": 36,
   "id": "c5f3a8d3-88da-47e7-9b3a-0a708427add1",
   "metadata": {},
   "outputs": [],
   "source": [
    "#############################\n",
    "##TSE\n",
    "#############################\n",
    "left = 200 #0\n",
    "right =270 # 360\n",
    "bottom = -5#0#-20\n",
    "top = 0# 5# 20\n",
    "y=fx.selregion(cubelist_ct[0],bottom,top,left,right)\n",
    "x=fx.selregion(cubelist_ct[1],bottom,top,left,right)\n",
    "# j/m2 to w/m2, upward is positive\n",
    "x.data[x.data==0]=np.nan\n",
    "y.data[y.data==0]=np.nan\n",
    "x.data = x.data.filled(fill_value=0) #np.nan)\n",
    "y.data = y.data.filled(fill_value=0) #np.nan)\n",
    "\n",
    "#############################\n",
    "##TSW\n",
    "#############################\n",
    "left = 120 #0\n",
    "right =200 # 360\n",
    "bottom = -5#0#-20\n",
    "top = 0# 5# 20\n",
    "y0=fx.selregion(cubelist_ct[0],bottom,top,left,right)\n",
    "x0=fx.selregion(cubelist_ct[1],bottom,top,left,right)\n",
    "# j/m2 to w/m2, upward is positive\n",
    "x0.data[x0.data==0]=np.nan\n",
    "y0.data[y0.data==0]=np.nan\n",
    "x0.data = x0.data.filled(fill_value=0) #np.nan)\n",
    "y0.data = y0.data.filled(fill_value=0) #np.nan)\n",
    "\n",
    "#############################\n",
    "##TNE\n",
    "#############################\n",
    "left = 200 #0\n",
    "right =270 # 360\n",
    "bottom = 0#-20\n",
    "top = 5# 20\n",
    "y1=fx.selregion(cubelist_ct[0],bottom,top,left,right)\n",
    "x1=fx.selregion(cubelist_ct[1],bottom,top,left,right)\n",
    "# j/m2 to w/m2, upward is positive\n",
    "x1.data[x1.data==0]=np.nan\n",
    "y1.data[y1.data==0]=np.nan\n",
    "x1.data = x1.data.filled(fill_value=0) # np.nan)\n",
    "y1.data = y1.data.filled(fill_value=0) #np.nan)\n",
    "\n",
    "#############################\n",
    "##TNW\n",
    "#############################\n",
    "left = 120 #0\n",
    "right =200 # 360\n",
    "bottom = 0#-20\n",
    "top = 5# 20\n",
    "y11=fx.selregion(cubelist_ct[0],bottom,top,left,right)\n",
    "x11=fx.selregion(cubelist_ct[1],bottom,top,left,right)\n",
    "# j/m2 to w/m2, upward is positive\n",
    "#x11.data[x11.data==0]=np.nan\n",
    "#y11.data[y11.data==0]=np.nan\n",
    "x11.data = x11.data.filled(fill_value=0) ## np.nan)\n",
    "y11.data = y11.data.filled(fill_value=0) #np.nan)"
   ]
  },
  {
   "cell_type": "code",
   "execution_count": 37,
   "id": "494cb518-39ca-4e3f-be6b-439ea9b4e3fa",
   "metadata": {},
   "outputs": [],
   "source": [
    "#colors = np.random.rand(N)\n",
    "#area = (30 * np.random.rand(N))**2  # 0 to 15 point radii\n",
    "\n",
    "#plt.scatter(x, y, s=area, c=colors, alpha=0.5)\n",
    "\n",
    "#X=x[:,45:55,550].data.flatten()\n",
    "#Y=y[:,45:55,550].data.flatten()\n",
    "\n",
    "X0=x0.data.flatten()\n",
    "Y0=y0.data.flatten()\n",
    "M0 = np.poly1d(np.polyfit(X0, Y0, 3))\n",
    "\n",
    "X=x.data.flatten()\n",
    "Y=y.data.flatten()\n",
    "M = np.poly1d(np.polyfit(X, Y, 3))\n",
    "\n",
    "X1=x1.data.flatten()\n",
    "Y1=y1.data.flatten()\n",
    "M1 = np.poly1d(np.polyfit(X1, Y1, 3))\n",
    "\n",
    "X11=x11.data.flatten()\n",
    "Y11=y11.data.flatten()\n",
    "M11 = np.poly1d(np.polyfit(X11, Y11, 3))"
   ]
  },
  {
   "cell_type": "code",
   "execution_count": 38,
   "id": "834f463d-7ebe-48ee-a565-d8317f722d7f",
   "metadata": {},
   "outputs": [
    {
     "name": "stderr",
     "output_type": "stream",
     "text": [
      "The PostScript backend does not support transparency; partially transparent artists will be rendered opaque.\n"
     ]
    },
    {
     "data": {
      "image/png": "[encoded data removed]",
      "text/plain": [
       "<Figure size 432x288 with 1 Axes>"
      ]
     },
     "metadata": {
      "needs_background": "light"
     },
     "output_type": "display_data"
    }
   ],
   "source": [
    "#plt.plot(model1(polyline), color='green')\n",
    "#plt.plot(polyline, model2(polyline), color='red')\n",
    "polyline = np.linspace(1, 15, 70)\n",
    "#plt.scatter(X1, Y1,s=1.,alpha=None)\n",
    "plt.plot(polyline,M(polyline), color='b', label='TSE 0-5S 200-270E')\n",
    "plt.plot(polyline,M0(polyline), color='c', label='TSW 0-5S 120-200E')\n",
    "plt.plot(polyline,M1(polyline), color='r', label='TNE 0-5N 200-270E')\n",
    "plt.plot(polyline,M11(polyline), color='m',  label='TNW 0-5N 120-200E')\n",
    "plt.legend(loc='best', fancybox=True, shadow=True)\n",
    "plt.title('Latent heat flux to windspeed NorESM',fontsize=10)\n",
    "#plt.plot(polyline, model4(polyline), color='blue')\n",
    "#plt.plot(polyline, model5(polyline), color='orange')\n",
    "\n",
    "plt.savefig('windspeed_to_EW_NorESM.eps',format='eps',dpi=1000)"
   ]
  },
  {
   "cell_type": "code",
   "execution_count": 40,
   "id": "fabcbcea-2507-497f-ac51-7b06b35557ab",
   "metadata": {},
   "outputs": [],
   "source": [
    "#############################\n",
    "##TS\n",
    "#############################\n",
    "left = 120 #0\n",
    "right =270 # 360\n",
    "bottom = -5#0#-20\n",
    "top = 0# 5# 20\n",
    "y=fx.selregion(cubelist_ct[0],bottom,top,left,right)\n",
    "x=fx.selregion(cubelist_ct[1],bottom,top,left,right)\n",
    "# j/m2 to w/m2, upward is positive\n",
    "x.data[x.data==0]=np.nan\n",
    "y.data[y.data==0]=np.nan\n",
    "x.data = x.data.filled(fill_value=0) #np.nan)\n",
    "y.data = y.data.filled(fill_value=0) #np.nan)\n",
    "\n",
    "#############################\n",
    "##TSS\n",
    "#############################\n",
    "left = 120 #0\n",
    "right =270 # 360\n",
    "bottom = -18#0#-20\n",
    "top = -8# 5# 20\n",
    "y0=fx.selregion(cubelist_ct[0],bottom,top,left,right)\n",
    "x0=fx.selregion(cubelist_ct[1],bottom,top,left,right)\n",
    "# j/m2 to w/m2, upward is positive\n",
    "x0.data[x0.data==0]=np.nan\n",
    "y0.data[y0.data==0]=np.nan\n",
    "x0.data = x0.data.filled(fill_value=0) #np.nan)\n",
    "y0.data = y0.data.filled(fill_value=0) #np.nan)\n",
    "\n",
    "#############################\n",
    "##TN\n",
    "#############################\n",
    "left = 120 #0\n",
    "right =270 # 360\n",
    "bottom = 0#-20\n",
    "top = 5# 20\n",
    "y1=fx.selregion(cubelist_ct[0],bottom,top,left,right)\n",
    "x1=fx.selregion(cubelist_ct[1],bottom,top,left,right)\n",
    "# j/m2 to w/m2, upward is positive\n",
    "x1.data[x1.data==0]=np.nan\n",
    "y1.data[y1.data==0]=np.nan\n",
    "x1.data = x1.data.filled(fill_value=0) # np.nan)\n",
    "y1.data = y1.data.filled(fill_value=0) #np.nan)\n",
    "\n",
    "#############################\n",
    "##TNW\n",
    "#############################\n",
    "left = 120 #0\n",
    "right =270 # 360\n",
    "bottom = 8#-20\n",
    "top = 18# 20\n",
    "y11=fx.selregion(cubelist_ct[0],bottom,top,left,right)\n",
    "x11=fx.selregion(cubelist_ct[1],bottom,top,left,right)\n",
    "# j/m2 to w/m2, upward is positive\n",
    "#x11.data[x11.data==0]=np.nan\n",
    "#y11.data[y11.data==0]=np.nan\n",
    "x11.data = x11.data.filled(fill_value=0) ## np.nan)\n",
    "y11.data = y11.data.filled(fill_value=0) #np.nan)\n",
    "\n"
   ]
  },
  {
   "cell_type": "code",
   "execution_count": 41,
   "id": "1c487df6-88fa-404e-9e97-fb8d8381acce",
   "metadata": {},
   "outputs": [],
   "source": [
    "#colors = np.random.rand(N)\n",
    "#area = (30 * np.random.rand(N))**2  # 0 to 15 point radii\n",
    "\n",
    "#plt.scatter(x, y, s=area, c=colors, alpha=0.5)\n",
    "\n",
    "#X=x[:,45:55,550].data.flatten()\n",
    "#Y=y[:,45:55,550].data.flatten()\n",
    "\n",
    "X0=x0.data.flatten()\n",
    "Y0=y0.data.flatten()\n",
    "M0 = np.poly1d(np.polyfit(X0, Y0, 3))\n",
    "\n",
    "X=x.data.flatten()\n",
    "Y=y.data.flatten()\n",
    "M = np.poly1d(np.polyfit(X, Y, 3))\n",
    "\n",
    "X1=x1.data.flatten()\n",
    "Y1=y1.data.flatten()\n",
    "M1 = np.poly1d(np.polyfit(X1, Y1, 3))\n",
    "\n",
    "X11=x11.data.flatten()\n",
    "Y11=y11.data.flatten()\n",
    "M11 = np.poly1d(np.polyfit(X11, Y11, 3))"
   ]
  },
  {
   "cell_type": "code",
   "execution_count": 42,
   "id": "d7e3a0da-99e7-42ed-822f-16489633f07b",
   "metadata": {},
   "outputs": [
    {
     "name": "stderr",
     "output_type": "stream",
     "text": [
      "The PostScript backend does not support transparency; partially transparent artists will be rendered opaque.\n"
     ]
    },
    {
     "data": {
      "image/png": "[encoded data removed]",
      "text/plain": [
       "<Figure size 432x288 with 1 Axes>"
      ]
     },
     "metadata": {
      "needs_background": "light"
     },
     "output_type": "display_data"
    }
   ],
   "source": [
    "#plt.plot(model1(polyline), color='green')\n",
    "#plt.plot(polyline, model2(polyline), color='red')\n",
    "polyline = np.linspace(1, 18, 70)\n",
    "#plt.scatter(X1, Y1,s=1.,alpha=None)\n",
    "plt.plot(polyline,M(polyline), color='b', label='TS 0-5S 120-270E')\n",
    "plt.plot(polyline,M0(polyline), color='c', label='TSS 8S-18S 120-270E')\n",
    "plt.plot(polyline,M1(polyline), color='r', label='TN 0-5N 120-270E')\n",
    "plt.plot(polyline,M11(polyline), color='m',  label='TNN 8N-18N 120-270E')\n",
    "plt.legend(loc='best', fancybox=True, shadow=True)\n",
    "#plt.plot(polyline, model4(polyline), color='blue')\n",
    "#plt.plot(polyline, model5(polyline), color='orange')\n",
    "plt.title('Latent heat flux to windspeed NorESM',fontsize=10)\n",
    "plt.savefig('windspeed_to_NS_NorESM.eps',format='eps',dpi=1000)"
   ]
  },
  {
   "cell_type": "code",
   "execution_count": null,
   "id": "b00f1d1f-69af-4ace-bae0-6cf4b97565c1",
   "metadata": {},
   "outputs": [],
   "source": []
  },
  {
   "cell_type": "code",
   "execution_count": null,
   "id": "a99dbfa7-881c-4953-9a44-1d3d1cb509dc",
   "metadata": {},
   "outputs": [],
   "source": []
  }
 ],
 "metadata": {
  "kernelspec": {
   "display_name": "Python 3 (based on the module python3/2022.01)",
   "language": "python",
   "name": "python3_2022_01"
  },
  "language_info": {
   "codemirror_mode": {
    "name": "ipython",
    "version": 3
   },
   "file_extension": ".py",
   "mimetype": "text/x-python",
   "name": "python",
   "nbconvert_exporter": "python",
   "pygments_lexer": "ipython3",
   "version": "3.9.9"
  }
 },
 "nbformat": 4,
 "nbformat_minor": 5
}
