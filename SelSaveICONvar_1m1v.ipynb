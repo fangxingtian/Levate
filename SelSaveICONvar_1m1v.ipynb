{
 "cells": [
  {
   "cell_type": "code",
   "execution_count": 42,
   "id": "1cd3348a-5520-4861-8314-ba767421ee7d",
   "metadata": {},
   "outputs": [],
   "source": [
    "# basics\n",
    "import intake\n",
    "import xarray as xr\n",
    "import dask  # memory-efficient parallel computation and delayed execution (lazy evaluation).\n",
    "import subprocess as sp\n",
    "\n",
    "%run gem_helpers.ipynb\n",
    "\n",
    "uid = getpass.getuser()\n",
    "image_path = make_tempdir(\"intake_demo_plots\")\n",
    "data_cache_path = make_tempdir(\"intake_demo_data\")\n",
    "\n",
    "# this function is also part of the gem helpers\n",
    "def get_list_from_cat(catalog, column):\n",
    "    \"\"\"A helper function for getting the contents of a column in an intake catalog.\n",
    "    Call with the catalog to be inspected and the column of interest.\"\"\"\n",
    "    return sorted(catalog.unique(column)[column][\"values\"])\n",
    "\n",
    "catalog_file = \"/work/ka1081/Catalogs/dyamond-nextgems.json\"\n",
    "cat = intake.open_esm_datastore(catalog_file)\n"
   ]
  },
  {
   "cell_type": "code",
   "execution_count": 58,
   "id": "574d0d86-9977-4542-895a-47c5bc607421",
   "metadata": {},
   "outputs": [
    {
     "data": {
      "text/html": [
       "<div>\n",
       "<style scoped>\n",
       "    .dataframe tbody tr th:only-of-type {\n",
       "        vertical-align: middle;\n",
       "    }\n",
       "\n",
       "    .dataframe tbody tr th {\n",
       "        vertical-align: top;\n",
       "    }\n",
       "\n",
       "    .dataframe thead th {\n",
       "        text-align: right;\n",
       "    }\n",
       "</style>\n",
       "<table border=\"1\" class=\"dataframe\">\n",
       "  <thead>\n",
       "    <tr style=\"text-align: right;\">\n",
       "      <th></th>\n",
       "      <th>grid_label</th>\n",
       "      <th>grid_id</th>\n",
       "      <th>simulation_id</th>\n",
       "      <th>variable_id</th>\n",
       "      <th>frequency</th>\n",
       "    </tr>\n",
       "  </thead>\n",
       "  <tbody>\n",
       "    <tr>\n",
       "      <th>0</th>\n",
       "      <td>gn</td>\n",
       "      <td>5aff0578-9bd9-11e8-8e4a-af3d880818e6</td>\n",
       "      <td>ngc2013</td>\n",
       "      <td>(sfcwind, clivi, cllvi, cptgzvi, hfls, hfss, prlr, pr, prw, qgvi, qrvi, qsvi, rlds, rlus, rlut, rsds, rsdt, rsus, rsut, tauu, tauv, rpds_dir, rpds_dif, rvds_dif, rnds_dif, evspsbl)</td>\n",
       "      <td>3hour</td>\n",
       "    </tr>\n",
       "    <tr>\n",
       "      <th>1</th>\n",
       "      <td>gn</td>\n",
       "      <td>not implemented</td>\n",
       "      <td>ngc2012</td>\n",
       "      <td>(sfcwind, clivi, cllvi, cptgzvi, hfls, hfss, prlr, pr, prw, qgvi, qrvi, qsvi, rlds, rlus, rlut, rsds, rsdt, rsus, rsut, tauu, tauv, rpds_dir, rpds_dif, rvds_dif, rnds_dif, evspsbl)</td>\n",
       "      <td>3hour</td>\n",
       "    </tr>\n",
       "  </tbody>\n",
       "</table>\n",
       "</div>"
      ],
      "text/plain": [
       "  grid_label                               grid_id simulation_id  \\\n",
       "0         gn  5aff0578-9bd9-11e8-8e4a-af3d880818e6       ngc2013   \n",
       "1         gn                       not implemented       ngc2012   \n",
       "\n",
       "                                                                                                                                                                            variable_id  \\\n",
       "0  (sfcwind, clivi, cllvi, cptgzvi, hfls, hfss, prlr, pr, prw, qgvi, qrvi, qsvi, rlds, rlus, rlut, rsds, rsdt, rsus, rsut, tauu, tauv, rpds_dir, rpds_dif, rvds_dif, rnds_dif, evspsbl)   \n",
       "1  (sfcwind, clivi, cllvi, cptgzvi, hfls, hfss, prlr, pr, prw, qgvi, qrvi, qsvi, rlds, rlus, rlut, rsds, rsdt, rsus, rsut, tauu, tauv, rpds_dir, rpds_dif, rvds_dif, rnds_dif, evspsbl)   \n",
       "\n",
       "  frequency  \n",
       "0     3hour  \n",
       "1     3hour  "
      ]
     },
     "execution_count": 58,
     "metadata": {},
     "output_type": "execute_result"
    }
   ],
   "source": [
    "##check and find exp and var\n",
    "fre  = \"3hour\" #30minute\n",
    "var  = \"hfls\" #tas, sst\n",
    "rea  = \"atm\"\n",
    "hits = cat.search(simulation_id=[\"ngc2009\", \"ngc2012\",\"ngc2013\"],  realm=rea, variable_id= var, frequency=fre)\n",
    "get_from_cat(hits,[\"grid_label\",\"grid_id\",\"simulation_id\", \"variable_id\",'frequency'])"
   ]
  },
  {
   "cell_type": "code",
   "execution_count": null,
   "id": "13eb2106-2882-4fa6-b563-3d97fb29fff6",
   "metadata": {},
   "outputs": [],
   "source": []
  },
  {
   "cell_type": "code",
   "execution_count": 63,
   "id": "1e7712ad-596f-497b-b6a9-978c1d672dde",
   "metadata": {},
   "outputs": [],
   "source": [
    "simulation_id=[\"ngc2012\",\"ngc2013\"]\n",
    "sim= simulation_id[1]\n",
    "fre= \"3hour\"\n",
    "var= \"hfls\"\n",
    "catalog=hits.search(simulation_id=sim,frequency=fre, variable_id=var)\n",
    "files=sorted(catalog.unique(\"uri\")[\"uri\"][\"values\"])\n",
    "\n",
    "outfile = f\"{data_cache_path}/{var}_daymean_{sim}.nc\""
   ]
  },
  {
   "cell_type": "code",
   "execution_count": 64,
   "id": "987d7c16-7c54-4b42-bf86-d33ea1c36384",
   "metadata": {},
   "outputs": [
    {
     "data": {
      "text/plain": [
       "'/scratch/b/b381639/intake_demo_data/hfls_daymean_ngc2013.nc'"
      ]
     },
     "execution_count": 64,
     "metadata": {},
     "output_type": "execute_result"
    }
   ],
   "source": [
    "outfile"
   ]
  },
  {
   "cell_type": "code",
   "execution_count": 65,
   "id": "4d8677e1-854c-46b3-8fb5-151664a40662",
   "metadata": {},
   "outputs": [
    {
     "name": "stdout",
     "output_type": "stream",
     "text": [
      "['cdo', '-P', '4', '-daymean', '-sellonlatbox,300,310,5,17', '-cat', '-apply,-selname,hfls', '[', '/work/bm1235/k203123/experiments/ngc2013/run_20200120T000000-20200131T235830/ngc2013_atm_2d_3h_mean_20200120T000000Z.nc', '/work/bm1235/k203123/experiments/ngc2013/run_20200120T000000-20200131T235830/ngc2013_atm_2d_3h_mean_20200201T000000Z.nc', '/work/bm1235/k203123/experiments/ngc2013/run_20200201T000000-20200531T235830/ngc2013_atm_2d_3h_mean_20200201T000000Z.nc', '/work/bm1235/k203123/experiments/ngc2013/run_20200201T000000-20200531T235830/ngc2013_atm_2d_3h_mean_20200301T000000Z.nc', '/work/bm1235/k203123/experiments/ngc2013/run_20200201T000000-20200531T235830/ngc2013_atm_2d_3h_mean_20200401T000000Z.nc', '/work/bm1235/k203123/experiments/ngc2013/run_20200201T000000-20200531T235830/ngc2013_atm_2d_3h_mean_20200501T000000Z.nc', '/work/bm1235/k203123/experiments/ngc2013/run_20200201T000000-20200531T235830/ngc2013_atm_2d_3h_mean_20200601T000000Z.nc', '/work/bm1235/k203123/experiments/ngc2013/run_20200601T000000-20200831T235830/ngc2013_atm_2d_3h_mean_20200601T000000Z.nc', '/work/bm1235/k203123/experiments/ngc2013/run_20200601T000000-20200831T235830/ngc2013_atm_2d_3h_mean_20200701T000000Z.nc', '/work/bm1235/k203123/experiments/ngc2013/run_20200601T000000-20200831T235830/ngc2013_atm_2d_3h_mean_20200801T000000Z.nc', '/work/bm1235/k203123/experiments/ngc2013/run_20200601T000000-20200831T235830/ngc2013_atm_2d_3h_mean_20200901T000000Z.nc', '/work/bm1235/k203123/experiments/ngc2013/run_20200901T000000-20201130T235830/ngc2013_atm_2d_3h_mean_20200901T000000Z.nc', '/work/bm1235/k203123/experiments/ngc2013/run_20200901T000000-20201130T235830/ngc2013_atm_2d_3h_mean_20201001T000000Z.nc', '/work/bm1235/k203123/experiments/ngc2013/run_20200901T000000-20201130T235830/ngc2013_atm_2d_3h_mean_20201101T000000Z.nc', '/work/bm1235/k203123/experiments/ngc2013/run_20200901T000000-20201130T235830/ngc2013_atm_2d_3h_mean_20201201T000000Z.nc', '/work/bm1235/k203123/experiments/ngc2013/run_20201201T000000-20210228T235830/ngc2013_atm_2d_3h_mean_20201201T000000Z.nc', '/work/bm1235/k203123/experiments/ngc2013/run_20201201T000000-20210228T235830/ngc2013_atm_2d_3h_mean_20210101T000000Z.nc', '/work/bm1235/k203123/experiments/ngc2013/run_20201201T000000-20210228T235830/ngc2013_atm_2d_3h_mean_20210201T000000Z.nc', '/work/bm1235/k203123/experiments/ngc2013/run_20201201T000000-20210228T235830/ngc2013_atm_2d_3h_mean_20210301T000000Z.nc', '/work/bm1235/k203123/experiments/ngc2013/run_20210301T000000-20210531T235830/ngc2013_atm_2d_3h_mean_20210301T000000Z.nc', '/work/bm1235/k203123/experiments/ngc2013/run_20210301T000000-20210531T235830/ngc2013_atm_2d_3h_mean_20210401T000000Z.nc', '/work/bm1235/k203123/experiments/ngc2013/run_20210301T000000-20210531T235830/ngc2013_atm_2d_3h_mean_20210501T000000Z.nc', '/work/bm1235/k203123/experiments/ngc2013/run_20210301T000000-20210531T235830/ngc2013_atm_2d_3h_mean_20210601T000000Z.nc', '/work/bm1235/k203123/experiments/ngc2013/run_20210601T000000-20210831T235830/ngc2013_atm_2d_3h_mean_20210601T000000Z.nc', '/work/bm1235/k203123/experiments/ngc2013/run_20210601T000000-20210831T235830/ngc2013_atm_2d_3h_mean_20210701T000000Z.nc', '/work/bm1235/k203123/experiments/ngc2013/run_20210601T000000-20210831T235830/ngc2013_atm_2d_3h_mean_20210801T000000Z.nc', '/work/bm1235/k203123/experiments/ngc2013/run_20210601T000000-20210831T235830/ngc2013_atm_2d_3h_mean_20210901T000000Z.nc', '/work/bm1235/k203123/experiments/ngc2013/run_20210901T000000-20211130T235830/ngc2013_atm_2d_3h_mean_20210901T000000Z.nc', '/work/bm1235/k203123/experiments/ngc2013/run_20210901T000000-20211130T235830/ngc2013_atm_2d_3h_mean_20211001T000000Z.nc', '/work/bm1235/k203123/experiments/ngc2013/run_20210901T000000-20211130T235830/ngc2013_atm_2d_3h_mean_20211101T000000Z.nc', '/work/bm1235/k203123/experiments/ngc2013/run_20210901T000000-20211130T235830/ngc2013_atm_2d_3h_mean_20211201T000000Z.nc', '/work/bm1235/k203123/experiments/ngc2013/run_20211201T000000-20220228T235830/ngc2013_atm_2d_3h_mean_20211201T000000Z.nc', '/work/bm1235/k203123/experiments/ngc2013/run_20211201T000000-20220228T235830/ngc2013_atm_2d_3h_mean_20220101T000000Z.nc', '/work/bm1235/k203123/experiments/ngc2013/run_20211201T000000-20220228T235830/ngc2013_atm_2d_3h_mean_20220201T000000Z.nc', '/work/bm1235/k203123/experiments/ngc2013/run_20211201T000000-20220228T235830/ngc2013_atm_2d_3h_mean_20220301T000000Z.nc', '/work/bm1235/k203123/experiments/ngc2013/run_20220301T000000-20220531T235830/ngc2013_atm_2d_3h_mean_20220301T000000Z.nc', '/work/bm1235/k203123/experiments/ngc2013/run_20220301T000000-20220531T235830/ngc2013_atm_2d_3h_mean_20220401T000000Z.nc', '/work/bm1235/k203123/experiments/ngc2013/run_20220301T000000-20220531T235830/ngc2013_atm_2d_3h_mean_20220501T000000Z.nc', '/work/bm1235/k203123/experiments/ngc2013/run_20220301T000000-20220531T235830/ngc2013_atm_2d_3h_mean_20220601T000000Z.nc', '/work/bm1235/k203123/experiments/ngc2013/run_20220601T000000-20220831T235830/ngc2013_atm_2d_3h_mean_20220601T000000Z.nc', '/work/bm1235/k203123/experiments/ngc2013/run_20220601T000000-20220831T235830/ngc2013_atm_2d_3h_mean_20220701T000000Z.nc', '/work/bm1235/k203123/experiments/ngc2013/run_20220601T000000-20220831T235830/ngc2013_atm_2d_3h_mean_20220801T000000Z.nc', '/work/bm1235/k203123/experiments/ngc2013/run_20220601T000000-20220831T235830/ngc2013_atm_2d_3h_mean_20220901T000000Z.nc', '/work/bm1235/k203123/experiments/ngc2013/run_20220901T000000-20221130T235830/ngc2013_atm_2d_3h_mean_20220901T000000Z.nc', '/work/bm1235/k203123/experiments/ngc2013/run_20220901T000000-20221130T235830/ngc2013_atm_2d_3h_mean_20221001T000000Z.nc', '/work/bm1235/k203123/experiments/ngc2013/run_20220901T000000-20221130T235830/ngc2013_atm_2d_3h_mean_20221101T000000Z.nc', '/work/bm1235/k203123/experiments/ngc2013/run_20220901T000000-20221130T235830/ngc2013_atm_2d_3h_mean_20221201T000000Z.nc', '/work/bm1235/k203123/experiments/ngc2013/run_20221201T000000-20230228T235830/ngc2013_atm_2d_3h_mean_20221201T000000Z.nc', '/work/bm1235/k203123/experiments/ngc2013/run_20221201T000000-20230228T235830/ngc2013_atm_2d_3h_mean_20230101T000000Z.nc', '/work/bm1235/k203123/experiments/ngc2013/run_20221201T000000-20230228T235830/ngc2013_atm_2d_3h_mean_20230201T000000Z.nc', '/work/bm1235/k203123/experiments/ngc2013/run_20221201T000000-20230228T235830/ngc2013_atm_2d_3h_mean_20230301T000000Z.nc', '/work/bm1235/k203123/experiments/ngc2013/run_20230301T000000-20230531T235830/ngc2013_atm_2d_3h_mean_20230301T000000Z.nc', '/work/bm1235/k203123/experiments/ngc2013/run_20230301T000000-20230531T235830/ngc2013_atm_2d_3h_mean_20230401T000000Z.nc', '/work/bm1235/k203123/experiments/ngc2013/run_20230301T000000-20230531T235830/ngc2013_atm_2d_3h_mean_20230501T000000Z.nc', '/work/bm1235/k203123/experiments/ngc2013/run_20230301T000000-20230531T235830/ngc2013_atm_2d_3h_mean_20230601T000000Z.nc', '/work/bm1235/k203123/experiments/ngc2013/run_20230601T000000-20230831T235830/ngc2013_atm_2d_3h_mean_20230601T000000Z.nc', '/work/bm1235/k203123/experiments/ngc2013/run_20230601T000000-20230831T235830/ngc2013_atm_2d_3h_mean_20230701T000000Z.nc', '/work/bm1235/k203123/experiments/ngc2013/run_20230601T000000-20230831T235830/ngc2013_atm_2d_3h_mean_20230801T000000Z.nc', '/work/bm1235/k203123/experiments/ngc2013/run_20230601T000000-20230831T235830/ngc2013_atm_2d_3h_mean_20230901T000000Z.nc', '/work/bm1235/k203123/experiments/ngc2013/run_20230901T000000-20231130T235830/ngc2013_atm_2d_3h_mean_20230901T000000Z.nc', '/work/bm1235/k203123/experiments/ngc2013/run_20230901T000000-20231130T235830/ngc2013_atm_2d_3h_mean_20231001T000000Z.nc', '/work/bm1235/k203123/experiments/ngc2013/run_20230901T000000-20231130T235830/ngc2013_atm_2d_3h_mean_20231101T000000Z.nc', '/work/bm1235/k203123/experiments/ngc2013/run_20230901T000000-20231130T235830/ngc2013_atm_2d_3h_mean_20231201T000000Z.nc', '/work/bm1235/k203123/experiments/ngc2013/run_20231201T000000-20240229T235830/ngc2013_atm_2d_3h_mean_20231201T000000Z.nc', '/work/bm1235/k203123/experiments/ngc2013/run_20231201T000000-20240229T235830/ngc2013_atm_2d_3h_mean_20240101T000000Z.nc', '/work/bm1235/k203123/experiments/ngc2013/run_20231201T000000-20240229T235830/ngc2013_atm_2d_3h_mean_20240201T000000Z.nc', '/work/bm1235/k203123/experiments/ngc2013/run_20231201T000000-20240229T235830/ngc2013_atm_2d_3h_mean_20240301T000000Z.nc', '/work/bm1235/k203123/experiments/ngc2013/run_20240301T000000-20240531T235830/ngc2013_atm_2d_3h_mean_20240301T000000Z.nc', '/work/bm1235/k203123/experiments/ngc2013/run_20240301T000000-20240531T235830/ngc2013_atm_2d_3h_mean_20240401T000000Z.nc', '/work/bm1235/k203123/experiments/ngc2013/run_20240301T000000-20240531T235830/ngc2013_atm_2d_3h_mean_20240501T000000Z.nc', '/work/bm1235/k203123/experiments/ngc2013/run_20240301T000000-20240531T235830/ngc2013_atm_2d_3h_mean_20240601T000000Z.nc', '/work/bm1235/k203123/experiments/ngc2013/run_20240601T000000-20240831T235830/ngc2013_atm_2d_3h_mean_20240601T000000Z.nc', '/work/bm1235/k203123/experiments/ngc2013/run_20240601T000000-20240831T235830/ngc2013_atm_2d_3h_mean_20240701T000000Z.nc', '/work/bm1235/k203123/experiments/ngc2013/run_20240601T000000-20240831T235830/ngc2013_atm_2d_3h_mean_20240801T000000Z.nc', '/work/bm1235/k203123/experiments/ngc2013/run_20240601T000000-20240831T235830/ngc2013_atm_2d_3h_mean_20240901T000000Z.nc', '/work/bm1235/k203123/experiments/ngc2013/run_20240901T000000-20241130T235830/ngc2013_atm_2d_3h_mean_20240901T000000Z.nc', '/work/bm1235/k203123/experiments/ngc2013/run_20240901T000000-20241130T235830/ngc2013_atm_2d_3h_mean_20241001T000000Z.nc', '/work/bm1235/k203123/experiments/ngc2013/run_20240901T000000-20241130T235830/ngc2013_atm_2d_3h_mean_20241101T000000Z.nc', '/work/bm1235/k203123/experiments/ngc2013/run_20240901T000000-20241130T235830/ngc2013_atm_2d_3h_mean_20241201T000000Z.nc', '/work/bm1235/k203123/experiments/ngc2013/run_20241201T000000-20250228T235830/ngc2013_atm_2d_3h_mean_20241201T000000Z.nc', '/work/bm1235/k203123/experiments/ngc2013/run_20241201T000000-20250228T235830/ngc2013_atm_2d_3h_mean_20250101T000000Z.nc', '/work/bm1235/k203123/experiments/ngc2013/run_20241201T000000-20250228T235830/ngc2013_atm_2d_3h_mean_20250201T000000Z.nc', '/work/bm1235/k203123/experiments/ngc2013/run_20241201T000000-20250228T235830/ngc2013_atm_2d_3h_mean_20250301T000000Z.nc', '/work/bm1235/k203123/experiments/ngc2013/run_20250301T000000-20250531T235830/ngc2013_atm_2d_3h_mean_20250301T000000Z.nc', '/work/bm1235/k203123/experiments/ngc2013/run_20250301T000000-20250531T235830/ngc2013_atm_2d_3h_mean_20250401T000000Z.nc', '/work/bm1235/k203123/experiments/ngc2013/run_20250301T000000-20250531T235830/ngc2013_atm_2d_3h_mean_20250501T000000Z.nc', '/work/bm1235/k203123/experiments/ngc2013/run_20250301T000000-20250531T235830/ngc2013_atm_2d_3h_mean_20250601T000000Z.nc', '/work/bm1235/k203123/experiments/ngc2013/run_20250601T000000-20250831T235830/ngc2013_atm_2d_3h_mean_20250601T000000Z.nc', '/work/bm1235/k203123/experiments/ngc2013/run_20250601T000000-20250831T235830/ngc2013_atm_2d_3h_mean_20250701T000000Z.nc', '/work/bm1235/k203123/experiments/ngc2013/run_20250601T000000-20250831T235830/ngc2013_atm_2d_3h_mean_20250801T000000Z.nc', '/work/bm1235/k203123/experiments/ngc2013/run_20250601T000000-20250831T235830/ngc2013_atm_2d_3h_mean_20250901T000000Z.nc', '/work/bm1235/k203123/experiments/ngc2013/run_20250901T000000-20251130T235830/ngc2013_atm_2d_3h_mean_20250901T000000Z.nc', '/work/bm1235/k203123/experiments/ngc2013/run_20250901T000000-20251130T235830/ngc2013_atm_2d_3h_mean_20251001T000000Z.nc', '/work/bm1235/k203123/experiments/ngc2013/run_20250901T000000-20251130T235830/ngc2013_atm_2d_3h_mean_20251101T000000Z.nc', '/work/bm1235/k203123/experiments/ngc2013/run_20250901T000000-20251130T235830/ngc2013_atm_2d_3h_mean_20251201T000000Z.nc', '/work/bm1235/k203123/experiments/ngc2013/run_20251201T000000-20260228T235830/ngc2013_atm_2d_3h_mean_20251201T000000Z.nc', '/work/bm1235/k203123/experiments/ngc2013/run_20251201T000000-20260228T235830/ngc2013_atm_2d_3h_mean_20260101T000000Z.nc', '/work/bm1235/k203123/experiments/ngc2013/run_20251201T000000-20260228T235830/ngc2013_atm_2d_3h_mean_20260201T000000Z.nc', '/work/bm1235/k203123/experiments/ngc2013/run_20251201T000000-20260228T235830/ngc2013_atm_2d_3h_mean_20260301T000000Z.nc', '/work/bm1235/k203123/experiments/ngc2013/run_20260301T000000-20260531T235830/ngc2013_atm_2d_3h_mean_20260301T000000Z.nc', '/work/bm1235/k203123/experiments/ngc2013/run_20260301T000000-20260531T235830/ngc2013_atm_2d_3h_mean_20260401T000000Z.nc', '/work/bm1235/k203123/experiments/ngc2013/run_20260301T000000-20260531T235830/ngc2013_atm_2d_3h_mean_20260501T000000Z.nc', '/work/bm1235/k203123/experiments/ngc2013/run_20260301T000000-20260531T235830/ngc2013_atm_2d_3h_mean_20260601T000000Z.nc', '/work/bm1235/k203123/experiments/ngc2013/run_20260601T000000-20260831T235830/ngc2013_atm_2d_3h_mean_20260601T000000Z.nc', '/work/bm1235/k203123/experiments/ngc2013/run_20260601T000000-20260831T235830/ngc2013_atm_2d_3h_mean_20260701T000000Z.nc', '/work/bm1235/k203123/experiments/ngc2013/run_20260601T000000-20260831T235830/ngc2013_atm_2d_3h_mean_20260801T000000Z.nc', '/work/bm1235/k203123/experiments/ngc2013/run_20260601T000000-20260831T235830/ngc2013_atm_2d_3h_mean_20260901T000000Z.nc', '/work/bm1235/k203123/experiments/ngc2013/run_20260901T000000-20261130T235830/ngc2013_atm_2d_3h_mean_20260901T000000Z.nc', '/work/bm1235/k203123/experiments/ngc2013/run_20260901T000000-20261130T235830/ngc2013_atm_2d_3h_mean_20261001T000000Z.nc', '/work/bm1235/k203123/experiments/ngc2013/run_20260901T000000-20261130T235830/ngc2013_atm_2d_3h_mean_20261101T000000Z.nc', '/work/bm1235/k203123/experiments/ngc2013/run_20260901T000000-20261130T235830/ngc2013_atm_2d_3h_mean_20261201T000000Z.nc', '/work/bm1235/k203123/experiments/ngc2013/run_20261201T000000-20270228T235830/ngc2013_atm_2d_3h_mean_20261201T000000Z.nc', '/work/bm1235/k203123/experiments/ngc2013/run_20261201T000000-20270228T235830/ngc2013_atm_2d_3h_mean_20270101T000000Z.nc', '/work/bm1235/k203123/experiments/ngc2013/run_20261201T000000-20270228T235830/ngc2013_atm_2d_3h_mean_20270201T000000Z.nc', '/work/bm1235/k203123/experiments/ngc2013/run_20261201T000000-20270228T235830/ngc2013_atm_2d_3h_mean_20270301T000000Z.nc', '/work/bm1235/k203123/experiments/ngc2013/run_20270301T000000-20270531T235830/ngc2013_atm_2d_3h_mean_20270301T000000Z.nc', '/work/bm1235/k203123/experiments/ngc2013/run_20270301T000000-20270531T235830/ngc2013_atm_2d_3h_mean_20270401T000000Z.nc', '/work/bm1235/k203123/experiments/ngc2013/run_20270301T000000-20270531T235830/ngc2013_atm_2d_3h_mean_20270501T000000Z.nc', '/work/bm1235/k203123/experiments/ngc2013/run_20270301T000000-20270531T235830/ngc2013_atm_2d_3h_mean_20270601T000000Z.nc', '/work/bm1235/k203123/experiments/ngc2013/run_20270601T000000-20270831T235830/ngc2013_atm_2d_3h_mean_20270601T000000Z.nc', '/work/bm1235/k203123/experiments/ngc2013/run_20270601T000000-20270831T235830/ngc2013_atm_2d_3h_mean_20270701T000000Z.nc', '/work/bm1235/k203123/experiments/ngc2013/run_20270601T000000-20270831T235830/ngc2013_atm_2d_3h_mean_20270801T000000Z.nc', '/work/bm1235/k203123/experiments/ngc2013/run_20270601T000000-20270831T235830/ngc2013_atm_2d_3h_mean_20270901T000000Z.nc', '/work/bm1235/k203123/experiments/ngc2013/run_20270901T000000-20271130T235830/ngc2013_atm_2d_3h_mean_20270901T000000Z.nc', '/work/bm1235/k203123/experiments/ngc2013/run_20270901T000000-20271130T235830/ngc2013_atm_2d_3h_mean_20271001T000000Z.nc', '/work/bm1235/k203123/experiments/ngc2013/run_20270901T000000-20271130T235830/ngc2013_atm_2d_3h_mean_20271101T000000Z.nc', '/work/bm1235/k203123/experiments/ngc2013/run_20270901T000000-20271130T235830/ngc2013_atm_2d_3h_mean_20271201T000000Z.nc', '/work/bm1235/k203123/experiments/ngc2013/run_20271201T000000-20280229T235830/ngc2013_atm_2d_3h_mean_20271201T000000Z.nc', '/work/bm1235/k203123/experiments/ngc2013/run_20271201T000000-20280229T235830/ngc2013_atm_2d_3h_mean_20280101T000000Z.nc', '/work/bm1235/k203123/experiments/ngc2013/run_20271201T000000-20280229T235830/ngc2013_atm_2d_3h_mean_20280201T000000Z.nc', '/work/bm1235/k203123/experiments/ngc2013/run_20271201T000000-20280229T235830/ngc2013_atm_2d_3h_mean_20280301T000000Z.nc', '/work/bm1235/k203123/experiments/ngc2013/run_20280301T000000-20280531T235830/ngc2013_atm_2d_3h_mean_20280301T000000Z.nc', '/work/bm1235/k203123/experiments/ngc2013/run_20280301T000000-20280531T235830/ngc2013_atm_2d_3h_mean_20280401T000000Z.nc', '/work/bm1235/k203123/experiments/ngc2013/run_20280301T000000-20280531T235830/ngc2013_atm_2d_3h_mean_20280501T000000Z.nc', '/work/bm1235/k203123/experiments/ngc2013/run_20280301T000000-20280531T235830/ngc2013_atm_2d_3h_mean_20280601T000000Z.nc', '/work/bm1235/k203123/experiments/ngc2013/run_20280601T000000-20280831T235830/ngc2013_atm_2d_3h_mean_20280601T000000Z.nc', '/work/bm1235/k203123/experiments/ngc2013/run_20280601T000000-20280831T235830/ngc2013_atm_2d_3h_mean_20280701T000000Z.nc', '/work/bm1235/k203123/experiments/ngc2013/run_20280601T000000-20280831T235830/ngc2013_atm_2d_3h_mean_20280801T000000Z.nc', '/work/bm1235/k203123/experiments/ngc2013/run_20280601T000000-20280831T235830/ngc2013_atm_2d_3h_mean_20280901T000000Z.nc', '/work/bm1235/k203123/experiments/ngc2013/run_20280901T000000-20281130T235830/ngc2013_atm_2d_3h_mean_20280901T000000Z.nc', '/work/bm1235/k203123/experiments/ngc2013/run_20280901T000000-20281130T235830/ngc2013_atm_2d_3h_mean_20281001T000000Z.nc', '/work/bm1235/k203123/experiments/ngc2013/run_20280901T000000-20281130T235830/ngc2013_atm_2d_3h_mean_20281101T000000Z.nc', '/work/bm1235/k203123/experiments/ngc2013/run_20280901T000000-20281130T235830/ngc2013_atm_2d_3h_mean_20281201T000000Z.nc', '/work/bm1235/k203123/experiments/ngc2013/run_20281201T000000-20290228T235830/ngc2013_atm_2d_3h_mean_20281201T000000Z.nc', '/work/bm1235/k203123/experiments/ngc2013/run_20281201T000000-20290228T235830/ngc2013_atm_2d_3h_mean_20290101T000000Z.nc', '/work/bm1235/k203123/experiments/ngc2013/run_20281201T000000-20290228T235830/ngc2013_atm_2d_3h_mean_20290201T000000Z.nc', '/work/bm1235/k203123/experiments/ngc2013/run_20281201T000000-20290228T235830/ngc2013_atm_2d_3h_mean_20290301T000000Z.nc', '/work/bm1235/k203123/experiments/ngc2013/run_20290301T000000-20290531T235830/ngc2013_atm_2d_3h_mean_20290301T000000Z.nc', '/work/bm1235/k203123/experiments/ngc2013/run_20290301T000000-20290531T235830/ngc2013_atm_2d_3h_mean_20290401T000000Z.nc', '/work/bm1235/k203123/experiments/ngc2013/run_20290301T000000-20290531T235830/ngc2013_atm_2d_3h_mean_20290501T000000Z.nc', '/work/bm1235/k203123/experiments/ngc2013/run_20290301T000000-20290531T235830/ngc2013_atm_2d_3h_mean_20290601T000000Z.nc', '/work/bm1235/k203123/experiments/ngc2013/run_20290601T000000-20290831T235830/ngc2013_atm_2d_3h_mean_20290601T000000Z.nc', '/work/bm1235/k203123/experiments/ngc2013/run_20290601T000000-20290831T235830/ngc2013_atm_2d_3h_mean_20290701T000000Z.nc', '/work/bm1235/k203123/experiments/ngc2013/run_20290601T000000-20290831T235830/ngc2013_atm_2d_3h_mean_20290801T000000Z.nc', '/work/bm1235/k203123/experiments/ngc2013/run_20290601T000000-20290831T235830/ngc2013_atm_2d_3h_mean_20290901T000000Z.nc', ']', '/scratch/b/b381639/intake_demo_data/hfls_daymean_ngc2013.nc']\n",
      "cdo(1) sellonlatbox: Process started\n",
      "cdo(2) cat: Process started\n",
      "cdo(3) selname: Process started\n",
      "cdo(4) selname: Process started\n",
      "cdo(5) selname: Process started\n",
      "cdo(6) selname: Process started\n",
      "cdo(7) selname: Process started\n",
      "cdo(8) selname: Process started\n",
      "cdo(9) selname: Process started\n",
      "cdo(10) selname: Process started\n",
      "cdo(11) selname: Process started\n",
      "cdo(12) selname: Process started\n",
      "cdo(13) selname: Process started\n",
      "cdo(14) selname: Process started\n",
      "cdo(15) selname: Process started\n",
      "cdo(16) selname: Process started\n",
      "cdo(17) selname: Process started\n",
      "cdo(18) selname: Process started\n",
      "cdo(19) selname: Process started\n",
      "cdo(20) selname: Process started\n",
      "cdo(21) selname: Process started\n",
      "cdo(22) selname: Process started\n",
      "cdo(23) selname: Process started\n",
      "cdo(24) selname: Process started\n",
      "cdo(25) selname: Process started\n",
      "cdo(26) selname: Process started\n",
      "cdo(27) selname: Process started\n",
      "cdo(28) selname: Process started\n",
      "cdo(29) selname: Process started\n",
      "cdo(30) selname: Process started\n",
      "cdo(31) selname: Process started\n",
      "cdo(32) selname: Process started\n",
      "cdo(33) selname: Process started\n",
      "cdo(34) selname: Process started\n",
      "cdo(35) selname: Process started\n",
      "cdo(36) selname: Process started\n",
      "cdo(37) selname: Process started\n",
      "cdo(38) selname: Process started\n",
      "cdo(39) selname: Process started\n",
      "cdo(40) selname: Process started\n",
      "cdo(41) selname: Process started\n",
      "cdo(42) selname: Process started\n",
      "cdo(43) selname: Process started\n",
      "cdo(44) selname: Process started\n",
      "cdo(45) selname: Process started\n",
      "cdo(46) selname: Process started\n",
      "cdo(47) selname: Process started\n",
      "cdo(48) selname: Process started\n",
      "cdo(49) selname: Process started\n",
      "cdo(50) selname: Process started\n",
      "cdo(51) selname: Process started\n",
      "cdo(52) selname: Process started\n",
      "cdo(53) selname: Process started\n",
      "cdo(54) selname: Process started\n",
      "cdo(55) selname: Process started\n",
      "cdo(56) selname: Process started\n",
      "cdo(57) selname: Process started\n",
      "cdo(58) selname: Process started\n",
      "cdo(59) selname: Process started\n",
      "cdo(60) selname: Process started\n",
      "cdo(61) selname: Process started\n",
      "cdo(62) selname: Process started\n",
      "cdo(63) selname: Process started\n",
      "cdo(64) selname: Process started\n",
      "cdo(65) selname: Process started\n",
      "cdo(66) selname: Process started\n",
      "cdo(67) selname: Process started\n",
      "cdo(68) selname: Process started\n",
      "cdo(69) selname: Process started\n",
      "cdo(70) selname: Process started\n",
      "cdo(71) selname: Process started\n",
      "cdo(72) selname: Process started\n",
      "cdo(73) selname: Process started\n",
      "cdo(74) selname: Process started\n",
      "cdo(75) selname: Process started\n",
      "cdo(76) selname: Process started\n",
      "cdo(77) selname: Process started\n",
      "cdo(78) selname: Process started\n",
      "cdo(79) selname: Process started\n",
      "cdo(80) selname: Process started\n",
      "cdo(81) selname: Process started\n",
      "cdo(82) selname: Process started\n",
      "cdo(83) selname: Process started\n",
      "cdo(84) selname: Process started\n",
      "cdo(85) selname: Process started\n",
      "cdo(86) selname: Process started\n",
      "cdo(87) selname: Process started\n",
      "cdo(88) selname: Process started\n",
      "cdo(89) selname: Process started\n",
      "cdo(90) selname: Process started\n",
      "cdo(91) selname: Process started\n",
      "cdo(92) selname: Process started\n",
      "cdo(93) selname: Process started\n",
      "cdo(94) selname: Process started\n",
      "cdo(95) selname: Process started\n",
      "cdo(96) selname: Process started\n",
      "cdo(97) selname: Process started\n",
      "cdo(98) selname: Process started\n",
      "cdo(99) selname: Process started\n",
      "cdo(100) selname: Process started\n",
      "cdo(101) selname: Process started\n",
      "cdo(102) selname: Process started\n",
      "cdo(103) selname: Process started\n",
      "cdo(104) selname: Process started\n",
      "cdo(105) selname: Process started\n",
      "cdo(106) selname: Process started\n",
      "cdo(107) selname: Process started\n",
      "cdo(108) selname: Process started\n",
      "cdo(109) selname: Process started\n",
      "cdo(110) selname: Process started\n",
      "cdo(111) selname: Process started\n",
      "cdo(112) selname: Process started\n",
      "cdo(113) selname: Process started\n",
      "cdo(114) selname: Process started\n",
      "cdo(115) selname: Process started\n",
      "cdo(116) selname: Process started\n",
      "cdo(117) selname: Process started\n",
      "cdo(118) selname: Process started\n",
      "cdo(119) selname: Process started\n",
      "cdo(120) selname: Process started\n",
      "cdo(121) selname: Process started\n",
      "cdo(122) selname: Process started\n",
      "cdo(123) selname: Process started\n",
      "cdo(124) selname: Pro"
     ]
    }
   ],
   "source": [
    "\n",
    "\n",
    "\n",
    "    if True:\n",
    "        query = (\n",
    "            [\n",
    "                \"cdo\",\n",
    "                \"-P\",\n",
    "                \"4\",\n",
    "#                \"-remapcon,r360x180\",\n",
    "                \"-daymean\",\n",
    "                \"-sellonlatbox,300,310,5,17\",   #-sellonlatbox,0,360,-30,30\"\n",
    "                \"-cat\",\n",
    "                f\"-apply,-selname,{var}\",\n",
    "                \"[\",\n",
    "            ]\n",
    "            + files #[:10]\n",
    "            + [\"]\", outfile]\n",
    "        )\n",
    "        # Note, we only use the first 10 files to save time (the [:10] in files[:10]). Remove the [:10] to compute over the whole experiment.\n",
    "        print(query)\n",
    "        sp.run(query)\n",
    "#    outfile_dict[simulation_id] = outfile"
   ]
  },
  {
   "cell_type": "code",
   "execution_count": null,
   "id": "50126cfd-fe10-4e5d-a396-da81806a872c",
   "metadata": {},
   "outputs": [],
   "source": []
  },
  {
   "cell_type": "code",
   "execution_count": 24,
   "id": "26cf1390-60dd-4d1c-8dce-bc45e15e81b4",
   "metadata": {},
   "outputs": [],
   "source": [
    "for files in file_cat:\n",
    "    fileS=files.split(',')"
   ]
  },
  {
   "cell_type": "code",
   "execution_count": 25,
   "id": "b1ef48ca-82a9-4053-b92f-4d8d3a0f3005",
   "metadata": {},
   "outputs": [
    {
     "name": "stdout",
     "output_type": "stream",
     "text": [
      "['/work/bm1235/k203123/experiments/ngc2012/run_20271101T000000-20280229T235830/ngc2012_atm_2d_3h_mean_20280201T000000Z.nc']\n"
     ]
    }
   ],
   "source": [
    "print(fileS)"
   ]
  },
  {
   "cell_type": "code",
   "execution_count": 26,
   "id": "31d812e5-7237-48bf-8095-107025c8df02",
   "metadata": {},
   "outputs": [
    {
     "name": "stdout",
     "output_type": "stream",
     "text": [
      "['cdo', '-P', '4', '-remapcon,r360x180', '-daymean', '-sellonlatbox,300,310,5,17', '-cat', '-apply,-selname,sfcwind', '[', '/work/bm1235/k203123/experiments/ngc2012/run_20200120T000000-20200131T235830/ngc2012_atm_2d_3h_mean_20200120T000000Z.nc', ']', '/scratch/b/b381639/intake_demo_data/sfcwind_daymean_ngc2012.nc']\n",
      "cdo(1) daymean: Process started\n",
      "cdo(2) sellonlatbox: Process started\n",
      "cdo(3) cat: Process started\n",
      "cdo(4) selname: Process started\n",
      "cdo    remapcon: YAC first order conservative weights from unstructured (14701) to lonlat (360x180) grid\n",
      "cdo(4) selname: Processed 503316480 values from 26 variables over 96 timesteps.\n",
      "cdo(3) cat: Processed 503316480 values from 1 variable over 96 timesteps.\n",
      "cdo(2) sellonlatbox: Processed 503316480 values from 1 variable over 96 timesteps.\n",
      "cdo(1) daymean: Processed 1411296 values from 1 variable over 107 timesteps.\n",
      "cdo    remapcon: Processed 176412 values from 1 variable over 12 timesteps [10.88s 2043MB].\n"
     ]
    },
    {
     "ename": "NameError",
     "evalue": "name 'outfile_dict' is not defined",
     "output_type": "error",
     "traceback": [
      "\u001b[0;31m---------------------------------------------------------------------------\u001b[0m",
      "\u001b[0;31mNameError\u001b[0m                                 Traceback (most recent call last)",
      "Input \u001b[0;32mIn [26]\u001b[0m, in \u001b[0;36m<cell line: 1>\u001b[0;34m()\u001b[0m\n\u001b[1;32m     21\u001b[0m     \u001b[38;5;28mprint\u001b[39m(query)\n\u001b[1;32m     22\u001b[0m     sp\u001b[38;5;241m.\u001b[39mrun(query)\n\u001b[0;32m---> 23\u001b[0m \u001b[43moutfile_dict\u001b[49m[simulation_id] \u001b[38;5;241m=\u001b[39m outfile\n",
      "\u001b[0;31mNameError\u001b[0m: name 'outfile_dict' is not defined"
     ]
    }
   ],
   "source": [
    "for files in file_cat:\n",
    "    fileS=files.split(',')\n",
    "    outfile = f\"{data_cache_path}/{var}_daymean_{simulation_id}.nc\"\n",
    "    if True:\n",
    "        query = (\n",
    "            [\n",
    "                \"cdo\",\n",
    "                \"-P\",\n",
    "                \"4\",\n",
    "                \"-remapcon,r360x180\",\n",
    "                \"-daymean\",\n",
    "                \"-sellonlatbox,300,310,5,17\",   #-sellonlatbox,0,360,-30,30\"\n",
    "                \"-cat\",\n",
    "                f\"-apply,-selname,{var}\",\n",
    "                \"[\",\n",
    "            ]\n",
    "            + fileS[:10]\n",
    "            + [\"]\", outfile]\n",
    "        )\n",
    "        # Note, we only use the first 10 files to save time (the [:10] in files[:10]). Remove the [:10] to compute over the whole experiment.\n",
    "        print(query)\n",
    "        sp.run(query)\n",
    "    outfile_dict[simulation_id] = outfile"
   ]
  },
  {
   "cell_type": "code",
   "execution_count": null,
   "id": "a9589901-d3f9-41ad-820e-fa35c87d2c22",
   "metadata": {},
   "outputs": [],
   "source": []
  },
  {
   "cell_type": "code",
   "execution_count": 14,
   "id": "a065682c-a281-4d53-9ef4-dd6c20affd43",
   "metadata": {},
   "outputs": [],
   "source": [
    "\n",
    "    "
   ]
  },
  {
   "cell_type": "code",
   "execution_count": 16,
   "id": "f78d1f91-1715-4aa5-bfee-baf7aca5f2be",
   "metadata": {},
   "outputs": [
    {
     "ename": "NameError",
     "evalue": "name 'files' is not defined",
     "output_type": "error",
     "traceback": [
      "\u001b[0;31m---------------------------------------------------------------------------\u001b[0m",
      "\u001b[0;31mNameError\u001b[0m                                 Traceback (most recent call last)",
      "Input \u001b[0;32mIn [16]\u001b[0m, in \u001b[0;36m<cell line: 3>\u001b[0;34m()\u001b[0m\n\u001b[1;32m      1\u001b[0m query \u001b[38;5;241m=\u001b[39m (\n\u001b[1;32m      2\u001b[0m     [\n\u001b[1;32m      3\u001b[0m         \u001b[38;5;124m\"\u001b[39m\u001b[38;5;124mcdo\u001b[39m\u001b[38;5;124m\"\u001b[39m,\n\u001b[1;32m      4\u001b[0m         \u001b[38;5;124m\"\u001b[39m\u001b[38;5;124m-P\u001b[39m\u001b[38;5;124m\"\u001b[39m,\n\u001b[1;32m      5\u001b[0m         \u001b[38;5;124m\"\u001b[39m\u001b[38;5;124m4\u001b[39m\u001b[38;5;124m\"\u001b[39m,\n\u001b[1;32m      6\u001b[0m         \u001b[38;5;124m\"\u001b[39m\u001b[38;5;124m-remapcon,r360x180\u001b[39m\u001b[38;5;124m\"\u001b[39m,\n\u001b[1;32m      7\u001b[0m         \u001b[38;5;124m\"\u001b[39m\u001b[38;5;124m-daymean\u001b[39m\u001b[38;5;124m\"\u001b[39m,\n\u001b[1;32m      8\u001b[0m         \u001b[38;5;124m\"\u001b[39m\u001b[38;5;124m-sellonlatbox,300,310,5,17\u001b[39m\u001b[38;5;124m\"\u001b[39m,   \u001b[38;5;66;03m#-sellonlatbox,0,360,-30,30\"\u001b[39;00m\n\u001b[1;32m      9\u001b[0m         \u001b[38;5;124m\"\u001b[39m\u001b[38;5;124m-cat\u001b[39m\u001b[38;5;124m\"\u001b[39m,\n\u001b[1;32m     10\u001b[0m         \u001b[38;5;124mf\u001b[39m\u001b[38;5;124m\"\u001b[39m\u001b[38;5;124m-apply,-selname,\u001b[39m\u001b[38;5;132;01m{\u001b[39;00mvar\u001b[38;5;132;01m}\u001b[39;00m\u001b[38;5;124m\"\u001b[39m,\n\u001b[1;32m     11\u001b[0m         \u001b[38;5;124m\"\u001b[39m\u001b[38;5;124m[\u001b[39m\u001b[38;5;124m\"\u001b[39m,\n\u001b[1;32m     12\u001b[0m     ]\n\u001b[0;32m---> 13\u001b[0m     \u001b[38;5;241m+\u001b[39m \u001b[43mfiles\u001b[49m[:\u001b[38;5;241m10\u001b[39m]\n\u001b[1;32m     14\u001b[0m     \u001b[38;5;241m+\u001b[39m [\u001b[38;5;124m\"\u001b[39m\u001b[38;5;124m]\u001b[39m\u001b[38;5;124m\"\u001b[39m, outfile]\n\u001b[1;32m     15\u001b[0m )\n",
      "\u001b[0;31mNameError\u001b[0m: name 'files' is not defined"
     ]
    }
   ],
   "source": [
    "        query = (\n",
    "            [\n",
    "                \"cdo\",\n",
    "                \"-P\",\n",
    "                \"4\",\n",
    "                \"-remapcon,r360x180\",\n",
    "                \"-daymean\",\n",
    "                \"-sellonlatbox,300,310,5,17\",   #-sellonlatbox,0,360,-30,30\"\n",
    "                \"-cat\",\n",
    "                f\"-apply,-selname,{var}\",\n",
    "                \"[\",\n",
    "            ]\n",
    "            + files[:10]\n",
    "            + [\"]\", outfile]\n",
    "        )"
   ]
  },
  {
   "cell_type": "code",
   "execution_count": 71,
   "id": "896e7f15-7518-4cbb-82de-57caa7d302c5",
   "metadata": {},
   "outputs": [
    {
     "data": {
      "text/plain": [
       "'/scratch/b/b381639/intake_demo_data/sfcwind_daymean_1.nc'"
      ]
     },
     "execution_count": 71,
     "metadata": {},
     "output_type": "execute_result"
    }
   ],
   "source": [
    "outfile_dict = {}\n",
    "for simulation_id, files in file_cat.items():\n",
    "    outfile = f\"{data_cache_path}/{var}_daymean_{simulation_id}.nc\"\n",
    "    if True: # not os.access(outfile, os.R_OK):\n",
    "        query = (\n",
    "            [\n",
    "                \"cdo\",\n",
    "                \"-P\",\n",
    "                \"4\",\n",
    "                \"-remapcon,r360x180\",\n",
    "                \"-daymean\",\n",
    "                \"-sellonlatbox,300,310,5,17\",   #-sellonlatbox,0,360,-30,30\"\n",
    "                \"-cat\",\n",
    "                f\"-apply,-selname,{var}\",\n",
    "                \"[\",\n",
    "            ]\n",
    "            + files[:10]\n",
    "            + [\"]\", outfile]\n",
    "        )\n",
    "        # Note, we only use the first 10 files to save time (the [:10] in files[:10]). Remove the [:10] to compute over the whole experiment.\n",
    "        print(query)\n",
    "        sp.run(query)\n",
    "    outfile_dict[simulation_id] = outfile"
   ]
  },
  {
   "cell_type": "code",
   "execution_count": 19,
   "id": "fc20874b-3cda-4efc-9e78-4372035445d6",
   "metadata": {},
   "outputs": [
    {
     "name": "stderr",
     "output_type": "stream",
     "text": [
      "/sw/spack-levante/mambaforge-4.11.0-0-Linux-x86_64-sobz6z/lib/python3.9/site-packages/intake_esm/search.py:106: UserWarning: Query returned zero results.\n",
      "  warn(message)\n",
      "/sw/spack-levante/mambaforge-4.11.0-0-Linux-x86_64-sobz6z/lib/python3.9/site-packages/intake_esm/search.py:20: FutureWarning: The default dtype for empty Series will be 'object' instead of 'float64' in a future version. Specify a dtype explicitly to silence this warning.\n",
      "  x = df[columns].apply(_find_unique, result_type='reduce').to_dict()\n"
     ]
    },
    {
     "ename": "ValueError",
     "evalue": "Length of values (0) does not match length of index (1)",
     "output_type": "error",
     "traceback": [
      "\u001b[0;31m---------------------------------------------------------------------------\u001b[0m",
      "\u001b[0;31mValueError\u001b[0m                                Traceback (most recent call last)",
      "Input \u001b[0;32mIn [19]\u001b[0m, in \u001b[0;36m<cell line: 3>\u001b[0;34m()\u001b[0m\n\u001b[1;32m      2\u001b[0m \u001b[38;5;66;03m#for simulation_id in (\"ngc2009\", \"ngc2012\"):\u001b[39;00m\n\u001b[1;32m      3\u001b[0m \u001b[38;5;28;01mfor\u001b[39;00m simulation_id \u001b[38;5;129;01min\u001b[39;00m (\u001b[38;5;124m\"\u001b[39m\u001b[38;5;124mngc2009\u001b[39m\u001b[38;5;124m\"\u001b[39m,\u001b[38;5;124m\"\u001b[39m\u001b[38;5;124mngc2012\u001b[39m\u001b[38;5;124m\"\u001b[39m):\n\u001b[0;32m----> 4\u001b[0m     file_cat[simulation_id] \u001b[38;5;241m=\u001b[39m \u001b[43mget_list_from_cat\u001b[49m\u001b[43m(\u001b[49m\n\u001b[1;32m      5\u001b[0m \u001b[43m        \u001b[49m\u001b[43mhits\u001b[49m\u001b[38;5;241;43m.\u001b[39;49m\u001b[43msearch\u001b[49m\u001b[43m(\u001b[49m\u001b[43msimulation_id\u001b[49m\u001b[38;5;241;43m=\u001b[39;49m\u001b[43msimulation_id\u001b[49m\u001b[43m)\u001b[49m\u001b[43m,\u001b[49m\u001b[43m \u001b[49m\u001b[38;5;124;43m\"\u001b[39;49m\u001b[38;5;124;43muri\u001b[39;49m\u001b[38;5;124;43m\"\u001b[39;49m\n\u001b[1;32m      6\u001b[0m \u001b[43m    \u001b[49m\u001b[43m)\u001b[49m\n\u001b[1;32m      8\u001b[0m outfile_dict \u001b[38;5;241m=\u001b[39m {}\n\u001b[1;32m      9\u001b[0m \u001b[38;5;28;01mfor\u001b[39;00m simulation_id, files \u001b[38;5;129;01min\u001b[39;00m file_cat\u001b[38;5;241m.\u001b[39mitems():\n",
      "Input \u001b[0;32mIn [1]\u001b[0m, in \u001b[0;36mget_list_from_cat\u001b[0;34m(catalog, column)\u001b[0m\n\u001b[1;32m     14\u001b[0m \u001b[38;5;28;01mdef\u001b[39;00m \u001b[38;5;21mget_list_from_cat\u001b[39m(catalog, column):\n\u001b[1;32m     15\u001b[0m     \u001b[38;5;124;03m\"\"\"A helper function for getting the contents of a column in an intake catalog.\u001b[39;00m\n\u001b[1;32m     16\u001b[0m \n\u001b[1;32m     17\u001b[0m \u001b[38;5;124;03m    Call with the catalog to be inspected and the column of interest.\"\"\"\u001b[39;00m\n\u001b[0;32m---> 18\u001b[0m     \u001b[38;5;28;01mreturn\u001b[39;00m \u001b[38;5;28msorted\u001b[39m(\u001b[43mcatalog\u001b[49m\u001b[38;5;241;43m.\u001b[39;49m\u001b[43munique\u001b[49m\u001b[43m(\u001b[49m\u001b[43mcolumn\u001b[49m\u001b[43m)\u001b[49m[column][\u001b[38;5;124m\"\u001b[39m\u001b[38;5;124mvalues\u001b[39m\u001b[38;5;124m\"\u001b[39m])\n",
      "File \u001b[0;32m/sw/spack-levante/mambaforge-4.11.0-0-Linux-x86_64-sobz6z/lib/python3.9/site-packages/intake_esm/core.py:812\u001b[0m, in \u001b[0;36mesm_datastore.unique\u001b[0;34m(self, columns)\u001b[0m\n\u001b[1;32m    760\u001b[0m \u001b[38;5;28;01mdef\u001b[39;00m \u001b[38;5;21munique\u001b[39m(\u001b[38;5;28mself\u001b[39m, columns: Union[\u001b[38;5;28mstr\u001b[39m, List] \u001b[38;5;241m=\u001b[39m \u001b[38;5;28;01mNone\u001b[39;00m) \u001b[38;5;241m-\u001b[39m\u001b[38;5;241m>\u001b[39m Dict[\u001b[38;5;28mstr\u001b[39m, Any]:\n\u001b[1;32m    761\u001b[0m     \u001b[38;5;124;03m\"\"\"Return unique values for given columns in the\u001b[39;00m\n\u001b[1;32m    762\u001b[0m \u001b[38;5;124;03m    catalog.\u001b[39;00m\n\u001b[1;32m    763\u001b[0m \n\u001b[0;32m   (...)\u001b[0m\n\u001b[1;32m    810\u001b[0m \n\u001b[1;32m    811\u001b[0m \u001b[38;5;124;03m    \"\"\"\u001b[39;00m\n\u001b[0;32m--> 812\u001b[0m     \u001b[38;5;28;01mreturn\u001b[39;00m \u001b[43m_unique\u001b[49m\u001b[43m(\u001b[49m\u001b[38;5;28;43mself\u001b[39;49m\u001b[38;5;241;43m.\u001b[39;49m\u001b[43mdf\u001b[49m\u001b[43m,\u001b[49m\u001b[43m \u001b[49m\u001b[43mcolumns\u001b[49m\u001b[43m)\u001b[49m\n",
      "File \u001b[0;32m/sw/spack-levante/mambaforge-4.11.0-0-Linux-x86_64-sobz6z/lib/python3.9/site-packages/intake_esm/search.py:20\u001b[0m, in \u001b[0;36m_unique\u001b[0;34m(df, columns)\u001b[0m\n\u001b[1;32m     17\u001b[0m     values \u001b[38;5;241m=\u001b[39m series\u001b[38;5;241m.\u001b[39mdropna()\u001b[38;5;241m.\u001b[39mvalues\n\u001b[1;32m     18\u001b[0m     \u001b[38;5;28;01mreturn\u001b[39;00m \u001b[38;5;28mlist\u001b[39m(\u001b[38;5;28mset\u001b[39m(_flatten_list(values)))\n\u001b[0;32m---> 20\u001b[0m x \u001b[38;5;241m=\u001b[39m \u001b[43mdf\u001b[49m\u001b[43m[\u001b[49m\u001b[43mcolumns\u001b[49m\u001b[43m]\u001b[49m\u001b[38;5;241;43m.\u001b[39;49m\u001b[43mapply\u001b[49m\u001b[43m(\u001b[49m\u001b[43m_find_unique\u001b[49m\u001b[43m,\u001b[49m\u001b[43m \u001b[49m\u001b[43mresult_type\u001b[49m\u001b[38;5;241;43m=\u001b[39;49m\u001b[38;5;124;43m'\u001b[39;49m\u001b[38;5;124;43mreduce\u001b[39;49m\u001b[38;5;124;43m'\u001b[39;49m\u001b[43m)\u001b[49m\u001b[38;5;241m.\u001b[39mto_dict()\n\u001b[1;32m     21\u001b[0m info \u001b[38;5;241m=\u001b[39m {}\n\u001b[1;32m     22\u001b[0m \u001b[38;5;28;01mfor\u001b[39;00m col \u001b[38;5;129;01min\u001b[39;00m x\u001b[38;5;241m.\u001b[39mkeys():\n",
      "File \u001b[0;32m/sw/spack-levante/mambaforge-4.11.0-0-Linux-x86_64-sobz6z/lib/python3.9/site-packages/pandas/core/frame.py:8839\u001b[0m, in \u001b[0;36mDataFrame.apply\u001b[0;34m(self, func, axis, raw, result_type, args, **kwargs)\u001b[0m\n\u001b[1;32m   8828\u001b[0m \u001b[38;5;28;01mfrom\u001b[39;00m \u001b[38;5;21;01mpandas\u001b[39;00m\u001b[38;5;21;01m.\u001b[39;00m\u001b[38;5;21;01mcore\u001b[39;00m\u001b[38;5;21;01m.\u001b[39;00m\u001b[38;5;21;01mapply\u001b[39;00m \u001b[38;5;28;01mimport\u001b[39;00m frame_apply\n\u001b[1;32m   8830\u001b[0m op \u001b[38;5;241m=\u001b[39m frame_apply(\n\u001b[1;32m   8831\u001b[0m     \u001b[38;5;28mself\u001b[39m,\n\u001b[1;32m   8832\u001b[0m     func\u001b[38;5;241m=\u001b[39mfunc,\n\u001b[0;32m   (...)\u001b[0m\n\u001b[1;32m   8837\u001b[0m     kwargs\u001b[38;5;241m=\u001b[39mkwargs,\n\u001b[1;32m   8838\u001b[0m )\n\u001b[0;32m-> 8839\u001b[0m \u001b[38;5;28;01mreturn\u001b[39;00m \u001b[43mop\u001b[49m\u001b[38;5;241;43m.\u001b[39;49m\u001b[43mapply\u001b[49m\u001b[43m(\u001b[49m\u001b[43m)\u001b[49m\u001b[38;5;241m.\u001b[39m__finalize__(\u001b[38;5;28mself\u001b[39m, method\u001b[38;5;241m=\u001b[39m\u001b[38;5;124m\"\u001b[39m\u001b[38;5;124mapply\u001b[39m\u001b[38;5;124m\"\u001b[39m)\n",
      "File \u001b[0;32m/sw/spack-levante/mambaforge-4.11.0-0-Linux-x86_64-sobz6z/lib/python3.9/site-packages/pandas/core/apply.py:721\u001b[0m, in \u001b[0;36mFrameApply.apply\u001b[0;34m(self)\u001b[0m\n\u001b[1;32m    719\u001b[0m \u001b[38;5;66;03m# one axis empty\u001b[39;00m\n\u001b[1;32m    720\u001b[0m \u001b[38;5;28;01melif\u001b[39;00m \u001b[38;5;129;01mnot\u001b[39;00m \u001b[38;5;28mall\u001b[39m(\u001b[38;5;28mself\u001b[39m\u001b[38;5;241m.\u001b[39mobj\u001b[38;5;241m.\u001b[39mshape):\n\u001b[0;32m--> 721\u001b[0m     \u001b[38;5;28;01mreturn\u001b[39;00m \u001b[38;5;28;43mself\u001b[39;49m\u001b[38;5;241;43m.\u001b[39;49m\u001b[43mapply_empty_result\u001b[49m\u001b[43m(\u001b[49m\u001b[43m)\u001b[49m\n\u001b[1;32m    723\u001b[0m \u001b[38;5;66;03m# raw\u001b[39;00m\n\u001b[1;32m    724\u001b[0m \u001b[38;5;28;01melif\u001b[39;00m \u001b[38;5;28mself\u001b[39m\u001b[38;5;241m.\u001b[39mraw:\n",
      "File \u001b[0;32m/sw/spack-levante/mambaforge-4.11.0-0-Linux-x86_64-sobz6z/lib/python3.9/site-packages/pandas/core/apply.py:791\u001b[0m, in \u001b[0;36mFrameApply.apply_empty_result\u001b[0;34m(self)\u001b[0m\n\u001b[1;32m    788\u001b[0m     \u001b[38;5;28;01melse\u001b[39;00m:\n\u001b[1;32m    789\u001b[0m         r \u001b[38;5;241m=\u001b[39m np\u001b[38;5;241m.\u001b[39mnan\n\u001b[0;32m--> 791\u001b[0m     \u001b[38;5;28;01mreturn\u001b[39;00m \u001b[38;5;28;43mself\u001b[39;49m\u001b[38;5;241;43m.\u001b[39;49m\u001b[43mobj\u001b[49m\u001b[38;5;241;43m.\u001b[39;49m\u001b[43m_constructor_sliced\u001b[49m\u001b[43m(\u001b[49m\u001b[43mr\u001b[49m\u001b[43m,\u001b[49m\u001b[43m \u001b[49m\u001b[43mindex\u001b[49m\u001b[38;5;241;43m=\u001b[39;49m\u001b[38;5;28;43mself\u001b[39;49m\u001b[38;5;241;43m.\u001b[39;49m\u001b[43magg_axis\u001b[49m\u001b[43m)\u001b[49m\n\u001b[1;32m    792\u001b[0m \u001b[38;5;28;01melse\u001b[39;00m:\n\u001b[1;32m    793\u001b[0m     \u001b[38;5;28;01mreturn\u001b[39;00m \u001b[38;5;28mself\u001b[39m\u001b[38;5;241m.\u001b[39mobj\u001b[38;5;241m.\u001b[39mcopy()\n",
      "File \u001b[0;32m/sw/spack-levante/mambaforge-4.11.0-0-Linux-x86_64-sobz6z/lib/python3.9/site-packages/pandas/core/series.py:442\u001b[0m, in \u001b[0;36mSeries.__init__\u001b[0;34m(self, data, index, dtype, name, copy, fastpath)\u001b[0m\n\u001b[1;32m    440\u001b[0m     index \u001b[38;5;241m=\u001b[39m default_index(\u001b[38;5;28mlen\u001b[39m(data))\n\u001b[1;32m    441\u001b[0m \u001b[38;5;28;01melif\u001b[39;00m is_list_like(data):\n\u001b[0;32m--> 442\u001b[0m     \u001b[43mcom\u001b[49m\u001b[38;5;241;43m.\u001b[39;49m\u001b[43mrequire_length_match\u001b[49m\u001b[43m(\u001b[49m\u001b[43mdata\u001b[49m\u001b[43m,\u001b[49m\u001b[43m \u001b[49m\u001b[43mindex\u001b[49m\u001b[43m)\u001b[49m\n\u001b[1;32m    444\u001b[0m \u001b[38;5;66;03m# create/copy the manager\u001b[39;00m\n\u001b[1;32m    445\u001b[0m \u001b[38;5;28;01mif\u001b[39;00m \u001b[38;5;28misinstance\u001b[39m(data, (SingleBlockManager, SingleArrayManager)):\n",
      "File \u001b[0;32m/sw/spack-levante/mambaforge-4.11.0-0-Linux-x86_64-sobz6z/lib/python3.9/site-packages/pandas/core/common.py:557\u001b[0m, in \u001b[0;36mrequire_length_match\u001b[0;34m(data, index)\u001b[0m\n\u001b[1;32m    553\u001b[0m \u001b[38;5;124;03m\"\"\"\u001b[39;00m\n\u001b[1;32m    554\u001b[0m \u001b[38;5;124;03mCheck the length of data matches the length of the index.\u001b[39;00m\n\u001b[1;32m    555\u001b[0m \u001b[38;5;124;03m\"\"\"\u001b[39;00m\n\u001b[1;32m    556\u001b[0m \u001b[38;5;28;01mif\u001b[39;00m \u001b[38;5;28mlen\u001b[39m(data) \u001b[38;5;241m!=\u001b[39m \u001b[38;5;28mlen\u001b[39m(index):\n\u001b[0;32m--> 557\u001b[0m     \u001b[38;5;28;01mraise\u001b[39;00m \u001b[38;5;167;01mValueError\u001b[39;00m(\n\u001b[1;32m    558\u001b[0m         \u001b[38;5;124m\"\u001b[39m\u001b[38;5;124mLength of values \u001b[39m\u001b[38;5;124m\"\u001b[39m\n\u001b[1;32m    559\u001b[0m         \u001b[38;5;124mf\u001b[39m\u001b[38;5;124m\"\u001b[39m\u001b[38;5;124m(\u001b[39m\u001b[38;5;132;01m{\u001b[39;00m\u001b[38;5;28mlen\u001b[39m(data)\u001b[38;5;132;01m}\u001b[39;00m\u001b[38;5;124m) \u001b[39m\u001b[38;5;124m\"\u001b[39m\n\u001b[1;32m    560\u001b[0m         \u001b[38;5;124m\"\u001b[39m\u001b[38;5;124mdoes not match length of index \u001b[39m\u001b[38;5;124m\"\u001b[39m\n\u001b[1;32m    561\u001b[0m         \u001b[38;5;124mf\u001b[39m\u001b[38;5;124m\"\u001b[39m\u001b[38;5;124m(\u001b[39m\u001b[38;5;132;01m{\u001b[39;00m\u001b[38;5;28mlen\u001b[39m(index)\u001b[38;5;132;01m}\u001b[39;00m\u001b[38;5;124m)\u001b[39m\u001b[38;5;124m\"\u001b[39m\n\u001b[1;32m    562\u001b[0m     )\n",
      "\u001b[0;31mValueError\u001b[0m: Length of values (0) does not match length of index (1)"
     ]
    }
   ],
   "source": [
    "file_cat = {}\n",
    "#for simulation_id in (\"ngc2009\", \"ngc2012\"):\n",
    "for simulation_id in (\"ngc2009\",\"ngc2012\"):\n",
    "    file_cat[simulation_id] = get_list_from_cat(\n",
    "        hits.search(simulation_id=simulation_id), \"uri\"\n",
    "    )\n",
    "\n",
    "outfile_dict = {}\n",
    "for simulation_id, files in file_cat.items():\n",
    "    outfile = f\"{data_cache_path}/{var}_daymean_{simulation_id}.nc\"\n",
    "    if True: # not os.access(outfile, os.R_OK):\n",
    "        query = (\n",
    "            [\n",
    "                \"cdo\",\n",
    "                \"-P\",\n",
    "                \"4\",\n",
    "                \"-remapcon,r360x180\",\n",
    "                \"-daymean\",\n",
    "                \"-sellonlatbox,300,310,5,17\",   #-sellonlatbox,0,360,-30,30\"\n",
    "                \"-cat\",\n",
    "                f\"-apply,-selname,{var}\",\n",
    "                \"[\",\n",
    "            ]\n",
    "            + files[:10]\n",
    "            + [\"]\", outfile]\n",
    "        )\n",
    "        # Note, we only use the first 10 files to save time (the [:10] in files[:10]). Remove the [:10] to compute over the whole experiment.\n",
    "        print(query)\n",
    "        sp.run(query)\n",
    "    outfile_dict[simulation_id] = outfile"
   ]
  },
  {
   "cell_type": "code",
   "execution_count": null,
   "id": "fdac4518-eb70-4d17-b14a-4740285f56be",
   "metadata": {},
   "outputs": [],
   "source": []
  },
  {
   "cell_type": "code",
   "execution_count": null,
   "id": "0979fcae-db54-4a1d-aecc-ff66b91b3328",
   "metadata": {},
   "outputs": [],
   "source": []
  },
  {
   "cell_type": "code",
   "execution_count": null,
   "id": "416b5c66-9a6d-41ac-80c2-52a7fd7abf45",
   "metadata": {},
   "outputs": [],
   "source": []
  },
  {
   "cell_type": "code",
   "execution_count": null,
   "id": "3a746078-25e8-49a9-8c82-b24dfcc52124",
   "metadata": {},
   "outputs": [],
   "source": []
  },
  {
   "cell_type": "code",
   "execution_count": null,
   "id": "deb16943-b40d-4c04-b053-4e48c591a617",
   "metadata": {},
   "outputs": [],
   "source": []
  },
  {
   "cell_type": "code",
   "execution_count": null,
   "id": "4bb94c2f-9444-43f1-98c9-7a30f700b274",
   "metadata": {},
   "outputs": [],
   "source": []
  },
  {
   "cell_type": "code",
   "execution_count": null,
   "id": "e826c66d-9441-4c9a-bfc3-db19ef98a49a",
   "metadata": {},
   "outputs": [],
   "source": []
  },
  {
   "cell_type": "code",
   "execution_count": null,
   "id": "31c520a6-6b57-45a4-b564-4007453ae776",
   "metadata": {},
   "outputs": [],
   "source": []
  },
  {
   "cell_type": "code",
   "execution_count": null,
   "id": "9d197811-25c5-4212-94ca-0678212a6808",
   "metadata": {},
   "outputs": [],
   "source": []
  }
 ],
 "metadata": {
  "kernelspec": {
   "display_name": "Python 3 (based on the module python3/2022.01)",
   "language": "python",
   "name": "python3_2022_01"
  },
  "language_info": {
   "codemirror_mode": {
    "name": "ipython",
    "version": 3
   },
   "file_extension": ".py",
   "mimetype": "text/x-python",
   "name": "python",
   "nbconvert_exporter": "python",
   "pygments_lexer": "ipython3",
   "version": "3.9.9"
  }
 },
 "nbformat": 4,
 "nbformat_minor": 5
}
