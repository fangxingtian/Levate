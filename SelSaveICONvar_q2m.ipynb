{
 "cells": [
  {
   "cell_type": "code",
   "execution_count": 21,
   "id": "1cd3348a-5520-4861-8314-ba767421ee7d",
   "metadata": {},
   "outputs": [],
   "source": [
    "# basics\n",
    "import intake\n",
    "import xarray as xr\n",
    "import dask  # memory-efficient parallel computation and delayed execution (lazy evaluation).\n",
    "import subprocess as sp\n",
    "\n",
    "%run gem_helpers.ipynb\n",
    "\n",
    "uid = getpass.getuser()\n",
    "image_path = make_tempdir(\"intake_demo_plots\")\n",
    "data_cache_path = make_tempdir(\"intake_demo_data\")\n",
    "\n",
    "# this function is also part of the gem helpers\n",
    "def get_list_from_cat(catalog, column):\n",
    "    \"\"\"A helper function for getting the contents of a column in an intake catalog.\n",
    "\n",
    "    Call with the catalog to be inspected and the column of interest.\"\"\"\n",
    "    return sorted(catalog.unique(column)[column][\"values\"])\n",
    "\n",
    "catalog_file = \"/work/ka1081/Catalogs/dyamond-nextgems.json\"\n",
    "cat = intake.open_esm_datastore(catalog_file)\n"
   ]
  },
  {
   "cell_type": "code",
   "execution_count": 22,
   "id": "3626e3d4-5bde-4c5a-b27e-0ba128b39cda",
   "metadata": {},
   "outputs": [],
   "source": [
    "fre='1hour'\n",
    "var='Qbot'\n",
    "hits = cat.search(simulation_id=[\"ngc2009\", \"ngc2012\", \"ngc2013\"], frequency=fre, variable_id=var)"
   ]
  },
  {
   "cell_type": "code",
   "execution_count": 23,
   "id": "8dd3bae1-50bc-4d01-b181-614614b35b75",
   "metadata": {},
   "outputs": [
    {
     "data": {
      "text/html": [
       "<div>\n",
       "<style scoped>\n",
       "    .dataframe tbody tr th:only-of-type {\n",
       "        vertical-align: middle;\n",
       "    }\n",
       "\n",
       "    .dataframe tbody tr th {\n",
       "        vertical-align: top;\n",
       "    }\n",
       "\n",
       "    .dataframe thead th {\n",
       "        text-align: right;\n",
       "    }\n",
       "</style>\n",
       "<table border=\"1\" class=\"dataframe\">\n",
       "  <thead>\n",
       "    <tr style=\"text-align: right;\">\n",
       "      <th></th>\n",
       "      <th>grid_label</th>\n",
       "      <th>grid_id</th>\n",
       "      <th>simulation_id</th>\n",
       "      <th>variable_id</th>\n",
       "      <th>frequency</th>\n",
       "    </tr>\n",
       "  </thead>\n",
       "  <tbody>\n",
       "    <tr>\n",
       "      <th>0</th>\n",
       "      <td>gn</td>\n",
       "      <td>375cb0cc-637e-11e8-9d6f-8f41a9b9ff4b</td>\n",
       "      <td>ngc2009</td>\n",
       "      <td>(atmos_fluxes_FrshFlux_Evaporation, atmos_fluxes_FrshFlux_Precipitation, atmos_fluxes_FrshFlux_Runoff, atmos_fluxes_FrshFlux_SnowFall, atmos_fluxes_HeatFlux_Latent, atmos_fluxes_HeatFlux_LongWave, atmos_fluxes_HeatFlux_Sensible, atmos_fluxes_HeatFlux_ShortWave, atmos_fluxes_HeatFlux_Total, atmos_fluxes_stress_x, atmos_fluxes_stress_xw, atmos_fluxes_stress_y, atmos_fluxes_stress_yw, Qbot, Qtop)</td>\n",
       "      <td>1hour</td>\n",
       "    </tr>\n",
       "    <tr>\n",
       "      <th>1</th>\n",
       "      <td>gn</td>\n",
       "      <td>66c2eb2c-9bd9-11e8-97bc-e1d6091d8653</td>\n",
       "      <td>ngc2013</td>\n",
       "      <td>(atmos_fluxes_FrshFlux_Evaporation, atmos_fluxes_FrshFlux_Precipitation, atmos_fluxes_FrshFlux_Runoff, atmos_fluxes_FrshFlux_SnowFall, atmos_fluxes_HeatFlux_Latent, atmos_fluxes_HeatFlux_Sensible, atmos_fluxes_HeatFlux_LongWave, atmos_fluxes_HeatFlux_ShortWave, atmos_fluxes_HeatFlux_Total, atmos_fluxes_stress_x, atmos_fluxes_stress_y, atmos_fluxes_stress_xw, atmos_fluxes_stress_yw, Qtop, Qbot)</td>\n",
       "      <td>1hour</td>\n",
       "    </tr>\n",
       "    <tr>\n",
       "      <th>2</th>\n",
       "      <td>gn</td>\n",
       "      <td>not implemented</td>\n",
       "      <td>ngc2012</td>\n",
       "      <td>(atmos_fluxes_FrshFlux_Evaporation, atmos_fluxes_FrshFlux_Precipitation, atmos_fluxes_FrshFlux_Runoff, atmos_fluxes_FrshFlux_SnowFall, atmos_fluxes_HeatFlux_Latent, atmos_fluxes_HeatFlux_Sensible, atmos_fluxes_HeatFlux_LongWave, atmos_fluxes_HeatFlux_ShortWave, atmos_fluxes_HeatFlux_Total, atmos_fluxes_stress_x, atmos_fluxes_stress_y, atmos_fluxes_stress_xw, atmos_fluxes_stress_yw, Qtop, Qbot)</td>\n",
       "      <td>1hour</td>\n",
       "    </tr>\n",
       "  </tbody>\n",
       "</table>\n",
       "</div>"
      ],
      "text/plain": [
       "  grid_label                               grid_id simulation_id  \\\n",
       "0         gn  375cb0cc-637e-11e8-9d6f-8f41a9b9ff4b       ngc2009   \n",
       "1         gn  66c2eb2c-9bd9-11e8-97bc-e1d6091d8653       ngc2013   \n",
       "2         gn                       not implemented       ngc2012   \n",
       "\n",
       "                                                                                                                                                                                                                                                                                                                                                                                                    variable_id  \\\n",
       "0  (atmos_fluxes_FrshFlux_Evaporation, atmos_fluxes_FrshFlux_Precipitation, atmos_fluxes_FrshFlux_Runoff, atmos_fluxes_FrshFlux_SnowFall, atmos_fluxes_HeatFlux_Latent, atmos_fluxes_HeatFlux_LongWave, atmos_fluxes_HeatFlux_Sensible, atmos_fluxes_HeatFlux_ShortWave, atmos_fluxes_HeatFlux_Total, atmos_fluxes_stress_x, atmos_fluxes_stress_xw, atmos_fluxes_stress_y, atmos_fluxes_stress_yw, Qbot, Qtop)   \n",
       "1  (atmos_fluxes_FrshFlux_Evaporation, atmos_fluxes_FrshFlux_Precipitation, atmos_fluxes_FrshFlux_Runoff, atmos_fluxes_FrshFlux_SnowFall, atmos_fluxes_HeatFlux_Latent, atmos_fluxes_HeatFlux_Sensible, atmos_fluxes_HeatFlux_LongWave, atmos_fluxes_HeatFlux_ShortWave, atmos_fluxes_HeatFlux_Total, atmos_fluxes_stress_x, atmos_fluxes_stress_y, atmos_fluxes_stress_xw, atmos_fluxes_stress_yw, Qtop, Qbot)   \n",
       "2  (atmos_fluxes_FrshFlux_Evaporation, atmos_fluxes_FrshFlux_Precipitation, atmos_fluxes_FrshFlux_Runoff, atmos_fluxes_FrshFlux_SnowFall, atmos_fluxes_HeatFlux_Latent, atmos_fluxes_HeatFlux_Sensible, atmos_fluxes_HeatFlux_LongWave, atmos_fluxes_HeatFlux_ShortWave, atmos_fluxes_HeatFlux_Total, atmos_fluxes_stress_x, atmos_fluxes_stress_y, atmos_fluxes_stress_xw, atmos_fluxes_stress_yw, Qtop, Qbot)   \n",
       "\n",
       "  frequency  \n",
       "0     1hour  \n",
       "1     1hour  \n",
       "2     1hour  "
      ]
     },
     "execution_count": 23,
     "metadata": {},
     "output_type": "execute_result"
    }
   ],
   "source": [
    "get_from_cat(hits,[\"grid_label\",\"grid_id\",\"simulation_id\", \"variable_id\",\"frequency\"])"
   ]
  },
  {
   "cell_type": "code",
   "execution_count": 26,
   "id": "13eb2106-2882-4fa6-b563-3d97fb29fff6",
   "metadata": {},
   "outputs": [],
   "source": [
    "\n",
    "file_cat = {}\n",
    "for simulation_id in (\"ngc2012\", \"ngc2013\"):\n",
    "#for simulation_id in (\"ngc2009\"):\n",
    "    file_cat[simulation_id] = get_list_from_cat(\n",
    "        hits.search(simulation_id=simulation_id), \"uri\"\n",
    "    )"
   ]
  },
  {
   "cell_type": "code",
   "execution_count": null,
   "id": "6cded46b-2732-4196-ba49-9d85667dbc12",
   "metadata": {},
   "outputs": [],
   "source": []
  },
  {
   "cell_type": "code",
   "execution_count": 27,
   "id": "0bf10362-36cf-4513-99a0-7cb47aaac4a0",
   "metadata": {},
   "outputs": [
    {
     "name": "stdout",
     "output_type": "stream",
     "text": [
      "['cdo', '-P', '4', '-daymean', '-sellonlatbox,300,310,5,17', '-cat', '-apply,-selname,Qbot', '[', '/work/bm1235/k203123/experiments/ngc2012/run_20200120T000000-20200131T235830/ngc2012_oce_2d_1h_mean_20200120T000000Z.nc', '/work/bm1235/k203123/experiments/ngc2012/run_20200120T000000-20200131T235830/ngc2012_oce_2d_1h_mean_20200121T000000Z.nc', '/work/bm1235/k203123/experiments/ngc2012/run_20200120T000000-20200131T235830/ngc2012_oce_2d_1h_mean_20200122T000000Z.nc', '/work/bm1235/k203123/experiments/ngc2012/run_20200120T000000-20200131T235830/ngc2012_oce_2d_1h_mean_20200123T000000Z.nc', '/work/bm1235/k203123/experiments/ngc2012/run_20200120T000000-20200131T235830/ngc2012_oce_2d_1h_mean_20200124T000000Z.nc', '/work/bm1235/k203123/experiments/ngc2012/run_20200120T000000-20200131T235830/ngc2012_oce_2d_1h_mean_20200125T000000Z.nc', '/work/bm1235/k203123/experiments/ngc2012/run_20200120T000000-20200131T235830/ngc2012_oce_2d_1h_mean_20200126T000000Z.nc', '/work/bm1235/k203123/experiments/ngc2012/run_20200120T000000-20200131T235830/ngc2012_oce_2d_1h_mean_20200127T000000Z.nc', '/work/bm1235/k203123/experiments/ngc2012/run_20200120T000000-20200131T235830/ngc2012_oce_2d_1h_mean_20200128T000000Z.nc', '/work/bm1235/k203123/experiments/ngc2012/run_20200120T000000-20200131T235830/ngc2012_oce_2d_1h_mean_20200129T000000Z.nc', ']', '/scratch/b/b381639/intake_demo_data/Qbot_daymean_ngc2012.nc']\n",
      "cdo(1) sellonlatbox: Process started\n",
      "cdo(2) cat: Process started\n",
      "cdo(3) selname: Process started\n",
      "cdo(4) selname: Process started\n",
      "cdo(5) selname: Process started\n",
      "cdo(6) selname: Process started\n",
      "cdo(7) selname: Process started\n",
      "cdo(8) selname: Process started\n",
      "cdo(9) selname: Process started\n",
      "cdo(10) selname: Process started\n",
      "cdo(11) selname: Process started\n",
      "cdo(12) selname: Process started\n",
      "cdo(3) selname: Processed 85767023 values from 15 variables over 23 timesteps.\n",
      "cdo(4) selname: Processed 89496024 values from 15 variables over 24 timesteps.\n",
      "cdo(5) selname: Processed 89496024 values from 15 variables over 24 timesteps.\n",
      "cdo(6) selname: Processed 89496024 values from 15 variables over 24 timesteps.\n",
      "cdo(7) selname: Processed 89496024 values from 15 variables over 24 timesteps.\n",
      "cdo(8) selname: Processed 89496024 values from 15 variables over 24 timesteps.\n",
      "cdo(9) selname: Processed 89496024 values from 15 variables over 24 timesteps.\n",
      "cdo(10) selname: Processed 89496024 values from 15 variables over 24 timesteps.\n",
      "cdo(11) selname: Processed 89496024 values from 15 variables over 24 timesteps.\n",
      "cdo(12) selname: Processed 89496024 values from 15 variables over 24 timesteps.\n",
      "cdo(2) cat: Processed 891231239 values from 10 variables over 239 timesteps.\n",
      "cdo(1) sellonlatbox: Processed 891231239 values from 1 variable over 239 timesteps.\n",
      "cdo    daymean: Processed 3223393 values from 1 variable over 248 timesteps [11.16s 1568MB].\n",
      "['cdo', '-P', '4', '-daymean', '-sellonlatbox,300,310,5,17', '-cat', '-apply,-selname,Qbot', '[', '/work/bm1235/k203123/experiments/ngc2013/run_20200120T000000-20200131T235830/ngc2013_oce_2d_1h_mean_20200120T000000Z.nc', '/work/bm1235/k203123/experiments/ngc2013/run_20200120T000000-20200131T235830/ngc2013_oce_2d_1h_mean_20200121T000000Z.nc', '/work/bm1235/k203123/experiments/ngc2013/run_20200120T000000-20200131T235830/ngc2013_oce_2d_1h_mean_20200122T000000Z.nc', '/work/bm1235/k203123/experiments/ngc2013/run_20200120T000000-20200131T235830/ngc2013_oce_2d_1h_mean_20200123T000000Z.nc', '/work/bm1235/k203123/experiments/ngc2013/run_20200120T000000-20200131T235830/ngc2013_oce_2d_1h_mean_20200124T000000Z.nc', '/work/bm1235/k203123/experiments/ngc2013/run_20200120T000000-20200131T235830/ngc2013_oce_2d_1h_mean_20200125T000000Z.nc', '/work/bm1235/k203123/experiments/ngc2013/run_20200120T000000-20200131T235830/ngc2013_oce_2d_1h_mean_20200126T000000Z.nc', '/work/bm1235/k203123/experiments/ngc2013/run_20200120T000000-20200131T235830/ngc2013_oce_2d_1h_mean_20200127T000000Z.nc', '/work/bm1235/k203123/experiments/ngc2013/run_20200120T000000-20200131T235830/ngc2013_oce_2d_1h_mean_20200128T000000Z.nc', '/work/bm1235/k203123/experiments/ngc2013/run_20200120T000000-20200131T235830/ngc2013_oce_2d_1h_mean_20200129T000000Z.nc', ']', '/scratch/b/b381639/intake_demo_data/Qbot_daymean_ngc2013.nc']\n",
      "cdo(1) sellonlatbox: Process started\n",
      "cdo(2) cat: Process started\n",
      "cdo(3) selname: Process started\n",
      "cdo(4) selname: Process started\n",
      "cdo(5) selname: Process started\n",
      "cdo(6) selname: Process started\n",
      "cdo(7) selname: Process started\n",
      "cdo(8) selname: Process started\n",
      "cdo(9) selname: Process started\n",
      "cdo(10) selname: Process started\n",
      "cdo(11) selname: Process started\n",
      "cdo(12) selname: Process started\n",
      "cdo(3) selname: Processed 85767023 values from 15 variables over 23 timesteps.\n",
      "cdo(4) selname: Processed 89496024 values from 15 variables over 24 timesteps.\n",
      "cdo(5) selname: Processed 89496024 values from 15 variables over 24 timesteps.\n",
      "cdo(6) selname: Processed 89496024 values from 15 variables over 24 timesteps.\n",
      "cdo(7) selname: Processed 89496024 values from 15 variables over 24 timesteps.\n",
      "cdo(8) selname: Processed 89496024 values from 15 variables over 24 timesteps.\n",
      "cdo(9) selname: Processed 89496024 values from 15 variables over 24 timesteps.\n",
      "cdo(10) selname: Processed 89496024 values from 15 variables over 24 timesteps.\n",
      "cdo(11) selname: Processed 89496024 values from 15 variables over 24 timesteps.\n",
      "cdo(12) selname: Processed 89496024 values from 15 variables over 24 timesteps.\n",
      "cdo(2) cat: Processed 891231239 values from 10 variables over 239 timesteps.\n",
      "cdo(1) sellonlatbox: Processed 891231239 values from 1 variable over 239 timesteps.\n",
      "cdo    daymean: Processed 3223393 values from 1 variable over 248 timesteps [11.44s 1568MB].\n"
     ]
    }
   ],
   "source": [
    "\n",
    "\n",
    "outfile_dict = {}\n",
    "for simulation_id, files in file_cat.items():\n",
    "    outfile = f\"{data_cache_path}/{var}_daymean_{simulation_id}.nc\"\n",
    "    if True: # not os.access(outfile, os.R_OK):\n",
    "        query = (\n",
    "            [\n",
    "                \"cdo\",\n",
    "                \"-P\",\n",
    "                \"4\",\n",
    "#                \"-remapcon,r360x180\",\n",
    "                \"-daymean\",\n",
    "                \"-sellonlatbox,300,310,5,17\",   #-sellonlatbox,0,360,-30,30\"\n",
    "                \"-cat\",\n",
    "                f\"-apply,-selname,{var}\",\n",
    "                \"[\",\n",
    "            ]\n",
    "            + files[:10]\n",
    "            + [\"]\", outfile]\n",
    "        )\n",
    "        # Note, we only use the first 10 files to save time (the [:10] in files[:10]). Remove the [:10] to compute over the whole experiment.\n",
    "        print(query)\n",
    "        sp.run(query)\n",
    "    outfile_dict[simulation_id] = outfile"
   ]
  },
  {
   "cell_type": "code",
   "execution_count": null,
   "id": "da5ff99a-8505-494e-a1b3-58a94b7d5de5",
   "metadata": {},
   "outputs": [],
   "source": [
    "\n"
   ]
  },
  {
   "cell_type": "code",
   "execution_count": null,
   "id": "482c075d-70d2-49c7-a68c-1675ec106b11",
   "metadata": {},
   "outputs": [],
   "source": []
  },
  {
   "cell_type": "code",
   "execution_count": null,
   "id": "987d7c16-7c54-4b42-bf86-d33ea1c36384",
   "metadata": {},
   "outputs": [],
   "source": []
  },
  {
   "cell_type": "code",
   "execution_count": null,
   "id": "4d8677e1-854c-46b3-8fb5-151664a40662",
   "metadata": {},
   "outputs": [],
   "source": []
  },
  {
   "cell_type": "code",
   "execution_count": null,
   "id": "50126cfd-fe10-4e5d-a396-da81806a872c",
   "metadata": {},
   "outputs": [],
   "source": []
  },
  {
   "cell_type": "code",
   "execution_count": null,
   "id": "26cf1390-60dd-4d1c-8dce-bc45e15e81b4",
   "metadata": {},
   "outputs": [],
   "source": []
  },
  {
   "cell_type": "code",
   "execution_count": null,
   "id": "b1ef48ca-82a9-4053-b92f-4d8d3a0f3005",
   "metadata": {},
   "outputs": [],
   "source": []
  },
  {
   "cell_type": "code",
   "execution_count": 26,
   "id": "31d812e5-7237-48bf-8095-107025c8df02",
   "metadata": {},
   "outputs": [
    {
     "name": "stdout",
     "output_type": "stream",
     "text": [
      "['cdo', '-P', '4', '-remapcon,r360x180', '-daymean', '-sellonlatbox,300,310,5,17', '-cat', '-apply,-selname,sfcwind', '[', '/work/bm1235/k203123/experiments/ngc2012/run_20200120T000000-20200131T235830/ngc2012_atm_2d_3h_mean_20200120T000000Z.nc', ']', '/scratch/b/b381639/intake_demo_data/sfcwind_daymean_ngc2012.nc']\n",
      "cdo(1) daymean: Process started\n",
      "cdo(2) sellonlatbox: Process started\n",
      "cdo(3) cat: Process started\n",
      "cdo(4) selname: Process started\n",
      "cdo    remapcon: YAC first order conservative weights from unstructured (14701) to lonlat (360x180) grid\n",
      "cdo(4) selname: Processed 503316480 values from 26 variables over 96 timesteps.\n",
      "cdo(3) cat: Processed 503316480 values from 1 variable over 96 timesteps.\n",
      "cdo(2) sellonlatbox: Processed 503316480 values from 1 variable over 96 timesteps.\n",
      "cdo(1) daymean: Processed 1411296 values from 1 variable over 107 timesteps.\n",
      "cdo    remapcon: Processed 176412 values from 1 variable over 12 timesteps [10.88s 2043MB].\n"
     ]
    },
    {
     "ename": "NameError",
     "evalue": "name 'outfile_dict' is not defined",
     "output_type": "error",
     "traceback": [
      "\u001b[0;31m---------------------------------------------------------------------------\u001b[0m",
      "\u001b[0;31mNameError\u001b[0m                                 Traceback (most recent call last)",
      "Input \u001b[0;32mIn [26]\u001b[0m, in \u001b[0;36m<cell line: 1>\u001b[0;34m()\u001b[0m\n\u001b[1;32m     21\u001b[0m     \u001b[38;5;28mprint\u001b[39m(query)\n\u001b[1;32m     22\u001b[0m     sp\u001b[38;5;241m.\u001b[39mrun(query)\n\u001b[0;32m---> 23\u001b[0m \u001b[43moutfile_dict\u001b[49m[simulation_id] \u001b[38;5;241m=\u001b[39m outfile\n",
      "\u001b[0;31mNameError\u001b[0m: name 'outfile_dict' is not defined"
     ]
    }
   ],
   "source": [
    "for files in file_cat:\n",
    "    fileS=files.split(',')\n",
    "    outfile = f\"{data_cache_path}/{var}_daymean_{simulation_id}.nc\"\n",
    "    if True:\n",
    "        query = (\n",
    "            [\n",
    "                \"cdo\",\n",
    "                \"-P\",\n",
    "                \"4\",\n",
    "                \"-remapcon,r360x180\",\n",
    "                \"-daymean\",\n",
    "                \"-sellonlatbox,300,310,5,17\",   #-sellonlatbox,0,360,-30,30\"\n",
    "                \"-cat\",\n",
    "                f\"-apply,-selname,{var}\",\n",
    "                \"[\",\n",
    "            ]\n",
    "            + fileS[:10]\n",
    "            + [\"]\", outfile]\n",
    "        )\n",
    "        # Note, we only use the first 10 files to save time (the [:10] in files[:10]). Remove the [:10] to compute over the whole experiment.\n",
    "        print(query)\n",
    "        sp.run(query)\n",
    "    outfile_dict[simulation_id] = outfile"
   ]
  },
  {
   "cell_type": "code",
   "execution_count": null,
   "id": "a9589901-d3f9-41ad-820e-fa35c87d2c22",
   "metadata": {},
   "outputs": [],
   "source": []
  },
  {
   "cell_type": "code",
   "execution_count": 14,
   "id": "a065682c-a281-4d53-9ef4-dd6c20affd43",
   "metadata": {},
   "outputs": [],
   "source": [
    "\n",
    "    "
   ]
  },
  {
   "cell_type": "code",
   "execution_count": null,
   "id": "f78d1f91-1715-4aa5-bfee-baf7aca5f2be",
   "metadata": {},
   "outputs": [],
   "source": []
  },
  {
   "cell_type": "code",
   "execution_count": 71,
   "id": "896e7f15-7518-4cbb-82de-57caa7d302c5",
   "metadata": {},
   "outputs": [
    {
     "data": {
      "text/plain": [
       "'/scratch/b/b381639/intake_demo_data/sfcwind_daymean_1.nc'"
      ]
     },
     "execution_count": 71,
     "metadata": {},
     "output_type": "execute_result"
    }
   ],
   "source": [
    "outfile_dict = {}\n",
    "for simulation_id, files in file_cat.items():\n",
    "    outfile = f\"{data_cache_path}/{var}_daymean_{simulation_id}.nc\"\n",
    "    if True: # not os.access(outfile, os.R_OK):\n",
    "        query = (\n",
    "            [\n",
    "                \"cdo\",\n",
    "                \"-P\",\n",
    "                \"4\",\n",
    "                \"-remapcon,r360x180\",\n",
    "                \"-daymean\",\n",
    "                \"-sellonlatbox,300,310,5,17\",   #-sellonlatbox,0,360,-30,30\"\n",
    "                \"-cat\",\n",
    "                f\"-apply,-selname,{var}\",\n",
    "                \"[\",\n",
    "            ]\n",
    "            + files[:10]\n",
    "            + [\"]\", outfile]\n",
    "        )\n",
    "        # Note, we only use the first 10 files to save time (the [:10] in files[:10]). Remove the [:10] to compute over the whole experiment.\n",
    "        print(query)\n",
    "        sp.run(query)\n",
    "    outfile_dict[simulation_id] = outfile"
   ]
  },
  {
   "cell_type": "code",
   "execution_count": 19,
   "id": "fc20874b-3cda-4efc-9e78-4372035445d6",
   "metadata": {},
   "outputs": [
    {
     "name": "stderr",
     "output_type": "stream",
     "text": [
      "/sw/spack-levante/mambaforge-4.11.0-0-Linux-x86_64-sobz6z/lib/python3.9/site-packages/intake_esm/search.py:106: UserWarning: Query returned zero results.\n",
      "  warn(message)\n",
      "/sw/spack-levante/mambaforge-4.11.0-0-Linux-x86_64-sobz6z/lib/python3.9/site-packages/intake_esm/search.py:20: FutureWarning: The default dtype for empty Series will be 'object' instead of 'float64' in a future version. Specify a dtype explicitly to silence this warning.\n",
      "  x = df[columns].apply(_find_unique, result_type='reduce').to_dict()\n"
     ]
    },
    {
     "ename": "ValueError",
     "evalue": "Length of values (0) does not match length of index (1)",
     "output_type": "error",
     "traceback": [
      "\u001b[0;31m---------------------------------------------------------------------------\u001b[0m",
      "\u001b[0;31mValueError\u001b[0m                                Traceback (most recent call last)",
      "Input \u001b[0;32mIn [19]\u001b[0m, in \u001b[0;36m<cell line: 3>\u001b[0;34m()\u001b[0m\n\u001b[1;32m      2\u001b[0m \u001b[38;5;66;03m#for simulation_id in (\"ngc2009\", \"ngc2012\"):\u001b[39;00m\n\u001b[1;32m      3\u001b[0m \u001b[38;5;28;01mfor\u001b[39;00m simulation_id \u001b[38;5;129;01min\u001b[39;00m (\u001b[38;5;124m\"\u001b[39m\u001b[38;5;124mngc2009\u001b[39m\u001b[38;5;124m\"\u001b[39m,\u001b[38;5;124m\"\u001b[39m\u001b[38;5;124mngc2012\u001b[39m\u001b[38;5;124m\"\u001b[39m):\n\u001b[0;32m----> 4\u001b[0m     file_cat[simulation_id] \u001b[38;5;241m=\u001b[39m \u001b[43mget_list_from_cat\u001b[49m\u001b[43m(\u001b[49m\n\u001b[1;32m      5\u001b[0m \u001b[43m        \u001b[49m\u001b[43mhits\u001b[49m\u001b[38;5;241;43m.\u001b[39;49m\u001b[43msearch\u001b[49m\u001b[43m(\u001b[49m\u001b[43msimulation_id\u001b[49m\u001b[38;5;241;43m=\u001b[39;49m\u001b[43msimulation_id\u001b[49m\u001b[43m)\u001b[49m\u001b[43m,\u001b[49m\u001b[43m \u001b[49m\u001b[38;5;124;43m\"\u001b[39;49m\u001b[38;5;124;43muri\u001b[39;49m\u001b[38;5;124;43m\"\u001b[39;49m\n\u001b[1;32m      6\u001b[0m \u001b[43m    \u001b[49m\u001b[43m)\u001b[49m\n\u001b[1;32m      8\u001b[0m outfile_dict \u001b[38;5;241m=\u001b[39m {}\n\u001b[1;32m      9\u001b[0m \u001b[38;5;28;01mfor\u001b[39;00m simulation_id, files \u001b[38;5;129;01min\u001b[39;00m file_cat\u001b[38;5;241m.\u001b[39mitems():\n",
      "Input \u001b[0;32mIn [1]\u001b[0m, in \u001b[0;36mget_list_from_cat\u001b[0;34m(catalog, column)\u001b[0m\n\u001b[1;32m     14\u001b[0m \u001b[38;5;28;01mdef\u001b[39;00m \u001b[38;5;21mget_list_from_cat\u001b[39m(catalog, column):\n\u001b[1;32m     15\u001b[0m     \u001b[38;5;124;03m\"\"\"A helper function for getting the contents of a column in an intake catalog.\u001b[39;00m\n\u001b[1;32m     16\u001b[0m \n\u001b[1;32m     17\u001b[0m \u001b[38;5;124;03m    Call with the catalog to be inspected and the column of interest.\"\"\"\u001b[39;00m\n\u001b[0;32m---> 18\u001b[0m     \u001b[38;5;28;01mreturn\u001b[39;00m \u001b[38;5;28msorted\u001b[39m(\u001b[43mcatalog\u001b[49m\u001b[38;5;241;43m.\u001b[39;49m\u001b[43munique\u001b[49m\u001b[43m(\u001b[49m\u001b[43mcolumn\u001b[49m\u001b[43m)\u001b[49m[column][\u001b[38;5;124m\"\u001b[39m\u001b[38;5;124mvalues\u001b[39m\u001b[38;5;124m\"\u001b[39m])\n",
      "File \u001b[0;32m/sw/spack-levante/mambaforge-4.11.0-0-Linux-x86_64-sobz6z/lib/python3.9/site-packages/intake_esm/core.py:812\u001b[0m, in \u001b[0;36mesm_datastore.unique\u001b[0;34m(self, columns)\u001b[0m\n\u001b[1;32m    760\u001b[0m \u001b[38;5;28;01mdef\u001b[39;00m \u001b[38;5;21munique\u001b[39m(\u001b[38;5;28mself\u001b[39m, columns: Union[\u001b[38;5;28mstr\u001b[39m, List] \u001b[38;5;241m=\u001b[39m \u001b[38;5;28;01mNone\u001b[39;00m) \u001b[38;5;241m-\u001b[39m\u001b[38;5;241m>\u001b[39m Dict[\u001b[38;5;28mstr\u001b[39m, Any]:\n\u001b[1;32m    761\u001b[0m     \u001b[38;5;124;03m\"\"\"Return unique values for given columns in the\u001b[39;00m\n\u001b[1;32m    762\u001b[0m \u001b[38;5;124;03m    catalog.\u001b[39;00m\n\u001b[1;32m    763\u001b[0m \n\u001b[0;32m   (...)\u001b[0m\n\u001b[1;32m    810\u001b[0m \n\u001b[1;32m    811\u001b[0m \u001b[38;5;124;03m    \"\"\"\u001b[39;00m\n\u001b[0;32m--> 812\u001b[0m     \u001b[38;5;28;01mreturn\u001b[39;00m \u001b[43m_unique\u001b[49m\u001b[43m(\u001b[49m\u001b[38;5;28;43mself\u001b[39;49m\u001b[38;5;241;43m.\u001b[39;49m\u001b[43mdf\u001b[49m\u001b[43m,\u001b[49m\u001b[43m \u001b[49m\u001b[43mcolumns\u001b[49m\u001b[43m)\u001b[49m\n",
      "File \u001b[0;32m/sw/spack-levante/mambaforge-4.11.0-0-Linux-x86_64-sobz6z/lib/python3.9/site-packages/intake_esm/search.py:20\u001b[0m, in \u001b[0;36m_unique\u001b[0;34m(df, columns)\u001b[0m\n\u001b[1;32m     17\u001b[0m     values \u001b[38;5;241m=\u001b[39m series\u001b[38;5;241m.\u001b[39mdropna()\u001b[38;5;241m.\u001b[39mvalues\n\u001b[1;32m     18\u001b[0m     \u001b[38;5;28;01mreturn\u001b[39;00m \u001b[38;5;28mlist\u001b[39m(\u001b[38;5;28mset\u001b[39m(_flatten_list(values)))\n\u001b[0;32m---> 20\u001b[0m x \u001b[38;5;241m=\u001b[39m \u001b[43mdf\u001b[49m\u001b[43m[\u001b[49m\u001b[43mcolumns\u001b[49m\u001b[43m]\u001b[49m\u001b[38;5;241;43m.\u001b[39;49m\u001b[43mapply\u001b[49m\u001b[43m(\u001b[49m\u001b[43m_find_unique\u001b[49m\u001b[43m,\u001b[49m\u001b[43m \u001b[49m\u001b[43mresult_type\u001b[49m\u001b[38;5;241;43m=\u001b[39;49m\u001b[38;5;124;43m'\u001b[39;49m\u001b[38;5;124;43mreduce\u001b[39;49m\u001b[38;5;124;43m'\u001b[39;49m\u001b[43m)\u001b[49m\u001b[38;5;241m.\u001b[39mto_dict()\n\u001b[1;32m     21\u001b[0m info \u001b[38;5;241m=\u001b[39m {}\n\u001b[1;32m     22\u001b[0m \u001b[38;5;28;01mfor\u001b[39;00m col \u001b[38;5;129;01min\u001b[39;00m x\u001b[38;5;241m.\u001b[39mkeys():\n",
      "File \u001b[0;32m/sw/spack-levante/mambaforge-4.11.0-0-Linux-x86_64-sobz6z/lib/python3.9/site-packages/pandas/core/frame.py:8839\u001b[0m, in \u001b[0;36mDataFrame.apply\u001b[0;34m(self, func, axis, raw, result_type, args, **kwargs)\u001b[0m\n\u001b[1;32m   8828\u001b[0m \u001b[38;5;28;01mfrom\u001b[39;00m \u001b[38;5;21;01mpandas\u001b[39;00m\u001b[38;5;21;01m.\u001b[39;00m\u001b[38;5;21;01mcore\u001b[39;00m\u001b[38;5;21;01m.\u001b[39;00m\u001b[38;5;21;01mapply\u001b[39;00m \u001b[38;5;28;01mimport\u001b[39;00m frame_apply\n\u001b[1;32m   8830\u001b[0m op \u001b[38;5;241m=\u001b[39m frame_apply(\n\u001b[1;32m   8831\u001b[0m     \u001b[38;5;28mself\u001b[39m,\n\u001b[1;32m   8832\u001b[0m     func\u001b[38;5;241m=\u001b[39mfunc,\n\u001b[0;32m   (...)\u001b[0m\n\u001b[1;32m   8837\u001b[0m     kwargs\u001b[38;5;241m=\u001b[39mkwargs,\n\u001b[1;32m   8838\u001b[0m )\n\u001b[0;32m-> 8839\u001b[0m \u001b[38;5;28;01mreturn\u001b[39;00m \u001b[43mop\u001b[49m\u001b[38;5;241;43m.\u001b[39;49m\u001b[43mapply\u001b[49m\u001b[43m(\u001b[49m\u001b[43m)\u001b[49m\u001b[38;5;241m.\u001b[39m__finalize__(\u001b[38;5;28mself\u001b[39m, method\u001b[38;5;241m=\u001b[39m\u001b[38;5;124m\"\u001b[39m\u001b[38;5;124mapply\u001b[39m\u001b[38;5;124m\"\u001b[39m)\n",
      "File \u001b[0;32m/sw/spack-levante/mambaforge-4.11.0-0-Linux-x86_64-sobz6z/lib/python3.9/site-packages/pandas/core/apply.py:721\u001b[0m, in \u001b[0;36mFrameApply.apply\u001b[0;34m(self)\u001b[0m\n\u001b[1;32m    719\u001b[0m \u001b[38;5;66;03m# one axis empty\u001b[39;00m\n\u001b[1;32m    720\u001b[0m \u001b[38;5;28;01melif\u001b[39;00m \u001b[38;5;129;01mnot\u001b[39;00m \u001b[38;5;28mall\u001b[39m(\u001b[38;5;28mself\u001b[39m\u001b[38;5;241m.\u001b[39mobj\u001b[38;5;241m.\u001b[39mshape):\n\u001b[0;32m--> 721\u001b[0m     \u001b[38;5;28;01mreturn\u001b[39;00m \u001b[38;5;28;43mself\u001b[39;49m\u001b[38;5;241;43m.\u001b[39;49m\u001b[43mapply_empty_result\u001b[49m\u001b[43m(\u001b[49m\u001b[43m)\u001b[49m\n\u001b[1;32m    723\u001b[0m \u001b[38;5;66;03m# raw\u001b[39;00m\n\u001b[1;32m    724\u001b[0m \u001b[38;5;28;01melif\u001b[39;00m \u001b[38;5;28mself\u001b[39m\u001b[38;5;241m.\u001b[39mraw:\n",
      "File \u001b[0;32m/sw/spack-levante/mambaforge-4.11.0-0-Linux-x86_64-sobz6z/lib/python3.9/site-packages/pandas/core/apply.py:791\u001b[0m, in \u001b[0;36mFrameApply.apply_empty_result\u001b[0;34m(self)\u001b[0m\n\u001b[1;32m    788\u001b[0m     \u001b[38;5;28;01melse\u001b[39;00m:\n\u001b[1;32m    789\u001b[0m         r \u001b[38;5;241m=\u001b[39m np\u001b[38;5;241m.\u001b[39mnan\n\u001b[0;32m--> 791\u001b[0m     \u001b[38;5;28;01mreturn\u001b[39;00m \u001b[38;5;28;43mself\u001b[39;49m\u001b[38;5;241;43m.\u001b[39;49m\u001b[43mobj\u001b[49m\u001b[38;5;241;43m.\u001b[39;49m\u001b[43m_constructor_sliced\u001b[49m\u001b[43m(\u001b[49m\u001b[43mr\u001b[49m\u001b[43m,\u001b[49m\u001b[43m \u001b[49m\u001b[43mindex\u001b[49m\u001b[38;5;241;43m=\u001b[39;49m\u001b[38;5;28;43mself\u001b[39;49m\u001b[38;5;241;43m.\u001b[39;49m\u001b[43magg_axis\u001b[49m\u001b[43m)\u001b[49m\n\u001b[1;32m    792\u001b[0m \u001b[38;5;28;01melse\u001b[39;00m:\n\u001b[1;32m    793\u001b[0m     \u001b[38;5;28;01mreturn\u001b[39;00m \u001b[38;5;28mself\u001b[39m\u001b[38;5;241m.\u001b[39mobj\u001b[38;5;241m.\u001b[39mcopy()\n",
      "File \u001b[0;32m/sw/spack-levante/mambaforge-4.11.0-0-Linux-x86_64-sobz6z/lib/python3.9/site-packages/pandas/core/series.py:442\u001b[0m, in \u001b[0;36mSeries.__init__\u001b[0;34m(self, data, index, dtype, name, copy, fastpath)\u001b[0m\n\u001b[1;32m    440\u001b[0m     index \u001b[38;5;241m=\u001b[39m default_index(\u001b[38;5;28mlen\u001b[39m(data))\n\u001b[1;32m    441\u001b[0m \u001b[38;5;28;01melif\u001b[39;00m is_list_like(data):\n\u001b[0;32m--> 442\u001b[0m     \u001b[43mcom\u001b[49m\u001b[38;5;241;43m.\u001b[39;49m\u001b[43mrequire_length_match\u001b[49m\u001b[43m(\u001b[49m\u001b[43mdata\u001b[49m\u001b[43m,\u001b[49m\u001b[43m \u001b[49m\u001b[43mindex\u001b[49m\u001b[43m)\u001b[49m\n\u001b[1;32m    444\u001b[0m \u001b[38;5;66;03m# create/copy the manager\u001b[39;00m\n\u001b[1;32m    445\u001b[0m \u001b[38;5;28;01mif\u001b[39;00m \u001b[38;5;28misinstance\u001b[39m(data, (SingleBlockManager, SingleArrayManager)):\n",
      "File \u001b[0;32m/sw/spack-levante/mambaforge-4.11.0-0-Linux-x86_64-sobz6z/lib/python3.9/site-packages/pandas/core/common.py:557\u001b[0m, in \u001b[0;36mrequire_length_match\u001b[0;34m(data, index)\u001b[0m\n\u001b[1;32m    553\u001b[0m \u001b[38;5;124;03m\"\"\"\u001b[39;00m\n\u001b[1;32m    554\u001b[0m \u001b[38;5;124;03mCheck the length of data matches the length of the index.\u001b[39;00m\n\u001b[1;32m    555\u001b[0m \u001b[38;5;124;03m\"\"\"\u001b[39;00m\n\u001b[1;32m    556\u001b[0m \u001b[38;5;28;01mif\u001b[39;00m \u001b[38;5;28mlen\u001b[39m(data) \u001b[38;5;241m!=\u001b[39m \u001b[38;5;28mlen\u001b[39m(index):\n\u001b[0;32m--> 557\u001b[0m     \u001b[38;5;28;01mraise\u001b[39;00m \u001b[38;5;167;01mValueError\u001b[39;00m(\n\u001b[1;32m    558\u001b[0m         \u001b[38;5;124m\"\u001b[39m\u001b[38;5;124mLength of values \u001b[39m\u001b[38;5;124m\"\u001b[39m\n\u001b[1;32m    559\u001b[0m         \u001b[38;5;124mf\u001b[39m\u001b[38;5;124m\"\u001b[39m\u001b[38;5;124m(\u001b[39m\u001b[38;5;132;01m{\u001b[39;00m\u001b[38;5;28mlen\u001b[39m(data)\u001b[38;5;132;01m}\u001b[39;00m\u001b[38;5;124m) \u001b[39m\u001b[38;5;124m\"\u001b[39m\n\u001b[1;32m    560\u001b[0m         \u001b[38;5;124m\"\u001b[39m\u001b[38;5;124mdoes not match length of index \u001b[39m\u001b[38;5;124m\"\u001b[39m\n\u001b[1;32m    561\u001b[0m         \u001b[38;5;124mf\u001b[39m\u001b[38;5;124m\"\u001b[39m\u001b[38;5;124m(\u001b[39m\u001b[38;5;132;01m{\u001b[39;00m\u001b[38;5;28mlen\u001b[39m(index)\u001b[38;5;132;01m}\u001b[39;00m\u001b[38;5;124m)\u001b[39m\u001b[38;5;124m\"\u001b[39m\n\u001b[1;32m    562\u001b[0m     )\n",
      "\u001b[0;31mValueError\u001b[0m: Length of values (0) does not match length of index (1)"
     ]
    }
   ],
   "source": [
    "file_cat = {}\n",
    "#for simulation_id in (\"ngc2009\", \"ngc2012\"):\n",
    "for simulation_id in (\"ngc2009\",\"ngc2012\"):\n",
    "    file_cat[simulation_id] = get_list_from_cat(\n",
    "        hits.search(simulation_id=simulation_id), \"uri\"\n",
    "    )\n",
    "\n",
    "outfile_dict = {}\n",
    "for simulation_id, files in file_cat.items():\n",
    "    outfile = f\"{data_cache_path}/{var}_daymean_{simulation_id}.nc\"\n",
    "    if True: # not os.access(outfile, os.R_OK):\n",
    "        query = (\n",
    "            [\n",
    "                \"cdo\",\n",
    "                \"-P\",\n",
    "                \"4\",\n",
    "                \"-remapcon,r360x180\",\n",
    "                \"-daymean\",\n",
    "                \"-sellonlatbox,300,310,5,17\",   #-sellonlatbox,0,360,-30,30\"\n",
    "                \"-cat\",\n",
    "                f\"-apply,-selname,{var}\",\n",
    "                \"[\",\n",
    "            ]\n",
    "            + files[:10]\n",
    "            + [\"]\", outfile]\n",
    "        )\n",
    "        # Note, we only use the first 10 files to save time (the [:10] in files[:10]). Remove the [:10] to compute over the whole experiment.\n",
    "        print(query)\n",
    "        sp.run(query)\n",
    "    outfile_dict[simulation_id] = outfile"
   ]
  },
  {
   "cell_type": "code",
   "execution_count": null,
   "id": "fdac4518-eb70-4d17-b14a-4740285f56be",
   "metadata": {},
   "outputs": [],
   "source": []
  },
  {
   "cell_type": "code",
   "execution_count": null,
   "id": "0979fcae-db54-4a1d-aecc-ff66b91b3328",
   "metadata": {},
   "outputs": [],
   "source": []
  },
  {
   "cell_type": "code",
   "execution_count": null,
   "id": "416b5c66-9a6d-41ac-80c2-52a7fd7abf45",
   "metadata": {},
   "outputs": [],
   "source": []
  },
  {
   "cell_type": "code",
   "execution_count": null,
   "id": "3a746078-25e8-49a9-8c82-b24dfcc52124",
   "metadata": {},
   "outputs": [],
   "source": []
  },
  {
   "cell_type": "code",
   "execution_count": null,
   "id": "deb16943-b40d-4c04-b053-4e48c591a617",
   "metadata": {},
   "outputs": [],
   "source": []
  },
  {
   "cell_type": "code",
   "execution_count": null,
   "id": "4bb94c2f-9444-43f1-98c9-7a30f700b274",
   "metadata": {},
   "outputs": [],
   "source": []
  },
  {
   "cell_type": "code",
   "execution_count": null,
   "id": "e826c66d-9441-4c9a-bfc3-db19ef98a49a",
   "metadata": {},
   "outputs": [],
   "source": []
  },
  {
   "cell_type": "code",
   "execution_count": null,
   "id": "31c520a6-6b57-45a4-b564-4007453ae776",
   "metadata": {},
   "outputs": [],
   "source": []
  },
  {
   "cell_type": "code",
   "execution_count": null,
   "id": "9d197811-25c5-4212-94ca-0678212a6808",
   "metadata": {},
   "outputs": [],
   "source": []
  }
 ],
 "metadata": {
  "kernelspec": {
   "display_name": "Python 3 (based on the module python3/2022.01)",
   "language": "python",
   "name": "python3_2022_01"
  },
  "language_info": {
   "codemirror_mode": {
    "name": "ipython",
    "version": 3
   },
   "file_extension": ".py",
   "mimetype": "text/x-python",
   "name": "python",
   "nbconvert_exporter": "python",
   "pygments_lexer": "ipython3",
   "version": "3.9.9"
  }
 },
 "nbformat": 4,
 "nbformat_minor": 5
}
