{
 "cells": [
  {
   "cell_type": "code",
   "execution_count": 1,
   "id": "9606b5bb-5c1e-4f36-baa3-3fc05130362c",
   "metadata": {},
   "outputs": [
    {
     "ename": "ModuleNotFoundError",
     "evalue": "No module named 'gribscan'",
     "output_type": "error",
     "traceback": [
      "\u001b[0;31m---------------------------------------------------------------------------\u001b[0m",
      "\u001b[0;31mModuleNotFoundError\u001b[0m                       Traceback (most recent call last)",
      "Input \u001b[0;32mIn [1]\u001b[0m, in \u001b[0;36m<cell line: 8>\u001b[0;34m()\u001b[0m\n\u001b[1;32m      6\u001b[0m \u001b[38;5;28;01mimport\u001b[39;00m \u001b[38;5;21;01mcmocean\u001b[39;00m\u001b[38;5;21;01m.\u001b[39;00m\u001b[38;5;21;01mcm\u001b[39;00m \u001b[38;5;28;01mas\u001b[39;00m \u001b[38;5;21;01mcmo\u001b[39;00m\n\u001b[1;32m      7\u001b[0m \u001b[38;5;28;01mfrom\u001b[39;00m \u001b[38;5;21;01mscipy\u001b[39;00m\u001b[38;5;21;01m.\u001b[39;00m\u001b[38;5;21;01minterpolate\u001b[39;00m \u001b[38;5;28;01mimport\u001b[39;00m CloughTocher2DInterpolator, LinearNDInterpolator, NearestNDInterpolator\n\u001b[0;32m----> 8\u001b[0m \u001b[38;5;28;01mimport\u001b[39;00m \u001b[38;5;21;01mgribscan\u001b[39;00m\n\u001b[1;32m      9\u001b[0m \u001b[38;5;28;01mimport\u001b[39;00m \u001b[38;5;21;01mglob\u001b[39;00m\n\u001b[1;32m     10\u001b[0m \u001b[38;5;28;01mimport\u001b[39;00m \u001b[38;5;21;01mintake\u001b[39;00m\n",
      "\u001b[0;31mModuleNotFoundError\u001b[0m: No module named 'gribscan'"
     ]
    }
   ],
   "source": [
    "# import intake\n",
    "import xarray as xr\n",
    "import numpy as np\n",
    "import matplotlib.pylab as plt\n",
    "import matplotlib.cm as cm\n",
    "import cmocean.cm as cmo\n",
    "from scipy.interpolate import CloughTocher2DInterpolator, LinearNDInterpolator, NearestNDInterpolator\n",
    "import gribscan\n",
    "import glob\n",
    "import intake"
   ]
  },
  {
   "cell_type": "code",
   "execution_count": 1,
   "id": "c51db5e8-8a8b-47ab-a41b-01061e6cb503",
   "metadata": {},
   "outputs": [
    {
     "name": "stdout",
     "output_type": "stream",
     "text": [
      "Defaulting to user installation because normal site-packages is not writeable\n",
      "Collecting gribscan\n",
      "  Downloading gribscan-0.0.4-py3-none-any.whl (11 kB)\n",
      "Collecting eccodes\n",
      "  Downloading eccodes-1.4.2.tar.gz (55 kB)\n",
      "\u001b[2K     \u001b[90m━━━━━━━━━━━━━━━━━━━━━━━━━━━━━━━━━━━━━━━━\u001b[0m \u001b[32m55.2/55.2 kB\u001b[0m \u001b[31m3.8 MB/s\u001b[0m eta \u001b[36m0:00:00\u001b[0m\n",
      "\u001b[?25h  Preparing metadata (setup.py) ... \u001b[?25ldone\n",
      "\u001b[?25hRequirement already satisfied: numpy in /sw/spack-levante/mambaforge-4.11.0-0-Linux-x86_64-sobz6z/lib/python3.9/site-packages (from gribscan) (1.20.3)\n",
      "Requirement already satisfied: cfgrib in /sw/spack-levante/mambaforge-4.11.0-0-Linux-x86_64-sobz6z/lib/python3.9/site-packages (from gribscan) (0.9.8.5)\n",
      "Requirement already satisfied: numcodecs in /sw/spack-levante/mambaforge-4.11.0-0-Linux-x86_64-sobz6z/lib/python3.9/site-packages (from gribscan) (0.9.1)\n",
      "Requirement already satisfied: cffi in /sw/spack-levante/mambaforge-4.11.0-0-Linux-x86_64-sobz6z/lib/python3.9/site-packages (from cfgrib->gribscan) (1.15.0)\n",
      "Requirement already satisfied: attrs>=19.2 in /sw/spack-levante/mambaforge-4.11.0-0-Linux-x86_64-sobz6z/lib/python3.9/site-packages (from cfgrib->gribscan) (21.4.0)\n",
      "Requirement already satisfied: click in /sw/spack-levante/mambaforge-4.11.0-0-Linux-x86_64-sobz6z/lib/python3.9/site-packages (from cfgrib->gribscan) (7.1.2)\n",
      "Collecting findlibs\n",
      "  Downloading findlibs-0.0.2.tar.gz (6.2 kB)\n",
      "  Preparing metadata (setup.py) ... \u001b[?25ldone\n",
      "\u001b[?25hRequirement already satisfied: pycparser in /sw/spack-levante/mambaforge-4.11.0-0-Linux-x86_64-sobz6z/lib/python3.9/site-packages (from cffi->cfgrib->gribscan) (2.21)\n",
      "Building wheels for collected packages: eccodes, findlibs\n",
      "  Building wheel for eccodes (setup.py) ... \u001b[?25ldone\n",
      "\u001b[?25h  Created wheel for eccodes: filename=eccodes-1.4.2-py3-none-any.whl size=39794 sha256=1c7982c60c807e5c378ae49745558beeb6314163cadbd018fa4f7c7c3bbaa99d\n",
      "  Stored in directory: /home/b/b381639/.cache/pip/wheels/10/f0/83/bc6eecb8345ca9d605a3d7c03e71681c263a79354adac3aaa6\n",
      "  Building wheel for findlibs (setup.py) ... \u001b[?25ldone\n",
      "\u001b[?25h  Created wheel for findlibs: filename=findlibs-0.0.2-py3-none-any.whl size=6546 sha256=985a48108da1cbbb6cf390fe2256fbf0651132d7f7436a392a9812ede31b5ecb\n",
      "  Stored in directory: /home/b/b381639/.cache/pip/wheels/9c/bb/f8/b1f064d8e6faaa316ab4065eab9b8ebfb6e295df1e38532aab\n",
      "Successfully built eccodes findlibs\n",
      "Installing collected packages: findlibs, eccodes, gribscan\n",
      "\u001b[33m  WARNING: The scripts gribscan-build and gribscan-index are installed in '/home/b/b381639/.local/bin' which is not on PATH.\n",
      "  Consider adding this directory to PATH or, if you prefer to suppress this warning, use --no-warn-script-location.\u001b[0m\u001b[33m\n",
      "\u001b[0mSuccessfully installed eccodes-1.4.2 findlibs-0.0.2 gribscan-0.0.4\n"
     ]
    }
   ],
   "source": [
    "!pip install gribscan"
   ]
  },
  {
   "cell_type": "code",
   "execution_count": null,
   "id": "aa6ed187-7ef4-42a1-92ef-77bd30a1f576",
   "metadata": {},
   "outputs": [],
   "source": []
  }
 ],
 "metadata": {
  "kernelspec": {
   "display_name": "Python 3 (based on the module python3/2022.01)",
   "language": "python",
   "name": "python3_2022_01"
  },
  "language_info": {
   "codemirror_mode": {
    "name": "ipython",
    "version": 3
   },
   "file_extension": ".py",
   "mimetype": "text/x-python",
   "name": "python",
   "nbconvert_exporter": "python",
   "pygments_lexer": "ipython3",
   "version": "3.9.9"
  }
 },
 "nbformat": 4,
 "nbformat_minor": 5
}
