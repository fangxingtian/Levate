{
 "cells": [
  {
   "cell_type": "code",
   "execution_count": 1,
   "id": "bf2ea835-3fd2-4b31-b3db-22c1442b6415",
   "metadata": {},
   "outputs": [],
   "source": []
  },
  {
   "cell_type": "code",
   "execution_count": 3,
   "id": "eeb9155f-ca15-4393-8591-a508e023e310",
   "metadata": {},
   "outputs": [],
   "source": [
    "import metpy.calc as mpcalc\n",
    "from metpy.units import units\n",
    "import iris\n",
    "import numpy as np\n",
    "import sys\n",
    "sys.path.append('/pf/b/b381639/Analysis')\n",
    "import fxtian_function as fx\n",
    "from iris.time import PartialDateTime\n",
    "import datetime\n",
    "import cf_units\n",
    "import iris.coord_categorisation\n",
    "import iris.quickplot as qplt\n",
    "import matplotlib.pyplot as plt\n",
    "import numpy as np\n",
    "import xarray as xr\n",
    "import metpy.calc as mpcalc\n",
    "\n",
    "###############\n",
    "# plot ERA5\n",
    "###############\n",
    "\n",
    "f1='/work/bb1153/b381639/NorESM2/hurs_day_NorESM2-LM_historical_r3i1p1f1_gn_2010_tropical_ocean.nc'\n",
    "f2='/work/bb1153/b381639/NorESM2/psl_day_NorESM2-LM_historical_r3i1p1f1_gn_2010_tropical_ocean.nc'\n",
    "f3='/work/bb1153/b381639/NorESM2/tos_Oday_NorESM2-LM_historical_r3i1p1f1_gn_2010_tropical_ocean.nc'\n",
    "f4='/work/bb1153/b381639/NorESM2/tas_day_NorESM2-LM_historical_r3i1p1f1_gn_2010_tropical_ocean.nc'\n",
    "fR=xr.open_dataset(f1)\n",
    "fP=xr.open_dataset(f2)\n",
    "fSST=xr.open_dataset(f3)\n",
    "fTas=xr.open_dataset(f4)\n",
    "R=fR.hurs # kg/kg\n",
    "P=fP.psl\n",
    "SST=fSST.tos  # T in degrees Celsius:\n",
    "Tas=fTas.tas - 273.15\n",
    "\n",
    "relative_humidity=R*units.percent #('kg/kg')\n",
    "pressure=P*units.Pa\n",
    "sst=SST*units.degC\n",
    "temperature=Tas*units.degC"
   ]
  },
  {
   "cell_type": "code",
   "execution_count": 9,
   "id": "b49f1e98-e478-445b-b0a7-d17d8662269a",
   "metadata": {},
   "outputs": [],
   "source": [
    "Mr=mpcalc.mixing_ratio_from_relative_humidity(pressure, temperature, relative_humidity)\n",
    "Q=mpcalc.specific_humidity_from_mixing_ratio(Mr)"
   ]
  },
  {
   "cell_type": "code",
   "execution_count": null,
   "id": "e913da8e-56f0-4c22-9c36-8469d2d0978e",
   "metadata": {},
   "outputs": [],
   "source": []
  },
  {
   "cell_type": "code",
   "execution_count": 10,
   "id": "52360c72-9dda-4b0f-9599-524288295392",
   "metadata": {},
   "outputs": [],
   "source": [
    "Ms=mpcalc.saturation_mixing_ratio(pressure, sst)\n",
    "Qs=mpcalc.specific_humidity_from_mixing_ratio(Ms)\n"
   ]
  },
  {
   "cell_type": "code",
   "execution_count": 11,
   "id": "9fb531d6-61aa-487d-b759-2300f5b000b6",
   "metadata": {},
   "outputs": [],
   "source": [
    "DQ=Qs-Q"
   ]
  },
  {
   "cell_type": "code",
   "execution_count": 15,
   "id": "836366f7-4744-43a6-874e-5f38e65de57c",
   "metadata": {},
   "outputs": [],
   "source": [
    "Qs.to_netcdf(\"/work/bb1153/b381639/NorESM2/Qs_daily_NorESM2.nc\")"
   ]
  },
  {
   "cell_type": "code",
   "execution_count": null,
   "id": "3379dd58-1b87-4b29-be77-ac2606851429",
   "metadata": {},
   "outputs": [],
   "source": []
  },
  {
   "cell_type": "code",
   "execution_count": 5,
   "id": "1386e84a-9edb-43cd-bb9c-67f59333e314",
   "metadata": {},
   "outputs": [],
   "source": []
  },
  {
   "cell_type": "code",
   "execution_count": null,
   "id": "43d89445-0cb9-4249-a492-91bb6d99b76c",
   "metadata": {},
   "outputs": [],
   "source": []
  },
  {
   "cell_type": "code",
   "execution_count": null,
   "id": "f30fba0f-b9cb-4ffb-a862-3942681235e2",
   "metadata": {},
   "outputs": [],
   "source": []
  },
  {
   "cell_type": "code",
   "execution_count": null,
   "id": "11da507d-c15d-47d8-927a-9089397c1d4d",
   "metadata": {},
   "outputs": [],
   "source": []
  },
  {
   "cell_type": "code",
   "execution_count": null,
   "id": "e95385f3-73ef-4b80-ad86-ffe355f193a0",
   "metadata": {},
   "outputs": [],
   "source": []
  },
  {
   "cell_type": "code",
   "execution_count": null,
   "id": "bf6c3be5-64a6-4dcf-9d31-8ca430b3cbd5",
   "metadata": {},
   "outputs": [],
   "source": []
  },
  {
   "cell_type": "code",
   "execution_count": null,
   "id": "a395279c-1efa-4233-8f04-1896e10a996d",
   "metadata": {},
   "outputs": [],
   "source": []
  },
  {
   "cell_type": "code",
   "execution_count": 69,
   "id": "1f8324d9-f097-4f14-ada5-860111e112ea",
   "metadata": {},
   "outputs": [],
   "source": [
    "Es=xr.zeros_like(T)"
   ]
  },
  {
   "cell_type": "code",
   "execution_count": 70,
   "id": "0916831c-fedb-4020-bb8d-8a20fee0473a",
   "metadata": {},
   "outputs": [],
   "source": [
    "Es.data =  611.2 * np.exp(17.67*T.data/(T.data + 243.5)) # Es in pasca T in celsius"
   ]
  },
  {
   "cell_type": "code",
   "execution_count": 71,
   "id": "9128dc55-5543-480b-97b0-a22057befe7c",
   "metadata": {},
   "outputs": [
    {
     "data": {
      "text/plain": [
       "array([      nan,       nan,       nan,       nan,       nan,       nan,\n",
       "             nan,       nan,       nan,       nan,       nan,       nan,\n",
       "             nan,       nan,       nan,       nan,       nan,       nan,\n",
       "             nan,       nan,       nan,       nan,       nan,       nan,\n",
       "             nan,       nan,       nan,       nan,       nan,       nan,\n",
       "             nan,       nan,       nan,       nan,       nan,       nan,\n",
       "             nan,       nan,       nan,       nan,       nan,       nan,\n",
       "             nan,       nan,       nan,       nan,       nan,       nan,\n",
       "             nan,       nan,       nan,       nan,       nan,       nan,\n",
       "             nan,       nan,       nan,       nan,       nan,       nan,\n",
       "             nan,       nan,       nan,       nan,       nan,       nan,\n",
       "             nan,       nan,       nan,       nan,       nan,       nan,\n",
       "             nan,       nan,       nan,       nan,       nan,       nan,\n",
       "             nan,       nan,       nan,       nan,       nan,       nan,\n",
       "             nan,       nan,       nan,       nan,       nan,       nan,\n",
       "             nan,       nan,       nan,       nan,       nan,       nan,\n",
       "             nan,       nan,       nan,       nan,       nan,       nan,\n",
       "             nan,       nan, 4059.973 ,       nan, 3942.821 , 3950.086 ,\n",
       "       3929.0718, 3816.5283, 3771.853 , 3865.5984, 3936.1611, 4036.3313,\n",
       "       4086.4824, 3940.6   , 3835.713 , 3878.2786, 3973.877 , 4025.9172,\n",
       "       4013.5613, 4032.105 , 4030.894 , 4029.8389, 3994.8027, 3980.1492,\n",
       "       3945.7844, 3952.4583, 3971.795 , 3906.977 , 3857.887 , 3749.6843,\n",
       "       3503.8982, 3253.6187, 3160.168 ,       nan, 2787.5083,       nan,\n",
       "             nan,       nan,       nan,       nan,       nan,       nan,\n",
       "             nan,       nan,       nan,       nan,       nan,       nan,\n",
       "             nan,       nan,       nan,       nan,       nan,       nan,\n",
       "       1670.8167, 1944.7599, 1940.6191, 2028.8279, 2086.716 ],\n",
       "      dtype=float32)"
      ]
     },
     "execution_count": 71,
     "metadata": {},
     "output_type": "execute_result"
    }
   ],
   "source": [
    "Es[100,:,50].data"
   ]
  },
  {
   "cell_type": "code",
   "execution_count": 72,
   "id": "2259bdb9-3779-4416-b9ec-e200acf7cd1e",
   "metadata": {},
   "outputs": [],
   "source": [
    "Qs=xr.zeros_like(T)"
   ]
  },
  {
   "cell_type": "code",
   "execution_count": 75,
   "id": "09f368da-d0f5-4be5-8c87-4837ff40545b",
   "metadata": {},
   "outputs": [],
   "source": [
    "Qs.data=0.622*Es/P # Qs in kg/kg"
   ]
  },
  {
   "cell_type": "code",
   "execution_count": 74,
   "id": "52800072-2eeb-4e9c-9880-da9ec9a8aafd",
   "metadata": {},
   "outputs": [
    {
     "data": {
      "text/plain": [
       "array([       nan,        nan,        nan,        nan,        nan,\n",
       "              nan,        nan,        nan,        nan,        nan,\n",
       "              nan,        nan,        nan,        nan,        nan,\n",
       "              nan,        nan,        nan,        nan,        nan,\n",
       "              nan,        nan,        nan,        nan,        nan,\n",
       "              nan,        nan,        nan,        nan,        nan,\n",
       "              nan,        nan,        nan,        nan,        nan,\n",
       "              nan,        nan,        nan,        nan,        nan,\n",
       "              nan,        nan,        nan,        nan,        nan,\n",
       "              nan,        nan,        nan,        nan,        nan,\n",
       "              nan,        nan,        nan,        nan,        nan,\n",
       "              nan,        nan,        nan,        nan,        nan,\n",
       "              nan,        nan,        nan,        nan,        nan,\n",
       "              nan,        nan,        nan,        nan,        nan,\n",
       "              nan,        nan,        nan,        nan,        nan,\n",
       "              nan,        nan,        nan,        nan,        nan,\n",
       "              nan,        nan,        nan,        nan,        nan,\n",
       "              nan,        nan,        nan,        nan,        nan,\n",
       "              nan,        nan,        nan,        nan,        nan,\n",
       "              nan,        nan,        nan,        nan,        nan,\n",
       "              nan,        nan,        nan,        nan, 0.02508783,\n",
       "              nan, 0.02444947, 0.02434219, 0.02420425, 0.02350884,\n",
       "       0.02322451, 0.0238094 , 0.02423946, 0.02485655, 0.02515999,\n",
       "       0.02426485, 0.02361624, 0.02387618, 0.02446844, 0.02478643,\n",
       "       0.02470859, 0.0248212 , 0.02481508, 0.02480858, 0.02459685,\n",
       "       0.02450509, 0.02428656, 0.02433612, 0.02445912, 0.02405265,\n",
       "       0.02375532, 0.02308038, 0.02158447, 0.02009683, 0.01984224,\n",
       "              nan, 0.01768195,        nan,        nan,        nan,\n",
       "              nan,        nan,        nan,        nan,        nan,\n",
       "              nan,        nan,        nan,        nan,        nan,\n",
       "              nan,        nan,        nan,        nan,        nan,\n",
       "              nan, 0.01040215, 0.0120148 , 0.01194955, 0.01246351,\n",
       "       0.01282439], dtype=float32)"
      ]
     },
     "execution_count": 74,
     "metadata": {},
     "output_type": "execute_result"
    }
   ],
   "source": [
    "Qs[100,:,50].data"
   ]
  },
  {
   "cell_type": "code",
   "execution_count": 76,
   "id": "83a28fce-1943-4bb2-b2fa-cd05354823bf",
   "metadata": {},
   "outputs": [],
   "source": [
    "import numpy as np\n",
    "class sounding_df:\n",
    "    \n",
    "    def __init__(self, df):\n",
    "        # this __init__ method is used to create new objects inside the class\n",
    "        self.p = np.array(df['Pressure'])\n",
    "        self.temp = np.array(df['Temp']) # in Kelvin\n",
    "        self.dew = np.array(df['Dewpt']) # in Kelvin\n",
    "        \n",
    "    def spec_humidity(self, latent='water'):\n",
    "        \"\"\"Calculates SH automatically from the dewpt. Returns in g/kg\"\"\"\n",
    "        # Declaring constants\n",
    "        self.e0 = 6.113 # saturation vapor pressure in hPa\n",
    "        # e0 and Pressure have to be in same units\n",
    "        self.c_water = 5423 # L/R for water in Kelvin\n",
    "        self.c_ice = 6139 # L/R for ice in Kelvin\n",
    "        self.T0 = 273.15 # Kelvin\n",
    "        \n",
    "        if latent == 'water' or latent == 'Water':\n",
    "            self.c = self.c_water    # using c for water\n",
    "        \n",
    "        else:\n",
    "            self.c= self.c_ice       # using c_ice for ice, clear state\n",
    "        \n",
    "        # saturation vapor not required, uncomment to calculate it (units in hPa becuase of e0)\n",
    "        #sat_vapor = self.e0 * np.exp((self.c * (self.temp -self.T0))/(self.temp * self.T0)) \n",
    "        \n",
    "        #calculating specific humidity, q directly from dew point temperature\n",
    "        #using equation 4.24, Pg 96 Practical Meteorolgy (Roland Stull)\n",
    "#        self.q = (622 * self.e0 * np.exp(self.c * (self.dew - self.T0)/(self.dew * self.T0)))/self.p # g/kg \n",
    "        self.q = (622 * self.e0/self.p) * np.exp(self.c * (self.dew - self.T0)/(self.dew * self.T0))\n",
    "        # 622 is the ratio of Rd/Rv in g/kg\n",
    "        # where q in the unit of g/kg, e0 and p in the same unit in order to be cancelled out, c, dew and T0 in the unit of K\n",
    "        return self.q"
   ]
  },
  {
   "cell_type": "code",
   "execution_count": null,
   "id": "4a1e02e5-aea9-4ee0-8f12-94cfe28d0aea",
   "metadata": {},
   "outputs": [],
   "source": []
  }
 ],
 "metadata": {
  "kernelspec": {
   "display_name": "Python 3 (based on the module python3/2022.01)",
   "language": "python",
   "name": "python3_2022_01"
  },
  "language_info": {
   "codemirror_mode": {
    "name": "ipython",
    "version": 3
   },
   "file_extension": ".py",
   "mimetype": "text/x-python",
   "name": "python",
   "nbconvert_exporter": "python",
   "pygments_lexer": "ipython3",
   "version": "3.9.9"
  }
 },
 "nbformat": 4,
 "nbformat_minor": 5
}
