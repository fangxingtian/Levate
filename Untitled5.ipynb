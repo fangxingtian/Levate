{
 "cells": [
  {
   "cell_type": "code",
   "execution_count": 42,
   "id": "9889a4d2-ae20-452c-b4ec-012dfb05d11d",
   "metadata": {},
   "outputs": [],
   "source": [
    "# To add a new markdown cell, type '# %% [markdown]'\n",
    "# %%\n",
    "import iris\n",
    "import numpy as np\n",
    "import sys\n",
    "sys.path.append('/pf/b/b381639')\n",
    "import fxtian_function as fx\n",
    "from iris.time import PartialDateTime\n",
    "import datetime\n",
    "import cf_units\n",
    "import iris.coord_categorisation\n",
    "import iris.quickplot as qplt\n",
    "import matplotlib.pyplot as plt\n",
    "import numpy as np\n",
    "import xarray as ar"
   ]
  },
  {
   "cell_type": "code",
   "execution_count": 46,
   "id": "2a8a454b-ce7a-403a-8f6c-9838d69d6ac2",
   "metadata": {},
   "outputs": [],
   "source": [
    "# %% list of data to read in\n",
    "def data_dict(myid):\n",
    "    if myid == 'sst':\n",
    "        mydict = {\n",
    "            'indir': '/work/bb1153/b381639/ERA5',\n",
    "            'infile': '/work/bb1153/b381639/ERA5/SST_daymean_2020.nc',\n",
    "            'key': iris.Constraint(cube_func=(lambda c: c.var_name == 'sst'))\n",
    "        }\n",
    "    if myid == 'ws':\n",
    "        mydict = {\n",
    "            'indir': '/work/bb1153/b381639/ERA5',\n",
    "            'infile': '/work/bb1153/b381639/ERA5/windspeed10_daymean_2020.nc',\n",
    "            'key': iris.Constraint(cube_func=(lambda c: c.var_name == 'ws'))\n",
    "        }\n",
    "    elif myid == 'slhf':\n",
    "        mydict = {\n",
    "            'indir': '/work/bb1153/b381639/ERA5',\n",
    "            'infile': '/work/bb1153/b381639/ERA5/SLHF_daymean_2020.nc',\n",
    "            'key': iris.Constraint(cube_func=(lambda c: c.var_name == 'slhf'))\n",
    "        }\n",
    "\n",
    "    elif myid == 'sshf':\n",
    "        mydict = {\n",
    "            'indir': '/work/bb1153/b381639/ERA5',\n",
    "            'infile': '/work/bb1153/b381639/ERA5/SSHF_daymean_2020.nc',\n",
    "            'key': iris.Constraint(cube_func=(lambda c: c.var_name == 'sshf'))\n",
    "        }\n",
    "\n",
    "    return(mydict)\n"
   ]
  },
  {
   "cell_type": "code",
   "execution_count": 47,
   "id": "68e2c796-12d0-4983-9002-cfa07784b983",
   "metadata": {},
   "outputs": [
    {
     "name": "stdout",
     "output_type": "stream",
     "text": [
      "--> sshf\n",
      "--> ws\n"
     ]
    }
   ],
   "source": [
    "## create correct time cubelist to save output data\n",
    "cubelist_ct = iris.cube.CubeList()\n",
    "\n",
    "##readin sfcwind\n",
    "datasets=['sshf','ws']  #['ERAI']  # ['u-bt405','u-bt406','u-bm213','u-be034','u-bd818']\n",
    "for my_dataset in datasets:\n",
    "    print('--> '+my_dataset)\n",
    "    mydict = data_dict(my_dataset)\n",
    "    datain = iris.load_cube(mydict['infile'],mydict['key'])\n",
    "#    data_time= fx.correct_time(datain)\n",
    "\n",
    "    cubelist_ct.append(datain)"
   ]
  },
  {
   "cell_type": "code",
   "execution_count": 48,
   "id": "19b0678a-4db8-4d1c-a7df-444138d4ad48",
   "metadata": {},
   "outputs": [],
   "source": [
    "#############################\n",
    "##select region covers EURE4A\n",
    "#############################\n",
    "left = 0\n",
    "right = 360\n",
    "bottom = -20\n",
    "top = 20\n",
    "y=fx.selregion(cubelist_ct[0],bottom,top,left,right)\n",
    "x=fx.selregion(cubelist_ct[1],bottom,top,left,right)"
   ]
  },
  {
   "cell_type": "code",
   "execution_count": null,
   "id": "ba3c2eb8-f3e0-4a72-9ff0-2fb6116ae1cb",
   "metadata": {},
   "outputs": [],
   "source": []
  },
  {
   "cell_type": "code",
   "execution_count": 38,
   "id": "a969a556-8e93-4c71-b5d1-38fd5dd1e778",
   "metadata": {},
   "outputs": [],
   "source": [
    "x1=x[:,0,50:,10]\n",
    "y1=y[:,0,55:,10]\n"
   ]
  },
  {
   "cell_type": "code",
   "execution_count": 39,
   "id": "d65a99c0-2a76-4ed5-af4f-b1caf1ffad0c",
   "metadata": {},
   "outputs": [
    {
     "data": {
      "text/plain": [
       "masked_array(\n",
       "  data=[[2.60889768, 2.67710886, 2.74980398, ..., 7.58439891, 7.60991936,\n",
       "         7.63046857],\n",
       "        [2.86692984, 2.91786195, 3.12783586, ..., 6.95373332, 7.0092746 ,\n",
       "         7.10507021],\n",
       "        [5.00832765, 4.90515099, 4.74950275, ..., 6.02418941, 6.02489686,\n",
       "         6.01158851],\n",
       "        ...,\n",
       "        [3.00336151, 3.18585577, 3.67450283, ..., 5.88553899, 5.84542675,\n",
       "         5.72357408],\n",
       "        [3.01556574, 3.02993055, 3.12848941, ..., 6.16641653, 6.22495392,\n",
       "         6.30980682],\n",
       "        [4.4763375 , 4.5326809 , 4.56014016, ..., 6.63285044, 6.91544359,\n",
       "         7.03218769]],\n",
       "  mask=False,\n",
       "  fill_value=-32767.0)"
      ]
     },
     "execution_count": 39,
     "metadata": {},
     "output_type": "execute_result"
    }
   ],
   "source": [
    "x1.data"
   ]
  },
  {
   "cell_type": "code",
   "execution_count": null,
   "id": "192caaa0-6b66-4484-a1b9-390c5490ca13",
   "metadata": {},
   "outputs": [],
   "source": [
    "regyonx=fx.regress_yonx(x,y)"
   ]
  },
  {
   "cell_type": "code",
   "execution_count": null,
   "id": "b8a90f57-5bee-4035-aa2d-2128590a75f2",
   "metadata": {},
   "outputs": [],
   "source": []
  }
 ],
 "metadata": {
  "kernelspec": {
   "display_name": "Python 3 (based on the module python3/2022.01)",
   "language": "python",
   "name": "python3_2022_01"
  },
  "language_info": {
   "codemirror_mode": {
    "name": "ipython",
    "version": 3
   },
   "file_extension": ".py",
   "mimetype": "text/x-python",
   "name": "python",
   "nbconvert_exporter": "python",
   "pygments_lexer": "ipython3",
   "version": "3.9.9"
  }
 },
 "nbformat": 4,
 "nbformat_minor": 5
}
